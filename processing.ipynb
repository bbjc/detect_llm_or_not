{
 "cells": [
  {
   "cell_type": "code",
   "execution_count": 1,
   "id": "6428058f-7d18-487b-981a-07e9f933f170",
   "metadata": {
    "execution": {
     "iopub.execute_input": "2025-03-04T14:12:24.978038Z",
     "iopub.status.busy": "2025-03-04T14:12:24.977730Z",
     "iopub.status.idle": "2025-03-04T14:12:25.649369Z",
     "shell.execute_reply": "2025-03-04T14:12:25.645361Z",
     "shell.execute_reply.started": "2025-03-04T14:12:24.978012Z"
    }
   },
   "outputs": [],
   "source": [
    "import pandas as pd\n"
   ]
  },
  {
   "cell_type": "code",
   "execution_count": 8,
   "id": "fc891935-ebd2-4124-afae-8c63a27cad55",
   "metadata": {
    "execution": {
     "iopub.execute_input": "2025-03-04T14:23:08.261854Z",
     "iopub.status.busy": "2025-03-04T14:23:08.261360Z",
     "iopub.status.idle": "2025-03-04T14:23:09.469257Z",
     "shell.execute_reply": "2025-03-04T14:23:09.468337Z",
     "shell.execute_reply.started": "2025-03-04T14:23:08.261854Z"
    }
   },
   "outputs": [
    {
     "data": {
      "text/html": [
       "<div>\n",
       "<style scoped>\n",
       "    .dataframe tbody tr th:only-of-type {\n",
       "        vertical-align: middle;\n",
       "    }\n",
       "\n",
       "    .dataframe tbody tr th {\n",
       "        vertical-align: top;\n",
       "    }\n",
       "\n",
       "    .dataframe thead th {\n",
       "        text-align: right;\n",
       "    }\n",
       "</style>\n",
       "<table border=\"1\" class=\"dataframe\">\n",
       "  <thead>\n",
       "    <tr style=\"text-align: right;\">\n",
       "      <th></th>\n",
       "      <th>text</th>\n",
       "      <th>label</th>\n",
       "      <th>prompt_name</th>\n",
       "      <th>source</th>\n",
       "      <th>RDizzl3_seven</th>\n",
       "    </tr>\n",
       "  </thead>\n",
       "  <tbody>\n",
       "    <tr>\n",
       "      <th>0</th>\n",
       "      <td>Phones\\n\\nModern humans today are always on th...</td>\n",
       "      <td>0</td>\n",
       "      <td>Phones and driving</td>\n",
       "      <td>persuade_corpus</td>\n",
       "      <td>False</td>\n",
       "    </tr>\n",
       "    <tr>\n",
       "      <th>1</th>\n",
       "      <td>This essay will explain if drivers should or s...</td>\n",
       "      <td>0</td>\n",
       "      <td>Phones and driving</td>\n",
       "      <td>persuade_corpus</td>\n",
       "      <td>False</td>\n",
       "    </tr>\n",
       "    <tr>\n",
       "      <th>2</th>\n",
       "      <td>Driving while the use of cellular devices\\n\\nT...</td>\n",
       "      <td>0</td>\n",
       "      <td>Phones and driving</td>\n",
       "      <td>persuade_corpus</td>\n",
       "      <td>False</td>\n",
       "    </tr>\n",
       "    <tr>\n",
       "      <th>3</th>\n",
       "      <td>Phones &amp; Driving\\n\\nDrivers should not be able...</td>\n",
       "      <td>0</td>\n",
       "      <td>Phones and driving</td>\n",
       "      <td>persuade_corpus</td>\n",
       "      <td>False</td>\n",
       "    </tr>\n",
       "    <tr>\n",
       "      <th>4</th>\n",
       "      <td>Cell Phone Operation While Driving\\n\\nThe abil...</td>\n",
       "      <td>0</td>\n",
       "      <td>Phones and driving</td>\n",
       "      <td>persuade_corpus</td>\n",
       "      <td>False</td>\n",
       "    </tr>\n",
       "  </tbody>\n",
       "</table>\n",
       "</div>"
      ],
      "text/plain": [
       "                                                text  label  \\\n",
       "0  Phones\\n\\nModern humans today are always on th...      0   \n",
       "1  This essay will explain if drivers should or s...      0   \n",
       "2  Driving while the use of cellular devices\\n\\nT...      0   \n",
       "3  Phones & Driving\\n\\nDrivers should not be able...      0   \n",
       "4  Cell Phone Operation While Driving\\n\\nThe abil...      0   \n",
       "\n",
       "          prompt_name           source  RDizzl3_seven  \n",
       "0  Phones and driving  persuade_corpus          False  \n",
       "1  Phones and driving  persuade_corpus          False  \n",
       "2  Phones and driving  persuade_corpus          False  \n",
       "3  Phones and driving  persuade_corpus          False  \n",
       "4  Phones and driving  persuade_corpus          False  "
      ]
     },
     "execution_count": 8,
     "metadata": {},
     "output_type": "execute_result"
    }
   ],
   "source": [
    "df = pd.read_csv('/datasets/data/train_v2_drcat_02.csv')\n",
    "df.head()"
   ]
  },
  {
   "cell_type": "code",
   "execution_count": 6,
   "id": "564b5c38-2c94-4d03-9256-a60757d6ff0e",
   "metadata": {
    "execution": {
     "iopub.execute_input": "2025-03-04T14:17:40.471846Z",
     "iopub.status.busy": "2025-03-04T14:17:40.471530Z",
     "iopub.status.idle": "2025-03-04T14:17:40.487210Z",
     "shell.execute_reply": "2025-03-04T14:17:40.486153Z",
     "shell.execute_reply.started": "2025-03-04T14:17:40.471821Z"
    }
   },
   "outputs": [
    {
     "data": {
      "text/plain": [
       "prompt_name\n",
       "Distance learning                        5554\n",
       "Seeking multiple opinions                5176\n",
       "Car-free cities                          4717\n",
       "Does the electoral college work?         4434\n",
       "Facial action coding system              3084\n",
       "Mandatory extracurricular activities     3077\n",
       "Summer projects                          2701\n",
       "Driverless cars                          2250\n",
       "Exploring Venus                          2176\n",
       "Cell phones at school                    2119\n",
       "Grades for extracurricular activities    2116\n",
       "Community service                        2092\n",
       "\"A Cowboy Who Rode the Waves\"            1896\n",
       "The Face on Mars                         1893\n",
       "Phones and driving                       1583\n",
       "Name: count, dtype: int64"
      ]
     },
     "execution_count": 6,
     "metadata": {},
     "output_type": "execute_result"
    }
   ],
   "source": [
    "df[\"prompt_name\"].value_counts()"
   ]
  },
  {
   "cell_type": "code",
   "execution_count": 10,
   "id": "d10403fb-493c-4b8c-97cf-7b3b46fb1028",
   "metadata": {
    "execution": {
     "iopub.execute_input": "2025-03-04T14:24:22.740567Z",
     "iopub.status.busy": "2025-03-04T14:24:22.739198Z",
     "iopub.status.idle": "2025-03-04T14:24:22.745762Z",
     "shell.execute_reply": "2025-03-04T14:24:22.744327Z",
     "shell.execute_reply.started": "2025-03-04T14:24:22.740524Z"
    }
   },
   "outputs": [],
   "source": [
    "from datasets import Dataset\n",
    "from transformers import AutoTokenizer"
   ]
  },
  {
   "cell_type": "code",
   "execution_count": 12,
   "id": "5a976358-78aa-4067-aba6-33810788161c",
   "metadata": {
    "execution": {
     "iopub.execute_input": "2025-03-04T14:24:49.243971Z",
     "iopub.status.busy": "2025-03-04T14:24:49.243971Z",
     "iopub.status.idle": "2025-03-04T14:24:49.512260Z",
     "shell.execute_reply": "2025-03-04T14:24:49.511132Z",
     "shell.execute_reply.started": "2025-03-04T14:24:49.243971Z"
    }
   },
   "outputs": [
    {
     "data": {
      "text/plain": [
       "Dataset({\n",
       "    features: ['text', 'label', 'prompt_name', 'source', 'RDizzl3_seven'],\n",
       "    num_rows: 44868\n",
       "})"
      ]
     },
     "execution_count": 12,
     "metadata": {},
     "output_type": "execute_result"
    }
   ],
   "source": [
    "dataset = Dataset.from_pandas(df)\n",
    "dataset"
   ]
  },
  {
   "cell_type": "code",
   "execution_count": 13,
   "id": "35cc7b9c-6825-4c02-9c51-32a5ace71001",
   "metadata": {
    "execution": {
     "iopub.execute_input": "2025-03-04T14:25:25.140425Z",
     "iopub.status.busy": "2025-03-04T14:25:25.140048Z",
     "iopub.status.idle": "2025-03-04T14:25:26.047246Z",
     "shell.execute_reply": "2025-03-04T14:25:26.047246Z",
     "shell.execute_reply.started": "2025-03-04T14:25:25.140399Z"
    }
   },
   "outputs": [
    {
     "data": {
      "application/vnd.jupyter.widget-view+json": {
       "model_id": "2e7740ff3a51472f9bcebb4c8ceedb38",
       "version_major": 2,
       "version_minor": 0
      },
      "text/plain": [
       "tokenizer_config.json:   0%|          | 0.00/48.0 [00:00<?, ?B/s]"
      ]
     },
     "metadata": {},
     "output_type": "display_data"
    },
    {
     "data": {
      "application/vnd.jupyter.widget-view+json": {
       "model_id": "a9eacbe32d1246eb8c65e35b6ea94961",
       "version_major": 2,
       "version_minor": 0
      },
      "text/plain": [
       "config.json:   0%|          | 0.00/570 [00:00<?, ?B/s]"
      ]
     },
     "metadata": {},
     "output_type": "display_data"
    },
    {
     "data": {
      "application/vnd.jupyter.widget-view+json": {
       "model_id": "ae8525de55244563bf32b966ffe4cb23",
       "version_major": 2,
       "version_minor": 0
      },
      "text/plain": [
       "vocab.txt:   0%|          | 0.00/232k [00:00<?, ?B/s]"
      ]
     },
     "metadata": {},
     "output_type": "display_data"
    },
    {
     "data": {
      "application/vnd.jupyter.widget-view+json": {
       "model_id": "3ac1f03e12904375bf5d415e48e2d9b2",
       "version_major": 2,
       "version_minor": 0
      },
      "text/plain": [
       "tokenizer.json:   0%|          | 0.00/466k [00:00<?, ?B/s]"
      ]
     },
     "metadata": {},
     "output_type": "display_data"
    }
   ],
   "source": [
    "tokenizer = AutoTokenizer.from_pretrained(\"bert-base-uncased\")\n",
    "def tokenize_function(examples):\n",
    "    return tokenizer(examples[\"text\"], truncation=True, padding=\"max_length\")"
   ]
  },
  {
   "cell_type": "code",
   "execution_count": 14,
   "id": "98b42946-3140-44d4-bf26-34ddb06c76f3",
   "metadata": {
    "execution": {
     "iopub.execute_input": "2025-03-04T14:26:03.557261Z",
     "iopub.status.busy": "2025-03-04T14:26:03.556051Z",
     "iopub.status.idle": "2025-03-04T14:26:39.740935Z",
     "shell.execute_reply": "2025-03-04T14:26:39.739528Z",
     "shell.execute_reply.started": "2025-03-04T14:26:03.557221Z"
    }
   },
   "outputs": [
    {
     "data": {
      "application/vnd.jupyter.widget-view+json": {
       "model_id": "6fb2f032f78b4ef2bf80d6b72ba47f9f",
       "version_major": 2,
       "version_minor": 0
      },
      "text/plain": [
       "Map:   0%|          | 0/44868 [00:00<?, ? examples/s]"
      ]
     },
     "metadata": {},
     "output_type": "display_data"
    }
   ],
   "source": [
    "dataset = dataset.map(tokenize_function, batched=True)\n",
    "dataset = dataset.train_test_split(test_size=0.2)"
   ]
  },
  {
   "cell_type": "code",
   "execution_count": null,
   "id": "1ce43eec-76b6-45ce-b6ed-2c83eeb6f21c",
   "metadata": {
    "execution": {
     "iopub.execute_input": "2025-03-04T14:28:00.346233Z",
     "iopub.status.busy": "2025-03-04T14:28:00.345913Z"
    }
   },
   "outputs": [
    {
     "data": {
      "application/vnd.jupyter.widget-view+json": {
       "model_id": "685aec6e40d34dd59265ff9809a017f6",
       "version_major": 2,
       "version_minor": 0
      },
      "text/plain": [
       "model.safetensors:   0%|          | 0.00/440M [00:00<?, ?B/s]"
      ]
     },
     "metadata": {},
     "output_type": "display_data"
    },
    {
     "name": "stderr",
     "output_type": "stream",
     "text": [
      "Some weights of BertForSequenceClassification were not initialized from the model checkpoint at bert-base-uncased and are newly initialized: ['classifier.weight', 'classifier.bias']\n",
      "You should probably TRAIN this model on a down-stream task to be able to use it for predictions and inference.\n",
      "\u001b[34m\u001b[1mwandb\u001b[0m: Logging into wandb.ai. (Learn how to deploy a W&B server locally: https://wandb.me/wandb-server)\n",
      "\u001b[34m\u001b[1mwandb\u001b[0m: You can find your API key in your browser here: https://wandb.ai/authorize\n",
      "\u001b[34m\u001b[1mwandb\u001b[0m: Paste an API key from your profile and hit enter, or press ctrl+c to quit:"
     ]
    },
    {
     "name": "stdin",
     "output_type": "stream",
     "text": [
      "  ········································\n"
     ]
    },
    {
     "name": "stderr",
     "output_type": "stream",
     "text": [
      "\u001b[34m\u001b[1mwandb\u001b[0m: Appending key for api.wandb.ai to your netrc file: /root/.netrc\n"
     ]
    },
    {
     "data": {
      "text/html": [
       "wandb version 0.19.7 is available!  To upgrade, please run:\n",
       " $ pip install wandb --upgrade"
      ],
      "text/plain": [
       "<IPython.core.display.HTML object>"
      ]
     },
     "metadata": {},
     "output_type": "display_data"
    },
    {
     "data": {
      "text/html": [
       "Tracking run with wandb version 0.15.10"
      ],
      "text/plain": [
       "<IPython.core.display.HTML object>"
      ]
     },
     "metadata": {},
     "output_type": "display_data"
    },
    {
     "data": {
      "text/html": [
       "Run data is saved locally in <code>/notebooks/wandb/run-20250304_143043-wi3n7wsa</code>"
      ],
      "text/plain": [
       "<IPython.core.display.HTML object>"
      ]
     },
     "metadata": {},
     "output_type": "display_data"
    },
    {
     "data": {
      "text/html": [
       "Syncing run <strong><a href='https://wandb.ai/blebakacedrick-imt-atlantique/huggingface/runs/wi3n7wsa' target=\"_blank\">skilled-aardvark-1</a></strong> to <a href='https://wandb.ai/blebakacedrick-imt-atlantique/huggingface' target=\"_blank\">Weights & Biases</a> (<a href='https://wandb.me/run' target=\"_blank\">docs</a>)<br/>"
      ],
      "text/plain": [
       "<IPython.core.display.HTML object>"
      ]
     },
     "metadata": {},
     "output_type": "display_data"
    },
    {
     "data": {
      "text/html": [
       " View project at <a href='https://wandb.ai/blebakacedrick-imt-atlantique/huggingface' target=\"_blank\">https://wandb.ai/blebakacedrick-imt-atlantique/huggingface</a>"
      ],
      "text/plain": [
       "<IPython.core.display.HTML object>"
      ]
     },
     "metadata": {},
     "output_type": "display_data"
    },
    {
     "data": {
      "text/html": [
       " View run at <a href='https://wandb.ai/blebakacedrick-imt-atlantique/huggingface/runs/wi3n7wsa' target=\"_blank\">https://wandb.ai/blebakacedrick-imt-atlantique/huggingface/runs/wi3n7wsa</a>"
      ],
      "text/plain": [
       "<IPython.core.display.HTML object>"
      ]
     },
     "metadata": {},
     "output_type": "display_data"
    },
    {
     "data": {
      "text/html": [
       "\n",
       "    <div>\n",
       "      \n",
       "      <progress value='8379' max='13461' style='width:300px; height:20px; vertical-align: middle;'></progress>\n",
       "      [ 8379/13461 1:36:54 < 58:47, 1.44 it/s, Epoch 1.87/3]\n",
       "    </div>\n",
       "    <table border=\"1\" class=\"dataframe\">\n",
       "  <thead>\n",
       " <tr style=\"text-align: left;\">\n",
       "      <th>Epoch</th>\n",
       "      <th>Training Loss</th>\n",
       "      <th>Validation Loss</th>\n",
       "    </tr>\n",
       "  </thead>\n",
       "  <tbody>\n",
       "    <tr>\n",
       "      <td>1</td>\n",
       "      <td>0.054500</td>\n",
       "      <td>0.028150</td>\n",
       "    </tr>\n",
       "  </tbody>\n",
       "</table><p>"
      ],
      "text/plain": [
       "<IPython.core.display.HTML object>"
      ]
     },
     "metadata": {},
     "output_type": "display_data"
    }
   ],
   "source": [
    "from transformers import AutoModelForSequenceClassification, TrainingArguments, Trainer\n",
    "\n",
    "model = AutoModelForSequenceClassification.from_pretrained(\"bert-base-uncased\", num_labels=2)\n",
    "\n",
    "training_args = TrainingArguments(\n",
    "    output_dir=\"./results\",\n",
    "    evaluation_strategy=\"epoch\",\n",
    "    per_device_train_batch_size=8,\n",
    "    per_device_eval_batch_size=8,\n",
    "    num_train_epochs=3\n",
    ")\n",
    "\n",
    "trainer = Trainer(\n",
    "    model=model,\n",
    "    args=training_args,\n",
    "    train_dataset=dataset[\"train\"],\n",
    "    eval_dataset=dataset[\"test\"]\n",
    ")\n",
    "\n",
    "trainer.train()\n"
   ]
  }
 ],
 "metadata": {
  "kernelspec": {
   "display_name": "Python 3 (ipykernel)",
   "language": "python",
   "name": "python3"
  },
  "language_info": {
   "codemirror_mode": {
    "name": "ipython",
    "version": 3
   },
   "file_extension": ".py",
   "mimetype": "text/x-python",
   "name": "python",
   "nbconvert_exporter": "python",
   "pygments_lexer": "ipython3",
   "version": "3.11.7"
  }
 },
 "nbformat": 4,
 "nbformat_minor": 5
}
