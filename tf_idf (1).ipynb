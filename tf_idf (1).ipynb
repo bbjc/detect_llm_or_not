{
 "cells": [
  {
   "cell_type": "markdown",
   "id": "18fbf4e8-bcc9-45f7-b81f-5a9a5197a22a",
   "metadata": {},
   "source": [
    "# AML NLP project"
   ]
  },
  {
   "cell_type": "markdown",
   "id": "905eeea1-7997-4b17-a133-512dec8a77ed",
   "metadata": {},
   "source": [
    "## Import libraries"
   ]
  },
  {
   "cell_type": "code",
   "execution_count": 1,
   "id": "2df36a16-6cb2-4b73-b7e4-98eac33d262e",
   "metadata": {
    "execution": {
     "iopub.execute_input": "2025-03-11T08:47:32.128295Z",
     "iopub.status.busy": "2025-03-11T08:47:32.128008Z",
     "iopub.status.idle": "2025-03-11T08:47:35.680468Z",
     "shell.execute_reply": "2025-03-11T08:47:35.679614Z",
     "shell.execute_reply.started": "2025-03-11T08:47:32.128275Z"
    }
   },
   "outputs": [
    {
     "name": "stderr",
     "output_type": "stream",
     "text": [
      "[nltk_data] Downloading package punkt_tab to /root/nltk_data...\n",
      "[nltk_data]   Unzipping tokenizers/punkt_tab.zip.\n"
     ]
    }
   ],
   "source": [
    "import pandas as pd\n",
    "import seaborn as sns\n",
    "import numpy as np\n",
    "import nltk\n",
    "nltk.download('punkt_tab')\n",
    "from nltk import tokenize\n",
    "from matplotlib import pyplot as plt\n",
    "import sklearn\n",
    "from sklearn.model_selection import train_test_split\n",
    "from sklearn.feature_extraction.text import TfidfVectorizer\n",
    "from sklearn import linear_model, metrics\n"
   ]
  },
  {
   "cell_type": "markdown",
   "id": "386bbfba-5c68-4513-a56d-c8635cfaee2b",
   "metadata": {},
   "source": [
    "## Read data"
   ]
  },
  {
   "cell_type": "markdown",
   "id": "648ea765-2ff6-4afb-89f5-3b8a3d0cea29",
   "metadata": {},
   "source": [
    "Data can be found here : https://www.kaggle.com/datasets/thedrcat/daigt-v2-train-dataset/data"
   ]
  },
  {
   "cell_type": "code",
   "execution_count": 2,
   "id": "1fddc888-e7f5-42db-bb8f-066810d0d041",
   "metadata": {},
   "outputs": [],
   "source": [
    "#text_data = pd.read_csv(\"../data/train_v2_drcat_02.csv\")"
   ]
  },
  {
   "cell_type": "code",
   "execution_count": 2,
   "id": "00baa226-8f37-4737-830e-f5649cb65afc",
   "metadata": {
    "execution": {
     "iopub.execute_input": "2025-03-11T08:47:41.147866Z",
     "iopub.status.busy": "2025-03-11T08:47:41.146975Z",
     "iopub.status.idle": "2025-03-11T08:47:42.256817Z",
     "shell.execute_reply": "2025-03-11T08:47:42.256203Z",
     "shell.execute_reply.started": "2025-03-11T08:47:41.147834Z"
    }
   },
   "outputs": [],
   "source": [
    "text_data = pd.read_csv(\"/datasets/data/train_v2_drcat_02.csv\")"
   ]
  },
  {
   "cell_type": "code",
   "execution_count": 3,
   "id": "16f139e0-4205-49e6-88b5-626e862b2e00",
   "metadata": {
    "execution": {
     "iopub.execute_input": "2025-03-11T08:47:44.487365Z",
     "iopub.status.busy": "2025-03-11T08:47:44.487127Z",
     "iopub.status.idle": "2025-03-11T08:47:44.501888Z",
     "shell.execute_reply": "2025-03-11T08:47:44.501355Z",
     "shell.execute_reply.started": "2025-03-11T08:47:44.487346Z"
    }
   },
   "outputs": [
    {
     "data": {
      "text/html": [
       "<div>\n",
       "<style scoped>\n",
       "    .dataframe tbody tr th:only-of-type {\n",
       "        vertical-align: middle;\n",
       "    }\n",
       "\n",
       "    .dataframe tbody tr th {\n",
       "        vertical-align: top;\n",
       "    }\n",
       "\n",
       "    .dataframe thead th {\n",
       "        text-align: right;\n",
       "    }\n",
       "</style>\n",
       "<table border=\"1\" class=\"dataframe\">\n",
       "  <thead>\n",
       "    <tr style=\"text-align: right;\">\n",
       "      <th></th>\n",
       "      <th>text</th>\n",
       "      <th>label</th>\n",
       "      <th>prompt_name</th>\n",
       "      <th>source</th>\n",
       "      <th>RDizzl3_seven</th>\n",
       "    </tr>\n",
       "  </thead>\n",
       "  <tbody>\n",
       "    <tr>\n",
       "      <th>0</th>\n",
       "      <td>Phones\\n\\nModern humans today are always on th...</td>\n",
       "      <td>0</td>\n",
       "      <td>Phones and driving</td>\n",
       "      <td>persuade_corpus</td>\n",
       "      <td>False</td>\n",
       "    </tr>\n",
       "    <tr>\n",
       "      <th>1</th>\n",
       "      <td>This essay will explain if drivers should or s...</td>\n",
       "      <td>0</td>\n",
       "      <td>Phones and driving</td>\n",
       "      <td>persuade_corpus</td>\n",
       "      <td>False</td>\n",
       "    </tr>\n",
       "    <tr>\n",
       "      <th>2</th>\n",
       "      <td>Driving while the use of cellular devices\\n\\nT...</td>\n",
       "      <td>0</td>\n",
       "      <td>Phones and driving</td>\n",
       "      <td>persuade_corpus</td>\n",
       "      <td>False</td>\n",
       "    </tr>\n",
       "    <tr>\n",
       "      <th>3</th>\n",
       "      <td>Phones &amp; Driving\\n\\nDrivers should not be able...</td>\n",
       "      <td>0</td>\n",
       "      <td>Phones and driving</td>\n",
       "      <td>persuade_corpus</td>\n",
       "      <td>False</td>\n",
       "    </tr>\n",
       "    <tr>\n",
       "      <th>4</th>\n",
       "      <td>Cell Phone Operation While Driving\\n\\nThe abil...</td>\n",
       "      <td>0</td>\n",
       "      <td>Phones and driving</td>\n",
       "      <td>persuade_corpus</td>\n",
       "      <td>False</td>\n",
       "    </tr>\n",
       "  </tbody>\n",
       "</table>\n",
       "</div>"
      ],
      "text/plain": [
       "                                                text  label  \\\n",
       "0  Phones\\n\\nModern humans today are always on th...      0   \n",
       "1  This essay will explain if drivers should or s...      0   \n",
       "2  Driving while the use of cellular devices\\n\\nT...      0   \n",
       "3  Phones & Driving\\n\\nDrivers should not be able...      0   \n",
       "4  Cell Phone Operation While Driving\\n\\nThe abil...      0   \n",
       "\n",
       "          prompt_name           source  RDizzl3_seven  \n",
       "0  Phones and driving  persuade_corpus          False  \n",
       "1  Phones and driving  persuade_corpus          False  \n",
       "2  Phones and driving  persuade_corpus          False  \n",
       "3  Phones and driving  persuade_corpus          False  \n",
       "4  Phones and driving  persuade_corpus          False  "
      ]
     },
     "execution_count": 3,
     "metadata": {},
     "output_type": "execute_result"
    }
   ],
   "source": [
    "text_data.head()"
   ]
  },
  {
   "cell_type": "code",
   "execution_count": 4,
   "id": "dd39fbf1-c14c-4e66-a43a-3defe1905fbf",
   "metadata": {
    "execution": {
     "iopub.execute_input": "2025-03-11T08:47:52.048559Z",
     "iopub.status.busy": "2025-03-11T08:47:52.048132Z",
     "iopub.status.idle": "2025-03-11T08:47:52.297781Z",
     "shell.execute_reply": "2025-03-11T08:47:52.297329Z",
     "shell.execute_reply.started": "2025-03-11T08:47:52.048539Z"
    }
   },
   "outputs": [
    {
     "data": {
      "text/plain": [
       "text             44868\n",
       "label                2\n",
       "prompt_name         15\n",
       "source              17\n",
       "RDizzl3_seven        2\n",
       "dtype: int64"
      ]
     },
     "execution_count": 4,
     "metadata": {},
     "output_type": "execute_result"
    }
   ],
   "source": [
    "text_data.nunique()"
   ]
  },
  {
   "cell_type": "markdown",
   "id": "8907e4ca-4604-4f4b-9c18-d2362651c6e0",
   "metadata": {},
   "source": [
    "Let's keep the original prompts"
   ]
  },
  {
   "cell_type": "code",
   "execution_count": 5,
   "id": "60564f61-d2c5-48c8-9686-e0c10e37b8a6",
   "metadata": {
    "execution": {
     "iopub.execute_input": "2025-03-11T08:48:18.123085Z",
     "iopub.status.busy": "2025-03-11T08:48:18.122364Z",
     "iopub.status.idle": "2025-03-11T08:48:18.140448Z",
     "shell.execute_reply": "2025-03-11T08:48:18.139886Z",
     "shell.execute_reply.started": "2025-03-11T08:48:18.123050Z"
    }
   },
   "outputs": [],
   "source": [
    "seven_text_data = text_data[text_data['RDizzl3_seven'] == True]"
   ]
  },
  {
   "cell_type": "code",
   "execution_count": 6,
   "id": "9ff06141-d064-42c0-96d6-34db9a044998",
   "metadata": {
    "execution": {
     "iopub.execute_input": "2025-03-11T08:48:22.120475Z",
     "iopub.status.busy": "2025-03-11T08:48:22.120205Z",
     "iopub.status.idle": "2025-03-11T08:48:22.223062Z",
     "shell.execute_reply": "2025-03-11T08:48:22.222622Z",
     "shell.execute_reply.started": "2025-03-11T08:48:22.120454Z"
    }
   },
   "outputs": [
    {
     "data": {
      "text/plain": [
       "text             20450\n",
       "label                2\n",
       "prompt_name          7\n",
       "source              17\n",
       "RDizzl3_seven        1\n",
       "dtype: int64"
      ]
     },
     "execution_count": 6,
     "metadata": {},
     "output_type": "execute_result"
    }
   ],
   "source": [
    "seven_text_data.nunique()"
   ]
  },
  {
   "cell_type": "markdown",
   "id": "fe5288c2-0ac5-4691-999c-29c9c7a00709",
   "metadata": {},
   "source": [
    "Here we can see that we have 7 different prompts left."
   ]
  },
  {
   "cell_type": "code",
   "execution_count": 7,
   "id": "6e859d87-45e2-4e14-947b-5b16fa61222e",
   "metadata": {
    "execution": {
     "iopub.execute_input": "2025-03-11T08:48:25.635747Z",
     "iopub.status.busy": "2025-03-11T08:48:25.635152Z",
     "iopub.status.idle": "2025-03-11T08:48:25.640329Z",
     "shell.execute_reply": "2025-03-11T08:48:25.639749Z",
     "shell.execute_reply.started": "2025-03-11T08:48:25.635708Z"
    }
   },
   "outputs": [
    {
     "data": {
      "text/plain": [
       "array(['Car-free cities', '\"A Cowboy Who Rode the Waves\"',\n",
       "       'Exploring Venus', 'Facial action coding system',\n",
       "       'The Face on Mars', 'Driverless cars',\n",
       "       'Does the electoral college work?'], dtype=object)"
      ]
     },
     "execution_count": 7,
     "metadata": {},
     "output_type": "execute_result"
    }
   ],
   "source": [
    "seven_text_data['prompt_name'].unique()"
   ]
  },
  {
   "cell_type": "code",
   "execution_count": 8,
   "id": "de27c9e8-0d03-473a-b38a-2ccc59b22314",
   "metadata": {
    "execution": {
     "iopub.execute_input": "2025-03-11T08:48:28.763380Z",
     "iopub.status.busy": "2025-03-11T08:48:28.762709Z",
     "iopub.status.idle": "2025-03-11T08:48:28.775263Z",
     "shell.execute_reply": "2025-03-11T08:48:28.774819Z",
     "shell.execute_reply.started": "2025-03-11T08:48:28.763352Z"
    }
   },
   "outputs": [
    {
     "name": "stderr",
     "output_type": "stream",
     "text": [
      "/tmp/ipykernel_40/2785384403.py:2: SettingWithCopyWarning: \n",
      "A value is trying to be set on a copy of a slice from a DataFrame.\n",
      "Try using .loc[row_indexer,col_indexer] = value instead\n",
      "\n",
      "See the caveats in the documentation: https://pandas.pydata.org/pandas-docs/stable/user_guide/indexing.html#returning-a-view-versus-a-copy\n",
      "  seven_text_data['prompt_name'] = seven_text_data['prompt_name'].str.replace('''\"''','')\n"
     ]
    },
    {
     "data": {
      "text/plain": [
       "array(['Car-free cities', 'A Cowboy Who Rode the Waves',\n",
       "       'Exploring Venus', 'Facial action coding system',\n",
       "       'The Face on Mars', 'Driverless cars',\n",
       "       'Does the electoral college work?'], dtype=object)"
      ]
     },
     "execution_count": 8,
     "metadata": {},
     "output_type": "execute_result"
    }
   ],
   "source": [
    "# Remove the \" \" \" in the prompt names\n",
    "seven_text_data['prompt_name'] = seven_text_data['prompt_name'].str.replace('''\"''','')\n",
    "seven_text_data['prompt_name'].unique()"
   ]
  },
  {
   "cell_type": "code",
   "execution_count": 9,
   "id": "9bfc290d-6e5b-46be-ae41-eedb668890df",
   "metadata": {
    "execution": {
     "iopub.execute_input": "2025-03-11T08:48:32.574393Z",
     "iopub.status.busy": "2025-03-11T08:48:32.573855Z",
     "iopub.status.idle": "2025-03-11T08:48:32.579786Z",
     "shell.execute_reply": "2025-03-11T08:48:32.579009Z",
     "shell.execute_reply.started": "2025-03-11T08:48:32.574372Z"
    }
   },
   "outputs": [
    {
     "data": {
      "text/plain": [
       "array(['persuade_corpus', 'mistral7binstruct_v2', 'darragh_claude_v6',\n",
       "       'llama_70b_v1', 'llama2_chat', 'darragh_claude_v7',\n",
       "       'falcon_180b_v1', 'chat_gpt_moth', 'radek_500',\n",
       "       'mistral7binstruct_v1', 'NousResearch/Llama-2-7b-chat-hf',\n",
       "       'mistralai/Mistral-7B-Instruct-v0.1', 'palm-text-bison1',\n",
       "       'cohere-command', 'radekgpt4', 'train_essays', 'kingki19_palm'],\n",
       "      dtype=object)"
      ]
     },
     "execution_count": 9,
     "metadata": {},
     "output_type": "execute_result"
    }
   ],
   "source": [
    "seven_text_data['source'].unique()"
   ]
  },
  {
   "cell_type": "markdown",
   "id": "ae2696e2-5888-410d-a324-63e7529e23dd",
   "metadata": {},
   "source": [
    "## Data mining and Feature engineering"
   ]
  },
  {
   "cell_type": "markdown",
   "id": "37bba4c2-c797-4d9c-868b-bcd5ff8321a8",
   "metadata": {},
   "source": [
    "### Visualization"
   ]
  },
  {
   "cell_type": "markdown",
   "id": "1e970780-3896-48a3-afc0-e3645ee1f7bd",
   "metadata": {},
   "source": [
    "Class imbalance"
   ]
  },
  {
   "cell_type": "code",
   "execution_count": 10,
   "id": "078ef820-3858-44a4-add4-c173d8f135d1",
   "metadata": {
    "execution": {
     "iopub.execute_input": "2025-03-11T08:48:37.783080Z",
     "iopub.status.busy": "2025-03-11T08:48:37.782412Z",
     "iopub.status.idle": "2025-03-11T08:48:37.793093Z",
     "shell.execute_reply": "2025-03-11T08:48:37.792585Z",
     "shell.execute_reply.started": "2025-03-11T08:48:37.783060Z"
    }
   },
   "outputs": [
    {
     "data": {
      "text/html": [
       "<div>\n",
       "<style scoped>\n",
       "    .dataframe tbody tr th:only-of-type {\n",
       "        vertical-align: middle;\n",
       "    }\n",
       "\n",
       "    .dataframe tbody tr th {\n",
       "        vertical-align: top;\n",
       "    }\n",
       "\n",
       "    .dataframe thead th {\n",
       "        text-align: right;\n",
       "    }\n",
       "</style>\n",
       "<table border=\"1\" class=\"dataframe\">\n",
       "  <thead>\n",
       "    <tr style=\"text-align: right;\">\n",
       "      <th></th>\n",
       "      <th>text</th>\n",
       "      <th>prompt_name</th>\n",
       "      <th>source</th>\n",
       "      <th>RDizzl3_seven</th>\n",
       "    </tr>\n",
       "    <tr>\n",
       "      <th>label</th>\n",
       "      <th></th>\n",
       "      <th></th>\n",
       "      <th></th>\n",
       "      <th></th>\n",
       "    </tr>\n",
       "  </thead>\n",
       "  <tbody>\n",
       "    <tr>\n",
       "      <th>0</th>\n",
       "      <td>14250</td>\n",
       "      <td>14250</td>\n",
       "      <td>14250</td>\n",
       "      <td>14250</td>\n",
       "    </tr>\n",
       "    <tr>\n",
       "      <th>1</th>\n",
       "      <td>6200</td>\n",
       "      <td>6200</td>\n",
       "      <td>6200</td>\n",
       "      <td>6200</td>\n",
       "    </tr>\n",
       "  </tbody>\n",
       "</table>\n",
       "</div>"
      ],
      "text/plain": [
       "        text  prompt_name  source  RDizzl3_seven\n",
       "label                                           \n",
       "0      14250        14250   14250          14250\n",
       "1       6200         6200    6200           6200"
      ]
     },
     "execution_count": 10,
     "metadata": {},
     "output_type": "execute_result"
    }
   ],
   "source": [
    "seven_text_data.groupby('label').count()"
   ]
  },
  {
   "cell_type": "code",
   "execution_count": 12,
   "id": "dd67962b-5fa4-4535-ba11-ec6d70559f9a",
   "metadata": {
    "execution": {
     "iopub.execute_input": "2025-03-11T08:49:00.630095Z",
     "iopub.status.busy": "2025-03-11T08:49:00.629443Z",
     "iopub.status.idle": "2025-03-11T08:49:00.772498Z",
     "shell.execute_reply": "2025-03-11T08:49:00.771189Z",
     "shell.execute_reply.started": "2025-03-11T08:49:00.630067Z"
    }
   },
   "outputs": [
    {
     "data": {
      "text/plain": [
       "<Axes: xlabel='label', ylabel='text'>"
      ]
     },
     "execution_count": 12,
     "metadata": {},
     "output_type": "execute_result"
    },
    {
     "data": {
      "image/png": "[encoded data removed]",
      "text/plain": [
       "<Figure size 640x480 with 1 Axes>"
      ]
     },
     "metadata": {},
     "output_type": "display_data"
    }
   ],
   "source": [
    "sns.barplot(seven_text_data.groupby('label').count().reset_index(), x = 'label', y = 'text')"
   ]
  },
  {
   "cell_type": "markdown",
   "id": "3e65d96a-f0d4-4330-b7f1-48c9ff36d48a",
   "metadata": {},
   "source": [
    "We notice a huge class imbalance : there are more handwritten text than AI generated"
   ]
  },
  {
   "cell_type": "markdown",
   "id": "7fe723ab-0421-4639-a2b9-7582a5004246",
   "metadata": {},
   "source": [
    "Add essay length column"
   ]
  },
  {
   "cell_type": "code",
   "execution_count": 13,
   "id": "0a28224d-eb1c-4450-8ab8-e9f698cf98f2",
   "metadata": {
    "execution": {
     "iopub.execute_input": "2025-03-11T08:49:10.362324Z",
     "iopub.status.busy": "2025-03-11T08:49:10.362054Z",
     "iopub.status.idle": "2025-03-11T08:49:10.378058Z",
     "shell.execute_reply": "2025-03-11T08:49:10.377355Z",
     "shell.execute_reply.started": "2025-03-11T08:49:10.362305Z"
    }
   },
   "outputs": [
    {
     "name": "stderr",
     "output_type": "stream",
     "text": [
      "/tmp/ipykernel_40/634078843.py:1: SettingWithCopyWarning: \n",
      "A value is trying to be set on a copy of a slice from a DataFrame.\n",
      "Try using .loc[row_indexer,col_indexer] = value instead\n",
      "\n",
      "See the caveats in the documentation: https://pandas.pydata.org/pandas-docs/stable/user_guide/indexing.html#returning-a-view-versus-a-copy\n",
      "  seven_text_data['length'] = seven_text_data['text'].str.len()\n"
     ]
    },
    {
     "data": {
      "text/html": [
       "<div>\n",
       "<style scoped>\n",
       "    .dataframe tbody tr th:only-of-type {\n",
       "        vertical-align: middle;\n",
       "    }\n",
       "\n",
       "    .dataframe tbody tr th {\n",
       "        vertical-align: top;\n",
       "    }\n",
       "\n",
       "    .dataframe thead th {\n",
       "        text-align: right;\n",
       "    }\n",
       "</style>\n",
       "<table border=\"1\" class=\"dataframe\">\n",
       "  <thead>\n",
       "    <tr style=\"text-align: right;\">\n",
       "      <th></th>\n",
       "      <th>text</th>\n",
       "      <th>label</th>\n",
       "      <th>prompt_name</th>\n",
       "      <th>source</th>\n",
       "      <th>RDizzl3_seven</th>\n",
       "      <th>length</th>\n",
       "    </tr>\n",
       "  </thead>\n",
       "  <tbody>\n",
       "    <tr>\n",
       "      <th>1168</th>\n",
       "      <td>Cars have been around for awhile and they have...</td>\n",
       "      <td>0</td>\n",
       "      <td>Car-free cities</td>\n",
       "      <td>persuade_corpus</td>\n",
       "      <td>True</td>\n",
       "      <td>3114</td>\n",
       "    </tr>\n",
       "    <tr>\n",
       "      <th>1169</th>\n",
       "      <td>Have you ever thought what it would be like no...</td>\n",
       "      <td>0</td>\n",
       "      <td>Car-free cities</td>\n",
       "      <td>persuade_corpus</td>\n",
       "      <td>True</td>\n",
       "      <td>1132</td>\n",
       "    </tr>\n",
       "    <tr>\n",
       "      <th>1170</th>\n",
       "      <td>What you are about to read is going to give yo...</td>\n",
       "      <td>0</td>\n",
       "      <td>Car-free cities</td>\n",
       "      <td>persuade_corpus</td>\n",
       "      <td>True</td>\n",
       "      <td>3319</td>\n",
       "    </tr>\n",
       "    <tr>\n",
       "      <th>1171</th>\n",
       "      <td>cars have many flaws nd and in this day and ag...</td>\n",
       "      <td>0</td>\n",
       "      <td>Car-free cities</td>\n",
       "      <td>persuade_corpus</td>\n",
       "      <td>True</td>\n",
       "      <td>1030</td>\n",
       "    </tr>\n",
       "    <tr>\n",
       "      <th>1172</th>\n",
       "      <td>There are many advantages of limiting car usag...</td>\n",
       "      <td>0</td>\n",
       "      <td>Car-free cities</td>\n",
       "      <td>persuade_corpus</td>\n",
       "      <td>True</td>\n",
       "      <td>1860</td>\n",
       "    </tr>\n",
       "  </tbody>\n",
       "</table>\n",
       "</div>"
      ],
      "text/plain": [
       "                                                   text  label  \\\n",
       "1168  Cars have been around for awhile and they have...      0   \n",
       "1169  Have you ever thought what it would be like no...      0   \n",
       "1170  What you are about to read is going to give yo...      0   \n",
       "1171  cars have many flaws nd and in this day and ag...      0   \n",
       "1172  There are many advantages of limiting car usag...      0   \n",
       "\n",
       "          prompt_name           source  RDizzl3_seven  length  \n",
       "1168  Car-free cities  persuade_corpus           True    3114  \n",
       "1169  Car-free cities  persuade_corpus           True    1132  \n",
       "1170  Car-free cities  persuade_corpus           True    3319  \n",
       "1171  Car-free cities  persuade_corpus           True    1030  \n",
       "1172  Car-free cities  persuade_corpus           True    1860  "
      ]
     },
     "execution_count": 13,
     "metadata": {},
     "output_type": "execute_result"
    }
   ],
   "source": [
    "seven_text_data['length'] = seven_text_data['text'].str.len()\n",
    "seven_text_data.head()"
   ]
  },
  {
   "cell_type": "code",
   "execution_count": 14,
   "id": "e58403b6-4595-414d-a683-32addf5c38e9",
   "metadata": {
    "execution": {
     "iopub.execute_input": "2025-03-11T08:49:14.752715Z",
     "iopub.status.busy": "2025-03-11T08:49:14.752491Z",
     "iopub.status.idle": "2025-03-11T08:49:15.321420Z",
     "shell.execute_reply": "2025-03-11T08:49:15.320807Z",
     "shell.execute_reply.started": "2025-03-11T08:49:14.752698Z"
    }
   },
   "outputs": [
    {
     "name": "stderr",
     "output_type": "stream",
     "text": [
      "/usr/local/lib/python3.11/dist-packages/seaborn/_oldcore.py:1119: FutureWarning: use_inf_as_na option is deprecated and will be removed in a future version. Convert inf values to NaN before operating instead.\n",
      "  with pd.option_context('mode.use_inf_as_na', True):\n",
      "/usr/local/lib/python3.11/dist-packages/seaborn/_oldcore.py:1075: FutureWarning: When grouping with a length-1 list-like, you will need to pass a length-1 tuple to get_group in a future version of pandas. Pass `(name,)` instead of `name` to silence this warning.\n",
      "  data_subset = grouped_data.get_group(pd_key)\n",
      "/usr/local/lib/python3.11/dist-packages/seaborn/_oldcore.py:1075: FutureWarning: When grouping with a length-1 list-like, you will need to pass a length-1 tuple to get_group in a future version of pandas. Pass `(name,)` instead of `name` to silence this warning.\n",
      "  data_subset = grouped_data.get_group(pd_key)\n",
      "/usr/local/lib/python3.11/dist-packages/seaborn/_oldcore.py:1075: FutureWarning: When grouping with a length-1 list-like, you will need to pass a length-1 tuple to get_group in a future version of pandas. Pass `(name,)` instead of `name` to silence this warning.\n",
      "  data_subset = grouped_data.get_group(pd_key)\n"
     ]
    },
    {
     "data": {
      "text/plain": [
       "<Axes: xlabel='length', ylabel='Count'>"
      ]
     },
     "execution_count": 14,
     "metadata": {},
     "output_type": "execute_result"
    },
    {
     "data": {
      "image/png": "[encoded data removed]",
      "text/plain": [
       "<Figure size 640x480 with 1 Axes>"
      ]
     },
     "metadata": {},
     "output_type": "display_data"
    }
   ],
   "source": [
    "sns.histplot(seven_text_data, x = 'length', hue = 'label')"
   ]
  },
  {
   "cell_type": "code",
   "execution_count": 15,
   "id": "4a6ec01a-0019-4690-9c1f-49db17c67d7f",
   "metadata": {
    "execution": {
     "iopub.execute_input": "2025-03-11T08:49:22.551775Z",
     "iopub.status.busy": "2025-03-11T08:49:22.551476Z",
     "iopub.status.idle": "2025-03-11T08:49:22.584896Z",
     "shell.execute_reply": "2025-03-11T08:49:22.584344Z",
     "shell.execute_reply.started": "2025-03-11T08:49:22.551753Z"
    }
   },
   "outputs": [
    {
     "name": "stderr",
     "output_type": "stream",
     "text": [
      "/tmp/ipykernel_40/1491141852.py:2: FutureWarning: Downcasting behavior in `replace` is deprecated and will be removed in a future version. To retain the old behavior, explicitly call `result.infer_objects(copy=False)`. To opt-in to the future behavior, set `pd.set_option('future.no_silent_downcasting', True)`\n",
      "  seven_text_data['prompt_id'] = seven_text_data.replace(mapping)['prompt_name']\n",
      "/tmp/ipykernel_40/1491141852.py:2: SettingWithCopyWarning: \n",
      "A value is trying to be set on a copy of a slice from a DataFrame.\n",
      "Try using .loc[row_indexer,col_indexer] = value instead\n",
      "\n",
      "See the caveats in the documentation: https://pandas.pydata.org/pandas-docs/stable/user_guide/indexing.html#returning-a-view-versus-a-copy\n",
      "  seven_text_data['prompt_id'] = seven_text_data.replace(mapping)['prompt_name']\n"
     ]
    }
   ],
   "source": [
    "mapping = dict(zip(seven_text_data['prompt_name'].unique(), range(7)))\n",
    "seven_text_data['prompt_id'] = seven_text_data.replace(mapping)['prompt_name']\n"
   ]
  },
  {
   "cell_type": "code",
   "execution_count": 17,
   "id": "ff3ad806-a4df-4038-85b7-1cba589e3619",
   "metadata": {
    "execution": {
     "iopub.execute_input": "2025-03-11T08:49:43.089491Z",
     "iopub.status.busy": "2025-03-11T08:49:43.089012Z",
     "iopub.status.idle": "2025-03-11T08:49:43.193204Z",
     "shell.execute_reply": "2025-03-11T08:49:43.192622Z",
     "shell.execute_reply.started": "2025-03-11T08:49:43.089470Z"
    }
   },
   "outputs": [
    {
     "data": {
      "text/plain": [
       "<Axes: xlabel='prompt_id', ylabel='text'>"
      ]
     },
     "execution_count": 17,
     "metadata": {},
     "output_type": "execute_result"
    },
    {
     "data": {
      "image/png": "[encoded data removed]",
      "text/plain": [
       "<Figure size 640x480 with 1 Axes>"
      ]
     },
     "metadata": {},
     "output_type": "display_data"
    }
   ],
   "source": [
    "sns.barplot(seven_text_data.groupby('prompt_id').count().reset_index(),x = 'prompt_id', y = 'text')"
   ]
  },
  {
   "cell_type": "code",
   "execution_count": 19,
   "id": "029df017-f108-4c60-b646-c066f7cf6d46",
   "metadata": {
    "execution": {
     "iopub.execute_input": "2025-03-11T08:50:18.097797Z",
     "iopub.status.busy": "2025-03-11T08:50:18.097326Z",
     "iopub.status.idle": "2025-03-11T08:50:18.362608Z",
     "shell.execute_reply": "2025-03-11T08:50:18.362147Z",
     "shell.execute_reply.started": "2025-03-11T08:50:18.097778Z"
    }
   },
   "outputs": [
    {
     "name": "stderr",
     "output_type": "stream",
     "text": [
      "/tmp/ipykernel_40/854563015.py:2: FutureWarning: Downcasting behavior in `replace` is deprecated and will be removed in a future version. To retain the old behavior, explicitly call `result.infer_objects(copy=False)`. To opt-in to the future behavior, set `pd.set_option('future.no_silent_downcasting', True)`\n",
      "  seven_text_data['source_id'] = seven_text_data.replace(mapping_source)['source']\n",
      "/tmp/ipykernel_40/854563015.py:2: SettingWithCopyWarning: \n",
      "A value is trying to be set on a copy of a slice from a DataFrame.\n",
      "Try using .loc[row_indexer,col_indexer] = value instead\n",
      "\n",
      "See the caveats in the documentation: https://pandas.pydata.org/pandas-docs/stable/user_guide/indexing.html#returning-a-view-versus-a-copy\n",
      "  seven_text_data['source_id'] = seven_text_data.replace(mapping_source)['source']\n"
     ]
    },
    {
     "data": {
      "text/plain": [
       "Text(0.5, 1.0, 'Number of essays by source')"
      ]
     },
     "execution_count": 19,
     "metadata": {},
     "output_type": "execute_result"
    },
    {
     "data": {
      "image/png": "[encoded data removed]",
      "text/plain": [
       "<Figure size 640x480 with 1 Axes>"
      ]
     },
     "metadata": {},
     "output_type": "display_data"
    }
   ],
   "source": [
    "mapping_source = dict(zip(seven_text_data['source'].unique(), range(len(seven_text_data['source'].unique()))))\n",
    "seven_text_data['source_id'] = seven_text_data.replace(mapping_source)['source']\n",
    "sorted_seven_text_data = seven_text_data.groupby('source').count().sort_values(\"text\", ascending=False).reset_index()\n",
    "sns.barplot(sorted_seven_text_data,x = 'text', y = 'source', orient = 'h')\n",
    "plt.title(\"Number of essays by source\")"
   ]
  },
  {
   "cell_type": "markdown",
   "id": "b1efd9e9-43b5-483a-a564-2f8524e391c0",
   "metadata": {},
   "source": [
    "The sources are highly skewed so me might need to balance this later"
   ]
  },
  {
   "cell_type": "code",
   "execution_count": 20,
   "id": "a2294b4f-4e43-4a42-a350-34cb0d85287a",
   "metadata": {
    "execution": {
     "iopub.execute_input": "2025-03-11T08:50:33.384850Z",
     "iopub.status.busy": "2025-03-11T08:50:33.384255Z",
     "iopub.status.idle": "2025-03-11T08:50:33.388008Z",
     "shell.execute_reply": "2025-03-11T08:50:33.387393Z",
     "shell.execute_reply.started": "2025-03-11T08:50:33.384828Z"
    }
   },
   "outputs": [],
   "source": [
    "def word_count(text):\n",
    "    text_list = text.split()\n",
    "    return len(text_list)\n"
   ]
  },
  {
   "cell_type": "code",
   "execution_count": 23,
   "id": "b207accf-4a00-4d8a-811a-81a204940a3a",
   "metadata": {
    "execution": {
     "iopub.execute_input": "2025-03-11T08:57:30.288028Z",
     "iopub.status.busy": "2025-03-11T08:57:30.286851Z",
     "iopub.status.idle": "2025-03-11T08:57:30.585254Z",
     "shell.execute_reply": "2025-03-11T08:57:30.584716Z",
     "shell.execute_reply.started": "2025-03-11T08:57:30.287993Z"
    }
   },
   "outputs": [
    {
     "name": "stderr",
     "output_type": "stream",
     "text": [
      "/tmp/ipykernel_40/1209599868.py:1: SettingWithCopyWarning: \n",
      "A value is trying to be set on a copy of a slice from a DataFrame.\n",
      "Try using .loc[row_indexer,col_indexer] = value instead\n",
      "\n",
      "See the caveats in the documentation: https://pandas.pydata.org/pandas-docs/stable/user_guide/indexing.html#returning-a-view-versus-a-copy\n",
      "  seven_text_data['word_count'] = seven_text_data['text'].apply(word_count)\n"
     ]
    },
    {
     "data": {
      "text/html": [
       "<div>\n",
       "<style scoped>\n",
       "    .dataframe tbody tr th:only-of-type {\n",
       "        vertical-align: middle;\n",
       "    }\n",
       "\n",
       "    .dataframe tbody tr th {\n",
       "        vertical-align: top;\n",
       "    }\n",
       "\n",
       "    .dataframe thead th {\n",
       "        text-align: right;\n",
       "    }\n",
       "</style>\n",
       "<table border=\"1\" class=\"dataframe\">\n",
       "  <thead>\n",
       "    <tr style=\"text-align: right;\">\n",
       "      <th></th>\n",
       "      <th>text</th>\n",
       "      <th>label</th>\n",
       "      <th>prompt_name</th>\n",
       "      <th>source</th>\n",
       "      <th>RDizzl3_seven</th>\n",
       "      <th>length</th>\n",
       "      <th>prompt_id</th>\n",
       "      <th>source_id</th>\n",
       "      <th>word_count</th>\n",
       "    </tr>\n",
       "  </thead>\n",
       "  <tbody>\n",
       "    <tr>\n",
       "      <th>1168</th>\n",
       "      <td>Cars have been around for awhile and they have...</td>\n",
       "      <td>0</td>\n",
       "      <td>Car-free cities</td>\n",
       "      <td>persuade_corpus</td>\n",
       "      <td>True</td>\n",
       "      <td>3114</td>\n",
       "      <td>0</td>\n",
       "      <td>0</td>\n",
       "      <td>537</td>\n",
       "    </tr>\n",
       "    <tr>\n",
       "      <th>1169</th>\n",
       "      <td>Have you ever thought what it would be like no...</td>\n",
       "      <td>0</td>\n",
       "      <td>Car-free cities</td>\n",
       "      <td>persuade_corpus</td>\n",
       "      <td>True</td>\n",
       "      <td>1132</td>\n",
       "      <td>0</td>\n",
       "      <td>0</td>\n",
       "      <td>212</td>\n",
       "    </tr>\n",
       "    <tr>\n",
       "      <th>1170</th>\n",
       "      <td>What you are about to read is going to give yo...</td>\n",
       "      <td>0</td>\n",
       "      <td>Car-free cities</td>\n",
       "      <td>persuade_corpus</td>\n",
       "      <td>True</td>\n",
       "      <td>3319</td>\n",
       "      <td>0</td>\n",
       "      <td>0</td>\n",
       "      <td>620</td>\n",
       "    </tr>\n",
       "    <tr>\n",
       "      <th>1171</th>\n",
       "      <td>cars have many flaws nd and in this day and ag...</td>\n",
       "      <td>0</td>\n",
       "      <td>Car-free cities</td>\n",
       "      <td>persuade_corpus</td>\n",
       "      <td>True</td>\n",
       "      <td>1030</td>\n",
       "      <td>0</td>\n",
       "      <td>0</td>\n",
       "      <td>190</td>\n",
       "    </tr>\n",
       "    <tr>\n",
       "      <th>1172</th>\n",
       "      <td>There are many advantages of limiting car usag...</td>\n",
       "      <td>0</td>\n",
       "      <td>Car-free cities</td>\n",
       "      <td>persuade_corpus</td>\n",
       "      <td>True</td>\n",
       "      <td>1860</td>\n",
       "      <td>0</td>\n",
       "      <td>0</td>\n",
       "      <td>314</td>\n",
       "    </tr>\n",
       "  </tbody>\n",
       "</table>\n",
       "</div>"
      ],
      "text/plain": [
       "                                                   text  label  \\\n",
       "1168  Cars have been around for awhile and they have...      0   \n",
       "1169  Have you ever thought what it would be like no...      0   \n",
       "1170  What you are about to read is going to give yo...      0   \n",
       "1171  cars have many flaws nd and in this day and ag...      0   \n",
       "1172  There are many advantages of limiting car usag...      0   \n",
       "\n",
       "          prompt_name           source  RDizzl3_seven  length  prompt_id  \\\n",
       "1168  Car-free cities  persuade_corpus           True    3114          0   \n",
       "1169  Car-free cities  persuade_corpus           True    1132          0   \n",
       "1170  Car-free cities  persuade_corpus           True    3319          0   \n",
       "1171  Car-free cities  persuade_corpus           True    1030          0   \n",
       "1172  Car-free cities  persuade_corpus           True    1860          0   \n",
       "\n",
       "      source_id  word_count  \n",
       "1168          0         537  \n",
       "1169          0         212  \n",
       "1170          0         620  \n",
       "1171          0         190  \n",
       "1172          0         314  "
      ]
     },
     "execution_count": 23,
     "metadata": {},
     "output_type": "execute_result"
    }
   ],
   "source": [
    "seven_text_data['word_count'] = seven_text_data['text'].apply(word_count)\n",
    "seven_text_data.head()"
   ]
  },
  {
   "cell_type": "code",
   "execution_count": 22,
   "id": "093e3da2-63df-40ba-80cc-c2d93c3b294a",
   "metadata": {
    "execution": {
     "iopub.execute_input": "2025-03-11T08:50:45.754489Z",
     "iopub.status.busy": "2025-03-11T08:50:45.753692Z",
     "iopub.status.idle": "2025-03-11T08:50:46.417442Z",
     "shell.execute_reply": "2025-03-11T08:50:46.415320Z",
     "shell.execute_reply.started": "2025-03-11T08:50:45.754469Z"
    }
   },
   "outputs": [
    {
     "name": "stderr",
     "output_type": "stream",
     "text": [
      "/usr/local/lib/python3.11/dist-packages/seaborn/_oldcore.py:1119: FutureWarning: use_inf_as_na option is deprecated and will be removed in a future version. Convert inf values to NaN before operating instead.\n",
      "  with pd.option_context('mode.use_inf_as_na', True):\n",
      "/usr/local/lib/python3.11/dist-packages/seaborn/_oldcore.py:1075: FutureWarning: When grouping with a length-1 list-like, you will need to pass a length-1 tuple to get_group in a future version of pandas. Pass `(name,)` instead of `name` to silence this warning.\n",
      "  data_subset = grouped_data.get_group(pd_key)\n",
      "/usr/local/lib/python3.11/dist-packages/seaborn/_oldcore.py:1075: FutureWarning: When grouping with a length-1 list-like, you will need to pass a length-1 tuple to get_group in a future version of pandas. Pass `(name,)` instead of `name` to silence this warning.\n",
      "  data_subset = grouped_data.get_group(pd_key)\n",
      "/usr/local/lib/python3.11/dist-packages/seaborn/_oldcore.py:1075: FutureWarning: When grouping with a length-1 list-like, you will need to pass a length-1 tuple to get_group in a future version of pandas. Pass `(name,)` instead of `name` to silence this warning.\n",
      "  data_subset = grouped_data.get_group(pd_key)\n"
     ]
    },
    {
     "data": {
      "text/plain": [
       "<Axes: xlabel='word_count', ylabel='Count'>"
      ]
     },
     "execution_count": 22,
     "metadata": {},
     "output_type": "execute_result"
    },
    {
     "data": {
      "image/png": "[encoded data removed]",
      "text/plain": [
       "<Figure size 640x480 with 1 Axes>"
      ]
     },
     "metadata": {},
     "output_type": "display_data"
    }
   ],
   "source": [
    "sns.histplot(seven_text_data, x = 'word_count',kde=True, hue='label')"
   ]
  },
  {
   "cell_type": "code",
   "execution_count": 18,
   "id": "454f441f-37f0-4240-a05c-03be3494af03",
   "metadata": {
    "collapsed": true,
    "execution": {
     "iopub.execute_input": "2025-03-05T18:10:57.272061Z",
     "iopub.status.busy": "2025-03-05T18:10:57.270828Z",
     "iopub.status.idle": "2025-03-05T18:10:59.067645Z",
     "shell.execute_reply": "2025-03-05T18:10:59.066694Z",
     "shell.execute_reply.started": "2025-03-05T18:10:57.272033Z"
    },
    "jupyter": {
     "outputs_hidden": true
    }
   },
   "outputs": [
    {
     "name": "stderr",
     "output_type": "stream",
     "text": [
      "/tmp/ipykernel_41/2075753603.py:1: SettingWithCopyWarning: \n",
      "A value is trying to be set on a copy of a slice from a DataFrame.\n",
      "Try using .loc[row_indexer,col_indexer] = value instead\n",
      "\n",
      "See the caveats in the documentation: https://pandas.pydata.org/pandas-docs/stable/user_guide/indexing.html#returning-a-view-versus-a-copy\n",
      "  seven_text_data['mean_word_length'] = seven_text_data['text'].apply(\n"
     ]
    }
   ],
   "source": [
    "seven_text_data['mean_word_length'] = seven_text_data['text'].apply(\n",
    "    lambda x: np.mean([len(word) for word in x.split()])\n",
    ")"
   ]
  },
  {
   "cell_type": "code",
   "execution_count": 19,
   "id": "7398d155-8a12-4156-874e-a9086b1dc4ba",
   "metadata": {
    "execution": {
     "iopub.execute_input": "2025-03-05T18:11:03.607670Z",
     "iopub.status.busy": "2025-03-05T18:11:03.606778Z",
     "iopub.status.idle": "2025-03-05T18:11:04.535458Z",
     "shell.execute_reply": "2025-03-05T18:11:04.534358Z",
     "shell.execute_reply.started": "2025-03-05T18:11:03.607642Z"
    }
   },
   "outputs": [
    {
     "name": "stderr",
     "output_type": "stream",
     "text": [
      "/usr/local/lib/python3.11/dist-packages/seaborn/_oldcore.py:1119: FutureWarning: use_inf_as_na option is deprecated and will be removed in a future version. Convert inf values to NaN before operating instead.\n",
      "  with pd.option_context('mode.use_inf_as_na', True):\n",
      "/usr/local/lib/python3.11/dist-packages/seaborn/_oldcore.py:1075: FutureWarning: When grouping with a length-1 list-like, you will need to pass a length-1 tuple to get_group in a future version of pandas. Pass `(name,)` instead of `name` to silence this warning.\n",
      "  data_subset = grouped_data.get_group(pd_key)\n",
      "/usr/local/lib/python3.11/dist-packages/seaborn/_oldcore.py:1075: FutureWarning: When grouping with a length-1 list-like, you will need to pass a length-1 tuple to get_group in a future version of pandas. Pass `(name,)` instead of `name` to silence this warning.\n",
      "  data_subset = grouped_data.get_group(pd_key)\n"
     ]
    },
    {
     "data": {
      "text/plain": [
       "<Axes: xlabel='mean_word_length', ylabel='Count'>"
      ]
     },
     "execution_count": 19,
     "metadata": {},
     "output_type": "execute_result"
    },
    {
     "data": {
      "image/png": "[encoded data removed]",
      "text/plain": [
       "<Figure size 640x480 with 1 Axes>"
      ]
     },
     "metadata": {},
     "output_type": "display_data"
    }
   ],
   "source": [
    "sns.histplot(seven_text_data, x = 'mean_word_length',kde=True, hue='label')"
   ]
  },
  {
   "cell_type": "code",
   "execution_count": 24,
   "id": "3b7fd0f3-d842-4137-be5c-ef46b7d1ab8e",
   "metadata": {
    "execution": {
     "iopub.execute_input": "2025-03-11T08:57:34.518669Z",
     "iopub.status.busy": "2025-03-11T08:57:34.518267Z",
     "iopub.status.idle": "2025-03-11T08:57:34.918593Z",
     "shell.execute_reply": "2025-03-11T08:57:34.917814Z",
     "shell.execute_reply.started": "2025-03-11T08:57:34.518652Z"
    }
   },
   "outputs": [
    {
     "ename": "LookupError",
     "evalue": "\n**********************************************************************\n  Resource \u001b[93mpunkt\u001b[0m not found.\n  Please use the NLTK Downloader to obtain the resource:\n\n  \u001b[31m>>> import nltk\n  >>> nltk.download('punkt')\n  \u001b[0m\n  For more information see: https://www.nltk.org/data.html\n\n  Attempted to load \u001b[93mtokenizers/punkt/PY3/english.pickle\u001b[0m\n\n  Searched in:\n    - '/root/nltk_data'\n    - '/usr/nltk_data'\n    - '/usr/share/nltk_data'\n    - '/usr/lib/nltk_data'\n    - '/usr/share/nltk_data'\n    - '/usr/local/share/nltk_data'\n    - '/usr/lib/nltk_data'\n    - '/usr/local/lib/nltk_data'\n    - ''\n**********************************************************************\n",
     "output_type": "error",
     "traceback": [
      "\u001b[0;31m---------------------------------------------------------------------------\u001b[0m",
      "\u001b[0;31mLookupError\u001b[0m                               Traceback (most recent call last)",
      "Cell \u001b[0;32mIn[24], line 1\u001b[0m\n\u001b[0;32m----> 1\u001b[0m seven_text_data[\u001b[38;5;124m'\u001b[39m\u001b[38;5;124mmean_sent_length\u001b[39m\u001b[38;5;124m'\u001b[39m] \u001b[38;5;241m=\u001b[39m \u001b[43mseven_text_data\u001b[49m\u001b[43m[\u001b[49m\u001b[38;5;124;43m'\u001b[39;49m\u001b[38;5;124;43mtext\u001b[39;49m\u001b[38;5;124;43m'\u001b[39;49m\u001b[43m]\u001b[49m\u001b[38;5;241;43m.\u001b[39;49m\u001b[43mapply\u001b[49m\u001b[43m(\u001b[49m\n\u001b[1;32m      2\u001b[0m \u001b[43m    \u001b[49m\u001b[38;5;28;43;01mlambda\u001b[39;49;00m\u001b[43m \u001b[49m\u001b[43mx\u001b[49m\u001b[43m:\u001b[49m\u001b[43m \u001b[49m\u001b[43mnp\u001b[49m\u001b[38;5;241;43m.\u001b[39;49m\u001b[43mmean\u001b[49m\u001b[43m(\u001b[49m\u001b[43m[\u001b[49m\u001b[38;5;28;43mlen\u001b[39;49m\u001b[43m(\u001b[49m\u001b[43msent\u001b[49m\u001b[43m)\u001b[49m\u001b[43m \u001b[49m\u001b[38;5;28;43;01mfor\u001b[39;49;00m\u001b[43m \u001b[49m\u001b[43msent\u001b[49m\u001b[43m \u001b[49m\u001b[38;5;129;43;01min\u001b[39;49;00m\u001b[43m \u001b[49m\u001b[43mtokenize\u001b[49m\u001b[38;5;241;43m.\u001b[39;49m\u001b[43msent_tokenize\u001b[49m\u001b[43m(\u001b[49m\u001b[43mx\u001b[49m\u001b[43m)\u001b[49m\u001b[43m]\u001b[49m\u001b[43m)\u001b[49m\n\u001b[1;32m      3\u001b[0m \u001b[43m)\u001b[49m\n",
      "File \u001b[0;32m/usr/local/lib/python3.11/dist-packages/pandas/core/series.py:4904\u001b[0m, in \u001b[0;36mSeries.apply\u001b[0;34m(self, func, convert_dtype, args, by_row, **kwargs)\u001b[0m\n\u001b[1;32m   4769\u001b[0m \u001b[38;5;28;01mdef\u001b[39;00m \u001b[38;5;21mapply\u001b[39m(\n\u001b[1;32m   4770\u001b[0m     \u001b[38;5;28mself\u001b[39m,\n\u001b[1;32m   4771\u001b[0m     func: AggFuncType,\n\u001b[0;32m   (...)\u001b[0m\n\u001b[1;32m   4776\u001b[0m     \u001b[38;5;241m*\u001b[39m\u001b[38;5;241m*\u001b[39mkwargs,\n\u001b[1;32m   4777\u001b[0m ) \u001b[38;5;241m-\u001b[39m\u001b[38;5;241m>\u001b[39m DataFrame \u001b[38;5;241m|\u001b[39m Series:\n\u001b[1;32m   4778\u001b[0m \u001b[38;5;250m    \u001b[39m\u001b[38;5;124;03m\"\"\"\u001b[39;00m\n\u001b[1;32m   4779\u001b[0m \u001b[38;5;124;03m    Invoke function on values of Series.\u001b[39;00m\n\u001b[1;32m   4780\u001b[0m \n\u001b[0;32m   (...)\u001b[0m\n\u001b[1;32m   4895\u001b[0m \u001b[38;5;124;03m    dtype: float64\u001b[39;00m\n\u001b[1;32m   4896\u001b[0m \u001b[38;5;124;03m    \"\"\"\u001b[39;00m\n\u001b[1;32m   4897\u001b[0m     \u001b[38;5;28;01mreturn\u001b[39;00m \u001b[43mSeriesApply\u001b[49m\u001b[43m(\u001b[49m\n\u001b[1;32m   4898\u001b[0m \u001b[43m        \u001b[49m\u001b[38;5;28;43mself\u001b[39;49m\u001b[43m,\u001b[49m\n\u001b[1;32m   4899\u001b[0m \u001b[43m        \u001b[49m\u001b[43mfunc\u001b[49m\u001b[43m,\u001b[49m\n\u001b[1;32m   4900\u001b[0m \u001b[43m        \u001b[49m\u001b[43mconvert_dtype\u001b[49m\u001b[38;5;241;43m=\u001b[39;49m\u001b[43mconvert_dtype\u001b[49m\u001b[43m,\u001b[49m\n\u001b[1;32m   4901\u001b[0m \u001b[43m        \u001b[49m\u001b[43mby_row\u001b[49m\u001b[38;5;241;43m=\u001b[39;49m\u001b[43mby_row\u001b[49m\u001b[43m,\u001b[49m\n\u001b[1;32m   4902\u001b[0m \u001b[43m        \u001b[49m\u001b[43margs\u001b[49m\u001b[38;5;241;43m=\u001b[39;49m\u001b[43margs\u001b[49m\u001b[43m,\u001b[49m\n\u001b[1;32m   4903\u001b[0m \u001b[43m        \u001b[49m\u001b[43mkwargs\u001b[49m\u001b[38;5;241;43m=\u001b[39;49m\u001b[43mkwargs\u001b[49m\u001b[43m,\u001b[49m\n\u001b[0;32m-> 4904\u001b[0m \u001b[43m    \u001b[49m\u001b[43m)\u001b[49m\u001b[38;5;241;43m.\u001b[39;49m\u001b[43mapply\u001b[49m\u001b[43m(\u001b[49m\u001b[43m)\u001b[49m\n",
      "File \u001b[0;32m/usr/local/lib/python3.11/dist-packages/pandas/core/apply.py:1427\u001b[0m, in \u001b[0;36mSeriesApply.apply\u001b[0;34m(self)\u001b[0m\n\u001b[1;32m   1424\u001b[0m     \u001b[38;5;28;01mreturn\u001b[39;00m \u001b[38;5;28mself\u001b[39m\u001b[38;5;241m.\u001b[39mapply_compat()\n\u001b[1;32m   1426\u001b[0m \u001b[38;5;66;03m# self.func is Callable\u001b[39;00m\n\u001b[0;32m-> 1427\u001b[0m \u001b[38;5;28;01mreturn\u001b[39;00m \u001b[38;5;28;43mself\u001b[39;49m\u001b[38;5;241;43m.\u001b[39;49m\u001b[43mapply_standard\u001b[49m\u001b[43m(\u001b[49m\u001b[43m)\u001b[49m\n",
      "File \u001b[0;32m/usr/local/lib/python3.11/dist-packages/pandas/core/apply.py:1507\u001b[0m, in \u001b[0;36mSeriesApply.apply_standard\u001b[0;34m(self)\u001b[0m\n\u001b[1;32m   1501\u001b[0m \u001b[38;5;66;03m# row-wise access\u001b[39;00m\n\u001b[1;32m   1502\u001b[0m \u001b[38;5;66;03m# apply doesn't have a `na_action` keyword and for backward compat reasons\u001b[39;00m\n\u001b[1;32m   1503\u001b[0m \u001b[38;5;66;03m# we need to give `na_action=\"ignore\"` for categorical data.\u001b[39;00m\n\u001b[1;32m   1504\u001b[0m \u001b[38;5;66;03m# TODO: remove the `na_action=\"ignore\"` when that default has been changed in\u001b[39;00m\n\u001b[1;32m   1505\u001b[0m \u001b[38;5;66;03m#  Categorical (GH51645).\u001b[39;00m\n\u001b[1;32m   1506\u001b[0m action \u001b[38;5;241m=\u001b[39m \u001b[38;5;124m\"\u001b[39m\u001b[38;5;124mignore\u001b[39m\u001b[38;5;124m\"\u001b[39m \u001b[38;5;28;01mif\u001b[39;00m \u001b[38;5;28misinstance\u001b[39m(obj\u001b[38;5;241m.\u001b[39mdtype, CategoricalDtype) \u001b[38;5;28;01melse\u001b[39;00m \u001b[38;5;28;01mNone\u001b[39;00m\n\u001b[0;32m-> 1507\u001b[0m mapped \u001b[38;5;241m=\u001b[39m \u001b[43mobj\u001b[49m\u001b[38;5;241;43m.\u001b[39;49m\u001b[43m_map_values\u001b[49m\u001b[43m(\u001b[49m\n\u001b[1;32m   1508\u001b[0m \u001b[43m    \u001b[49m\u001b[43mmapper\u001b[49m\u001b[38;5;241;43m=\u001b[39;49m\u001b[43mcurried\u001b[49m\u001b[43m,\u001b[49m\u001b[43m \u001b[49m\u001b[43mna_action\u001b[49m\u001b[38;5;241;43m=\u001b[39;49m\u001b[43maction\u001b[49m\u001b[43m,\u001b[49m\u001b[43m \u001b[49m\u001b[43mconvert\u001b[49m\u001b[38;5;241;43m=\u001b[39;49m\u001b[38;5;28;43mself\u001b[39;49m\u001b[38;5;241;43m.\u001b[39;49m\u001b[43mconvert_dtype\u001b[49m\n\u001b[1;32m   1509\u001b[0m \u001b[43m\u001b[49m\u001b[43m)\u001b[49m\n\u001b[1;32m   1511\u001b[0m \u001b[38;5;28;01mif\u001b[39;00m \u001b[38;5;28mlen\u001b[39m(mapped) \u001b[38;5;129;01mand\u001b[39;00m \u001b[38;5;28misinstance\u001b[39m(mapped[\u001b[38;5;241m0\u001b[39m], ABCSeries):\n\u001b[1;32m   1512\u001b[0m     \u001b[38;5;66;03m# GH#43986 Need to do list(mapped) in order to get treated as nested\u001b[39;00m\n\u001b[1;32m   1513\u001b[0m     \u001b[38;5;66;03m#  See also GH#25959 regarding EA support\u001b[39;00m\n\u001b[1;32m   1514\u001b[0m     \u001b[38;5;28;01mreturn\u001b[39;00m obj\u001b[38;5;241m.\u001b[39m_constructor_expanddim(\u001b[38;5;28mlist\u001b[39m(mapped), index\u001b[38;5;241m=\u001b[39mobj\u001b[38;5;241m.\u001b[39mindex)\n",
      "File \u001b[0;32m/usr/local/lib/python3.11/dist-packages/pandas/core/base.py:921\u001b[0m, in \u001b[0;36mIndexOpsMixin._map_values\u001b[0;34m(self, mapper, na_action, convert)\u001b[0m\n\u001b[1;32m    918\u001b[0m \u001b[38;5;28;01mif\u001b[39;00m \u001b[38;5;28misinstance\u001b[39m(arr, ExtensionArray):\n\u001b[1;32m    919\u001b[0m     \u001b[38;5;28;01mreturn\u001b[39;00m arr\u001b[38;5;241m.\u001b[39mmap(mapper, na_action\u001b[38;5;241m=\u001b[39mna_action)\n\u001b[0;32m--> 921\u001b[0m \u001b[38;5;28;01mreturn\u001b[39;00m \u001b[43malgorithms\u001b[49m\u001b[38;5;241;43m.\u001b[39;49m\u001b[43mmap_array\u001b[49m\u001b[43m(\u001b[49m\u001b[43marr\u001b[49m\u001b[43m,\u001b[49m\u001b[43m \u001b[49m\u001b[43mmapper\u001b[49m\u001b[43m,\u001b[49m\u001b[43m \u001b[49m\u001b[43mna_action\u001b[49m\u001b[38;5;241;43m=\u001b[39;49m\u001b[43mna_action\u001b[49m\u001b[43m,\u001b[49m\u001b[43m \u001b[49m\u001b[43mconvert\u001b[49m\u001b[38;5;241;43m=\u001b[39;49m\u001b[43mconvert\u001b[49m\u001b[43m)\u001b[49m\n",
      "File \u001b[0;32m/usr/local/lib/python3.11/dist-packages/pandas/core/algorithms.py:1743\u001b[0m, in \u001b[0;36mmap_array\u001b[0;34m(arr, mapper, na_action, convert)\u001b[0m\n\u001b[1;32m   1741\u001b[0m values \u001b[38;5;241m=\u001b[39m arr\u001b[38;5;241m.\u001b[39mastype(\u001b[38;5;28mobject\u001b[39m, copy\u001b[38;5;241m=\u001b[39m\u001b[38;5;28;01mFalse\u001b[39;00m)\n\u001b[1;32m   1742\u001b[0m \u001b[38;5;28;01mif\u001b[39;00m na_action \u001b[38;5;129;01mis\u001b[39;00m \u001b[38;5;28;01mNone\u001b[39;00m:\n\u001b[0;32m-> 1743\u001b[0m     \u001b[38;5;28;01mreturn\u001b[39;00m \u001b[43mlib\u001b[49m\u001b[38;5;241;43m.\u001b[39;49m\u001b[43mmap_infer\u001b[49m\u001b[43m(\u001b[49m\u001b[43mvalues\u001b[49m\u001b[43m,\u001b[49m\u001b[43m \u001b[49m\u001b[43mmapper\u001b[49m\u001b[43m,\u001b[49m\u001b[43m \u001b[49m\u001b[43mconvert\u001b[49m\u001b[38;5;241;43m=\u001b[39;49m\u001b[43mconvert\u001b[49m\u001b[43m)\u001b[49m\n\u001b[1;32m   1744\u001b[0m \u001b[38;5;28;01melse\u001b[39;00m:\n\u001b[1;32m   1745\u001b[0m     \u001b[38;5;28;01mreturn\u001b[39;00m lib\u001b[38;5;241m.\u001b[39mmap_infer_mask(\n\u001b[1;32m   1746\u001b[0m         values, mapper, mask\u001b[38;5;241m=\u001b[39misna(values)\u001b[38;5;241m.\u001b[39mview(np\u001b[38;5;241m.\u001b[39muint8), convert\u001b[38;5;241m=\u001b[39mconvert\n\u001b[1;32m   1747\u001b[0m     )\n",
      "File \u001b[0;32mlib.pyx:2972\u001b[0m, in \u001b[0;36mpandas._libs.lib.map_infer\u001b[0;34m()\u001b[0m\n",
      "Cell \u001b[0;32mIn[24], line 2\u001b[0m, in \u001b[0;36m<lambda>\u001b[0;34m(x)\u001b[0m\n\u001b[1;32m      1\u001b[0m seven_text_data[\u001b[38;5;124m'\u001b[39m\u001b[38;5;124mmean_sent_length\u001b[39m\u001b[38;5;124m'\u001b[39m] \u001b[38;5;241m=\u001b[39m seven_text_data[\u001b[38;5;124m'\u001b[39m\u001b[38;5;124mtext\u001b[39m\u001b[38;5;124m'\u001b[39m]\u001b[38;5;241m.\u001b[39mapply(\n\u001b[0;32m----> 2\u001b[0m     \u001b[38;5;28;01mlambda\u001b[39;00m x: np\u001b[38;5;241m.\u001b[39mmean([\u001b[38;5;28mlen\u001b[39m(sent) \u001b[38;5;28;01mfor\u001b[39;00m sent \u001b[38;5;129;01min\u001b[39;00m \u001b[43mtokenize\u001b[49m\u001b[38;5;241;43m.\u001b[39;49m\u001b[43msent_tokenize\u001b[49m\u001b[43m(\u001b[49m\u001b[43mx\u001b[49m\u001b[43m)\u001b[49m])\n\u001b[1;32m      3\u001b[0m )\n",
      "File \u001b[0;32m/usr/local/lib/python3.11/dist-packages/nltk/tokenize/__init__.py:106\u001b[0m, in \u001b[0;36msent_tokenize\u001b[0;34m(text, language)\u001b[0m\n\u001b[1;32m     96\u001b[0m \u001b[38;5;28;01mdef\u001b[39;00m \u001b[38;5;21msent_tokenize\u001b[39m(text, language\u001b[38;5;241m=\u001b[39m\u001b[38;5;124m\"\u001b[39m\u001b[38;5;124menglish\u001b[39m\u001b[38;5;124m\"\u001b[39m):\n\u001b[1;32m     97\u001b[0m \u001b[38;5;250m    \u001b[39m\u001b[38;5;124;03m\"\"\"\u001b[39;00m\n\u001b[1;32m     98\u001b[0m \u001b[38;5;124;03m    Return a sentence-tokenized copy of *text*,\u001b[39;00m\n\u001b[1;32m     99\u001b[0m \u001b[38;5;124;03m    using NLTK's recommended sentence tokenizer\u001b[39;00m\n\u001b[0;32m   (...)\u001b[0m\n\u001b[1;32m    104\u001b[0m \u001b[38;5;124;03m    :param language: the model name in the Punkt corpus\u001b[39;00m\n\u001b[1;32m    105\u001b[0m \u001b[38;5;124;03m    \"\"\"\u001b[39;00m\n\u001b[0;32m--> 106\u001b[0m     tokenizer \u001b[38;5;241m=\u001b[39m \u001b[43mload\u001b[49m\u001b[43m(\u001b[49m\u001b[38;5;124;43mf\u001b[39;49m\u001b[38;5;124;43m\"\u001b[39;49m\u001b[38;5;124;43mtokenizers/punkt/\u001b[39;49m\u001b[38;5;132;43;01m{\u001b[39;49;00m\u001b[43mlanguage\u001b[49m\u001b[38;5;132;43;01m}\u001b[39;49;00m\u001b[38;5;124;43m.pickle\u001b[39;49m\u001b[38;5;124;43m\"\u001b[39;49m\u001b[43m)\u001b[49m\n\u001b[1;32m    107\u001b[0m     \u001b[38;5;28;01mreturn\u001b[39;00m tokenizer\u001b[38;5;241m.\u001b[39mtokenize(text)\n",
      "File \u001b[0;32m/usr/local/lib/python3.11/dist-packages/nltk/data.py:750\u001b[0m, in \u001b[0;36mload\u001b[0;34m(resource_url, format, cache, verbose, logic_parser, fstruct_reader, encoding)\u001b[0m\n\u001b[1;32m    747\u001b[0m     \u001b[38;5;28mprint\u001b[39m(\u001b[38;5;124mf\u001b[39m\u001b[38;5;124m\"\u001b[39m\u001b[38;5;124m<<Loading \u001b[39m\u001b[38;5;132;01m{\u001b[39;00mresource_url\u001b[38;5;132;01m}\u001b[39;00m\u001b[38;5;124m>>\u001b[39m\u001b[38;5;124m\"\u001b[39m)\n\u001b[1;32m    749\u001b[0m \u001b[38;5;66;03m# Load the resource.\u001b[39;00m\n\u001b[0;32m--> 750\u001b[0m opened_resource \u001b[38;5;241m=\u001b[39m \u001b[43m_open\u001b[49m\u001b[43m(\u001b[49m\u001b[43mresource_url\u001b[49m\u001b[43m)\u001b[49m\n\u001b[1;32m    752\u001b[0m \u001b[38;5;28;01mif\u001b[39;00m \u001b[38;5;28mformat\u001b[39m \u001b[38;5;241m==\u001b[39m \u001b[38;5;124m\"\u001b[39m\u001b[38;5;124mraw\u001b[39m\u001b[38;5;124m\"\u001b[39m:\n\u001b[1;32m    753\u001b[0m     resource_val \u001b[38;5;241m=\u001b[39m opened_resource\u001b[38;5;241m.\u001b[39mread()\n",
      "File \u001b[0;32m/usr/local/lib/python3.11/dist-packages/nltk/data.py:876\u001b[0m, in \u001b[0;36m_open\u001b[0;34m(resource_url)\u001b[0m\n\u001b[1;32m    873\u001b[0m protocol, path_ \u001b[38;5;241m=\u001b[39m split_resource_url(resource_url)\n\u001b[1;32m    875\u001b[0m \u001b[38;5;28;01mif\u001b[39;00m protocol \u001b[38;5;129;01mis\u001b[39;00m \u001b[38;5;28;01mNone\u001b[39;00m \u001b[38;5;129;01mor\u001b[39;00m protocol\u001b[38;5;241m.\u001b[39mlower() \u001b[38;5;241m==\u001b[39m \u001b[38;5;124m\"\u001b[39m\u001b[38;5;124mnltk\u001b[39m\u001b[38;5;124m\"\u001b[39m:\n\u001b[0;32m--> 876\u001b[0m     \u001b[38;5;28;01mreturn\u001b[39;00m \u001b[43mfind\u001b[49m\u001b[43m(\u001b[49m\u001b[43mpath_\u001b[49m\u001b[43m,\u001b[49m\u001b[43m \u001b[49m\u001b[43mpath\u001b[49m\u001b[43m \u001b[49m\u001b[38;5;241;43m+\u001b[39;49m\u001b[43m \u001b[49m\u001b[43m[\u001b[49m\u001b[38;5;124;43m\"\u001b[39;49m\u001b[38;5;124;43m\"\u001b[39;49m\u001b[43m]\u001b[49m\u001b[43m)\u001b[49m\u001b[38;5;241m.\u001b[39mopen()\n\u001b[1;32m    877\u001b[0m \u001b[38;5;28;01melif\u001b[39;00m protocol\u001b[38;5;241m.\u001b[39mlower() \u001b[38;5;241m==\u001b[39m \u001b[38;5;124m\"\u001b[39m\u001b[38;5;124mfile\u001b[39m\u001b[38;5;124m\"\u001b[39m:\n\u001b[1;32m    878\u001b[0m     \u001b[38;5;66;03m# urllib might not use mode='rb', so handle this one ourselves:\u001b[39;00m\n\u001b[1;32m    879\u001b[0m     \u001b[38;5;28;01mreturn\u001b[39;00m find(path_, [\u001b[38;5;124m\"\u001b[39m\u001b[38;5;124m\"\u001b[39m])\u001b[38;5;241m.\u001b[39mopen()\n",
      "File \u001b[0;32m/usr/local/lib/python3.11/dist-packages/nltk/data.py:583\u001b[0m, in \u001b[0;36mfind\u001b[0;34m(resource_name, paths)\u001b[0m\n\u001b[1;32m    581\u001b[0m sep \u001b[38;5;241m=\u001b[39m \u001b[38;5;124m\"\u001b[39m\u001b[38;5;124m*\u001b[39m\u001b[38;5;124m\"\u001b[39m \u001b[38;5;241m*\u001b[39m \u001b[38;5;241m70\u001b[39m\n\u001b[1;32m    582\u001b[0m resource_not_found \u001b[38;5;241m=\u001b[39m \u001b[38;5;124mf\u001b[39m\u001b[38;5;124m\"\u001b[39m\u001b[38;5;130;01m\\n\u001b[39;00m\u001b[38;5;132;01m{\u001b[39;00msep\u001b[38;5;132;01m}\u001b[39;00m\u001b[38;5;130;01m\\n\u001b[39;00m\u001b[38;5;132;01m{\u001b[39;00mmsg\u001b[38;5;132;01m}\u001b[39;00m\u001b[38;5;130;01m\\n\u001b[39;00m\u001b[38;5;132;01m{\u001b[39;00msep\u001b[38;5;132;01m}\u001b[39;00m\u001b[38;5;130;01m\\n\u001b[39;00m\u001b[38;5;124m\"\u001b[39m\n\u001b[0;32m--> 583\u001b[0m \u001b[38;5;28;01mraise\u001b[39;00m \u001b[38;5;167;01mLookupError\u001b[39;00m(resource_not_found)\n",
      "\u001b[0;31mLookupError\u001b[0m: \n**********************************************************************\n  Resource \u001b[93mpunkt\u001b[0m not found.\n  Please use the NLTK Downloader to obtain the resource:\n\n  \u001b[31m>>> import nltk\n  >>> nltk.download('punkt')\n  \u001b[0m\n  For more information see: https://www.nltk.org/data.html\n\n  Attempted to load \u001b[93mtokenizers/punkt/PY3/english.pickle\u001b[0m\n\n  Searched in:\n    - '/root/nltk_data'\n    - '/usr/nltk_data'\n    - '/usr/share/nltk_data'\n    - '/usr/lib/nltk_data'\n    - '/usr/share/nltk_data'\n    - '/usr/local/share/nltk_data'\n    - '/usr/lib/nltk_data'\n    - '/usr/local/lib/nltk_data'\n    - ''\n**********************************************************************\n"
     ]
    }
   ],
   "source": [
    "seven_text_data['mean_sent_length'] = seven_text_data['text'].apply(\n",
    "    lambda x: np.mean([len(sent) for sent in tokenize.sent_tokenize(x)])\n",
    ")\n"
   ]
  },
  {
   "cell_type": "code",
   "execution_count": 25,
   "id": "d6b325c3-c344-467e-9c71-34c6691c803c",
   "metadata": {
    "execution": {
     "iopub.execute_input": "2025-03-11T08:57:42.018915Z",
     "iopub.status.busy": "2025-03-11T08:57:42.018590Z",
     "iopub.status.idle": "2025-03-11T08:57:42.181271Z",
     "shell.execute_reply": "2025-03-11T08:57:42.180348Z",
     "shell.execute_reply.started": "2025-03-11T08:57:42.018888Z"
    }
   },
   "outputs": [
    {
     "ename": "ValueError",
     "evalue": "Could not interpret value `mean_sent_length` for parameter `x`",
     "output_type": "error",
     "traceback": [
      "\u001b[0;31m---------------------------------------------------------------------------\u001b[0m",
      "\u001b[0;31mValueError\u001b[0m                                Traceback (most recent call last)",
      "Cell \u001b[0;32mIn[25], line 1\u001b[0m\n\u001b[0;32m----> 1\u001b[0m \u001b[43msns\u001b[49m\u001b[38;5;241;43m.\u001b[39;49m\u001b[43mhistplot\u001b[49m\u001b[43m(\u001b[49m\u001b[43mseven_text_data\u001b[49m\u001b[43m,\u001b[49m\u001b[43m \u001b[49m\u001b[43mx\u001b[49m\u001b[43m \u001b[49m\u001b[38;5;241;43m=\u001b[39;49m\u001b[43m \u001b[49m\u001b[38;5;124;43m'\u001b[39;49m\u001b[38;5;124;43mmean_sent_length\u001b[39;49m\u001b[38;5;124;43m'\u001b[39;49m\u001b[43m,\u001b[49m\u001b[43m \u001b[49m\u001b[43mhue\u001b[49m\u001b[38;5;241;43m=\u001b[39;49m\u001b[38;5;124;43m'\u001b[39;49m\u001b[38;5;124;43mlabel\u001b[39;49m\u001b[38;5;124;43m'\u001b[39;49m\u001b[43m)\u001b[49m\n",
      "File \u001b[0;32m/usr/local/lib/python3.11/dist-packages/seaborn/distributions.py:1395\u001b[0m, in \u001b[0;36mhistplot\u001b[0;34m(data, x, y, hue, weights, stat, bins, binwidth, binrange, discrete, cumulative, common_bins, common_norm, multiple, element, fill, shrink, kde, kde_kws, line_kws, thresh, pthresh, pmax, cbar, cbar_ax, cbar_kws, palette, hue_order, hue_norm, color, log_scale, legend, ax, **kwargs)\u001b[0m\n\u001b[1;32m   1374\u001b[0m \u001b[38;5;28;01mdef\u001b[39;00m \u001b[38;5;21mhistplot\u001b[39m(\n\u001b[1;32m   1375\u001b[0m     data\u001b[38;5;241m=\u001b[39m\u001b[38;5;28;01mNone\u001b[39;00m, \u001b[38;5;241m*\u001b[39m,\n\u001b[1;32m   1376\u001b[0m     \u001b[38;5;66;03m# Vector variables\u001b[39;00m\n\u001b[0;32m   (...)\u001b[0m\n\u001b[1;32m   1392\u001b[0m     \u001b[38;5;241m*\u001b[39m\u001b[38;5;241m*\u001b[39mkwargs,\n\u001b[1;32m   1393\u001b[0m ):\n\u001b[0;32m-> 1395\u001b[0m     p \u001b[38;5;241m=\u001b[39m \u001b[43m_DistributionPlotter\u001b[49m\u001b[43m(\u001b[49m\n\u001b[1;32m   1396\u001b[0m \u001b[43m        \u001b[49m\u001b[43mdata\u001b[49m\u001b[38;5;241;43m=\u001b[39;49m\u001b[43mdata\u001b[49m\u001b[43m,\u001b[49m\n\u001b[1;32m   1397\u001b[0m \u001b[43m        \u001b[49m\u001b[43mvariables\u001b[49m\u001b[38;5;241;43m=\u001b[39;49m\u001b[43m_DistributionPlotter\u001b[49m\u001b[38;5;241;43m.\u001b[39;49m\u001b[43mget_semantics\u001b[49m\u001b[43m(\u001b[49m\u001b[38;5;28;43mlocals\u001b[39;49m\u001b[43m(\u001b[49m\u001b[43m)\u001b[49m\u001b[43m)\u001b[49m\n\u001b[1;32m   1398\u001b[0m \u001b[43m    \u001b[49m\u001b[43m)\u001b[49m\n\u001b[1;32m   1400\u001b[0m     p\u001b[38;5;241m.\u001b[39mmap_hue(palette\u001b[38;5;241m=\u001b[39mpalette, order\u001b[38;5;241m=\u001b[39mhue_order, norm\u001b[38;5;241m=\u001b[39mhue_norm)\n\u001b[1;32m   1402\u001b[0m     \u001b[38;5;28;01mif\u001b[39;00m ax \u001b[38;5;129;01mis\u001b[39;00m \u001b[38;5;28;01mNone\u001b[39;00m:\n",
      "File \u001b[0;32m/usr/local/lib/python3.11/dist-packages/seaborn/distributions.py:113\u001b[0m, in \u001b[0;36m_DistributionPlotter.__init__\u001b[0;34m(self, data, variables)\u001b[0m\n\u001b[1;32m    107\u001b[0m \u001b[38;5;28;01mdef\u001b[39;00m \u001b[38;5;21m__init__\u001b[39m(\n\u001b[1;32m    108\u001b[0m     \u001b[38;5;28mself\u001b[39m,\n\u001b[1;32m    109\u001b[0m     data\u001b[38;5;241m=\u001b[39m\u001b[38;5;28;01mNone\u001b[39;00m,\n\u001b[1;32m    110\u001b[0m     variables\u001b[38;5;241m=\u001b[39m{},\n\u001b[1;32m    111\u001b[0m ):\n\u001b[0;32m--> 113\u001b[0m     \u001b[38;5;28;43msuper\u001b[39;49m\u001b[43m(\u001b[49m\u001b[43m)\u001b[49m\u001b[38;5;241;43m.\u001b[39;49m\u001b[38;5;21;43m__init__\u001b[39;49m\u001b[43m(\u001b[49m\u001b[43mdata\u001b[49m\u001b[38;5;241;43m=\u001b[39;49m\u001b[43mdata\u001b[49m\u001b[43m,\u001b[49m\u001b[43m \u001b[49m\u001b[43mvariables\u001b[49m\u001b[38;5;241;43m=\u001b[39;49m\u001b[43mvariables\u001b[49m\u001b[43m)\u001b[49m\n",
      "File \u001b[0;32m/usr/local/lib/python3.11/dist-packages/seaborn/_oldcore.py:640\u001b[0m, in \u001b[0;36mVectorPlotter.__init__\u001b[0;34m(self, data, variables)\u001b[0m\n\u001b[1;32m    635\u001b[0m \u001b[38;5;66;03m# var_ordered is relevant only for categorical axis variables, and may\u001b[39;00m\n\u001b[1;32m    636\u001b[0m \u001b[38;5;66;03m# be better handled by an internal axis information object that tracks\u001b[39;00m\n\u001b[1;32m    637\u001b[0m \u001b[38;5;66;03m# such information and is set up by the scale_* methods. The analogous\u001b[39;00m\n\u001b[1;32m    638\u001b[0m \u001b[38;5;66;03m# information for numeric axes would be information about log scales.\u001b[39;00m\n\u001b[1;32m    639\u001b[0m \u001b[38;5;28mself\u001b[39m\u001b[38;5;241m.\u001b[39m_var_ordered \u001b[38;5;241m=\u001b[39m {\u001b[38;5;124m\"\u001b[39m\u001b[38;5;124mx\u001b[39m\u001b[38;5;124m\"\u001b[39m: \u001b[38;5;28;01mFalse\u001b[39;00m, \u001b[38;5;124m\"\u001b[39m\u001b[38;5;124my\u001b[39m\u001b[38;5;124m\"\u001b[39m: \u001b[38;5;28;01mFalse\u001b[39;00m}  \u001b[38;5;66;03m# alt., used DefaultDict\u001b[39;00m\n\u001b[0;32m--> 640\u001b[0m \u001b[38;5;28;43mself\u001b[39;49m\u001b[38;5;241;43m.\u001b[39;49m\u001b[43massign_variables\u001b[49m\u001b[43m(\u001b[49m\u001b[43mdata\u001b[49m\u001b[43m,\u001b[49m\u001b[43m \u001b[49m\u001b[43mvariables\u001b[49m\u001b[43m)\u001b[49m\n\u001b[1;32m    642\u001b[0m \u001b[38;5;28;01mfor\u001b[39;00m var, \u001b[38;5;28mcls\u001b[39m \u001b[38;5;129;01min\u001b[39;00m \u001b[38;5;28mself\u001b[39m\u001b[38;5;241m.\u001b[39m_semantic_mappings\u001b[38;5;241m.\u001b[39mitems():\n\u001b[1;32m    643\u001b[0m \n\u001b[1;32m    644\u001b[0m     \u001b[38;5;66;03m# Create the mapping function\u001b[39;00m\n\u001b[1;32m    645\u001b[0m     map_func \u001b[38;5;241m=\u001b[39m partial(\u001b[38;5;28mcls\u001b[39m\u001b[38;5;241m.\u001b[39mmap, plotter\u001b[38;5;241m=\u001b[39m\u001b[38;5;28mself\u001b[39m)\n",
      "File \u001b[0;32m/usr/local/lib/python3.11/dist-packages/seaborn/_oldcore.py:701\u001b[0m, in \u001b[0;36mVectorPlotter.assign_variables\u001b[0;34m(self, data, variables)\u001b[0m\n\u001b[1;32m    699\u001b[0m \u001b[38;5;28;01melse\u001b[39;00m:\n\u001b[1;32m    700\u001b[0m     \u001b[38;5;28mself\u001b[39m\u001b[38;5;241m.\u001b[39minput_format \u001b[38;5;241m=\u001b[39m \u001b[38;5;124m\"\u001b[39m\u001b[38;5;124mlong\u001b[39m\u001b[38;5;124m\"\u001b[39m\n\u001b[0;32m--> 701\u001b[0m     plot_data, variables \u001b[38;5;241m=\u001b[39m \u001b[38;5;28;43mself\u001b[39;49m\u001b[38;5;241;43m.\u001b[39;49m\u001b[43m_assign_variables_longform\u001b[49m\u001b[43m(\u001b[49m\n\u001b[1;32m    702\u001b[0m \u001b[43m        \u001b[49m\u001b[43mdata\u001b[49m\u001b[43m,\u001b[49m\u001b[43m \u001b[49m\u001b[38;5;241;43m*\u001b[39;49m\u001b[38;5;241;43m*\u001b[39;49m\u001b[43mvariables\u001b[49m\u001b[43m,\u001b[49m\n\u001b[1;32m    703\u001b[0m \u001b[43m    \u001b[49m\u001b[43m)\u001b[49m\n\u001b[1;32m    705\u001b[0m \u001b[38;5;28mself\u001b[39m\u001b[38;5;241m.\u001b[39mplot_data \u001b[38;5;241m=\u001b[39m plot_data\n\u001b[1;32m    706\u001b[0m \u001b[38;5;28mself\u001b[39m\u001b[38;5;241m.\u001b[39mvariables \u001b[38;5;241m=\u001b[39m variables\n",
      "File \u001b[0;32m/usr/local/lib/python3.11/dist-packages/seaborn/_oldcore.py:938\u001b[0m, in \u001b[0;36mVectorPlotter._assign_variables_longform\u001b[0;34m(self, data, **kwargs)\u001b[0m\n\u001b[1;32m    933\u001b[0m \u001b[38;5;28;01melif\u001b[39;00m \u001b[38;5;28misinstance\u001b[39m(val, (\u001b[38;5;28mstr\u001b[39m, \u001b[38;5;28mbytes\u001b[39m)):\n\u001b[1;32m    934\u001b[0m \n\u001b[1;32m    935\u001b[0m     \u001b[38;5;66;03m# This looks like a column name but we don't know what it means!\u001b[39;00m\n\u001b[1;32m    937\u001b[0m     err \u001b[38;5;241m=\u001b[39m \u001b[38;5;124mf\u001b[39m\u001b[38;5;124m\"\u001b[39m\u001b[38;5;124mCould not interpret value `\u001b[39m\u001b[38;5;132;01m{\u001b[39;00mval\u001b[38;5;132;01m}\u001b[39;00m\u001b[38;5;124m` for parameter `\u001b[39m\u001b[38;5;132;01m{\u001b[39;00mkey\u001b[38;5;132;01m}\u001b[39;00m\u001b[38;5;124m`\u001b[39m\u001b[38;5;124m\"\u001b[39m\n\u001b[0;32m--> 938\u001b[0m     \u001b[38;5;28;01mraise\u001b[39;00m \u001b[38;5;167;01mValueError\u001b[39;00m(err)\n\u001b[1;32m    940\u001b[0m \u001b[38;5;28;01melse\u001b[39;00m:\n\u001b[1;32m    941\u001b[0m \n\u001b[1;32m    942\u001b[0m     \u001b[38;5;66;03m# Otherwise, assume the value is itself data\u001b[39;00m\n\u001b[1;32m    943\u001b[0m \n\u001b[1;32m    944\u001b[0m     \u001b[38;5;66;03m# Raise when data object is present and a vector can't matched\u001b[39;00m\n\u001b[1;32m    945\u001b[0m     \u001b[38;5;28;01mif\u001b[39;00m \u001b[38;5;28misinstance\u001b[39m(data, pd\u001b[38;5;241m.\u001b[39mDataFrame) \u001b[38;5;129;01mand\u001b[39;00m \u001b[38;5;129;01mnot\u001b[39;00m \u001b[38;5;28misinstance\u001b[39m(val, pd\u001b[38;5;241m.\u001b[39mSeries):\n",
      "\u001b[0;31mValueError\u001b[0m: Could not interpret value `mean_sent_length` for parameter `x`"
     ]
    }
   ],
   "source": [
    "sns.histplot(seven_text_data, x = 'mean_sent_length', hue='label')"
   ]
  },
  {
   "cell_type": "markdown",
   "id": "52816435-ae19-4683-b183-3ec0f9b3ded9",
   "metadata": {},
   "source": [
    "### TF-IDF"
   ]
  },
  {
   "cell_type": "markdown",
   "id": "48ca926b-ae8a-4c95-a5c1-b623b802258d",
   "metadata": {},
   "source": [
    "Example of an essay"
   ]
  },
  {
   "cell_type": "code",
   "execution_count": 26,
   "id": "89401fc7-bd88-4251-bc51-6d2c51362f4a",
   "metadata": {
    "execution": {
     "iopub.execute_input": "2025-03-11T08:57:52.312308Z",
     "iopub.status.busy": "2025-03-11T08:57:52.311703Z",
     "iopub.status.idle": "2025-03-11T08:57:52.316718Z",
     "shell.execute_reply": "2025-03-11T08:57:52.316161Z",
     "shell.execute_reply.started": "2025-03-11T08:57:52.312285Z"
    }
   },
   "outputs": [
    {
     "data": {
      "text/plain": [
       "'Many people belive that the face on Mars was created by an alien or aliens. We have evidance that proves it was not.\\n\\nIn 1997 (MGS) arrived on the Red Planet and stayed there for eighteen long yeas. On April 5,1998 (MGS) got a picture of Cydonia, while thousands of web surfers were waiting for the picture to apper on the JPL web site. The picture reavealed a natural landform. Also that there was no alien moniment after all.\\n\\nNevertheless, on April 8, 2001\\x97a cloudless summer day in Cydonia\\x97Mars Global Surveyor drew close enough for a second look. \\x93We had to roll the spacecraft 25 degrees to center the Face in the field of view,\\x94 said Garvin. \\x93Malin\\x92s team captured an extraordinary photo using the camera\\x92s absolute maximum resolution.\\x94 Each pixel in the 2001 image spans 1.56 meters, compared to 43 meters per pixel in the best 1976 Viking photo.\\n\\n\\x93As a rule of thumb, you can discern things in a digital image 3 times bigger than the pixel size,\\x94 I added. \\x93So, if there were objects in this picture like airplanes on the ground or Egyptian-style pyramids or even small shacks, you could see what they were!\\x94\\n\\nWhat the picture actually shows is the Martian equivalent of a butte or mesa\\x97landforms common around the American West. These are some facts on how we know that Cydonia the face on Mars was not created by aliens, and is just a normal land structure.'"
      ]
     },
     "execution_count": 26,
     "metadata": {},
     "output_type": "execute_result"
    }
   ],
   "source": [
    "random_idx = np.random.randint(seven_text_data.shape[0])\n",
    "seven_text_data.iloc[random_idx]['text']"
   ]
  },
  {
   "cell_type": "markdown",
   "id": "811b86b6-a0df-428f-a679-a0852dfe21c1",
   "metadata": {},
   "source": [
    "After going through the corpus we see \\n to jump lines and  \\ before ' that we have to manage for text processing."
   ]
  },
  {
   "cell_type": "code",
   "execution_count": 27,
   "id": "ca025e04-c30a-4b0c-8c2d-2a2e06539f17",
   "metadata": {
    "execution": {
     "iopub.execute_input": "2025-03-11T08:57:56.845460Z",
     "iopub.status.busy": "2025-03-11T08:57:56.845054Z",
     "iopub.status.idle": "2025-03-11T08:57:59.763839Z",
     "shell.execute_reply": "2025-03-11T08:57:59.763371Z",
     "shell.execute_reply.started": "2025-03-11T08:57:56.845443Z"
    }
   },
   "outputs": [],
   "source": [
    "corpus = seven_text_data['text']\n",
    "vectorizer = TfidfVectorizer(max_features = 10000,\n",
    "                            stop_words = 'english',\n",
    "                            )\n",
    "X = vectorizer.fit_transform(corpus,\n",
    "                            )"
   ]
  },
  {
   "cell_type": "code",
   "execution_count": 28,
   "id": "6ebe049a-21d9-49d1-bc07-ed9bb8fec0a1",
   "metadata": {
    "execution": {
     "iopub.execute_input": "2025-03-11T08:58:12.961677Z",
     "iopub.status.busy": "2025-03-11T08:58:12.961089Z",
     "iopub.status.idle": "2025-03-11T08:58:12.969257Z",
     "shell.execute_reply": "2025-03-11T08:58:12.968704Z",
     "shell.execute_reply.started": "2025-03-11T08:58:12.961659Z"
    },
    "scrolled": true
   },
   "outputs": [],
   "source": [
    "features = vectorizer.get_feature_names_out()"
   ]
  },
  {
   "cell_type": "code",
   "execution_count": 29,
   "id": "d1a7601c-749c-4c45-af5f-df8dc89e8225",
   "metadata": {
    "execution": {
     "iopub.execute_input": "2025-03-11T08:58:23.700500Z",
     "iopub.status.busy": "2025-03-11T08:58:23.700293Z",
     "iopub.status.idle": "2025-03-11T08:58:23.703663Z",
     "shell.execute_reply": "2025-03-11T08:58:23.703076Z",
     "shell.execute_reply.started": "2025-03-11T08:58:23.700485Z"
    }
   },
   "outputs": [
    {
     "name": "stdout",
     "output_type": "stream",
     "text": [
      "vectorized corpus dimensions :  (20450, 10000)\n",
      "corpus dataset dimensions :  (20450, 9)\n"
     ]
    }
   ],
   "source": [
    "print(\"vectorized corpus dimensions : \", X.shape)\n",
    "print(\"corpus dataset dimensions : \", seven_text_data.shape)"
   ]
  },
  {
   "cell_type": "markdown",
   "id": "59a8f217-0c5a-4412-987e-a90dcc1175a2",
   "metadata": {},
   "source": [
    "Each line of X represents an essay in the corpus, and each column represents a word"
   ]
  },
  {
   "cell_type": "markdown",
   "id": "51bfe619-7f02-492a-861a-f010111baaf6",
   "metadata": {},
   "source": [
    "## Machine learning task"
   ]
  },
  {
   "cell_type": "code",
   "execution_count": 62,
   "id": "86453112-1927-4ea8-86e7-d790e806d596",
   "metadata": {
    "execution": {
     "iopub.execute_input": "2025-03-11T09:28:40.652225Z",
     "iopub.status.busy": "2025-03-11T09:28:40.652000Z",
     "iopub.status.idle": "2025-03-11T09:28:40.659945Z",
     "shell.execute_reply": "2025-03-11T09:28:40.659335Z",
     "shell.execute_reply.started": "2025-03-11T09:28:40.652209Z"
    }
   },
   "outputs": [],
   "source": [
    "import tensorflow as tf\n",
    "from tensorflow.keras.preprocessing.text import Tokenizer\n",
    "from tensorflow.keras.preprocessing.sequence import pad_sequences\n",
    "\n",
    "X_train, X_test, y_train, y_test = train_test_split(corpus, seven_text_data['label'], test_size=0.2, random_state=42)"
   ]
  },
  {
   "cell_type": "code",
   "execution_count": 63,
   "id": "d601c87e-f9e1-4f8e-a87b-078f6c259ccf",
   "metadata": {
    "execution": {
     "iopub.execute_input": "2025-03-11T09:28:44.477501Z",
     "iopub.status.busy": "2025-03-11T09:28:44.476551Z",
     "iopub.status.idle": "2025-03-11T09:28:49.498553Z",
     "shell.execute_reply": "2025-03-11T09:28:49.497902Z",
     "shell.execute_reply.started": "2025-03-11T09:28:44.477469Z"
    }
   },
   "outputs": [],
   "source": [
    "MAX_NB_WORDS = 5000  # Nombre max de mots dans le vocabulaire\n",
    "MAX_SEQUENCE_LENGTH = 10  # Longueur max d'une séquence\n",
    "\n",
    "tokenizer = Tokenizer(num_words=MAX_NB_WORDS)\n",
    "tokenizer.fit_on_texts(X_train)\n",
    "\n",
    "# Convertir en séquences d'index\n",
    "X_train_seq = tokenizer.texts_to_sequences(X_train)\n",
    "X_test_seq = tokenizer.texts_to_sequences(X_test)\n",
    "\n",
    "# Appliquer du padding pour uniformiser la taille\n",
    "X_train_pad = pad_sequences(X_train_seq, maxlen=MAX_SEQUENCE_LENGTH)\n",
    "X_test_pad = pad_sequences(X_test_seq, maxlen=MAX_SEQUENCE_LENGTH)"
   ]
  },
  {
   "cell_type": "code",
   "execution_count": 64,
   "id": "5fbe169d-2d4c-432b-bcbf-0de7725959c3",
   "metadata": {
    "execution": {
     "iopub.execute_input": "2025-03-11T09:28:51.907545Z",
     "iopub.status.busy": "2025-03-11T09:28:51.906966Z",
     "iopub.status.idle": "2025-03-11T09:28:52.256226Z",
     "shell.execute_reply": "2025-03-11T09:28:52.255739Z",
     "shell.execute_reply.started": "2025-03-11T09:28:51.907526Z"
    }
   },
   "outputs": [
    {
     "name": "stdout",
     "output_type": "stream",
     "text": [
      "Model: \"sequential_2\"\n",
      "_________________________________________________________________\n",
      " Layer (type)                Output Shape              Param #   \n",
      "=================================================================\n",
      " embedding_2 (Embedding)     (None, 10, 100)           500000    \n",
      "                                                                 \n",
      " lstm_4 (LSTM)               (None, 10, 128)           117248    \n",
      "                                                                 \n",
      " dropout_2 (Dropout)         (None, 10, 128)           0         \n",
      "                                                                 \n",
      " lstm_5 (LSTM)               (None, 64)                49408     \n",
      "                                                                 \n",
      " dense_2 (Dense)             (None, 1)                 65        \n",
      "                                                                 \n",
      "=================================================================\n",
      "Total params: 666721 (2.54 MB)\n",
      "Trainable params: 666721 (2.54 MB)\n",
      "Non-trainable params: 0 (0.00 Byte)\n",
      "_________________________________________________________________\n"
     ]
    }
   ],
   "source": [
    "from tensorflow.keras.models import Sequential\n",
    "from tensorflow.keras.layers import Embedding, LSTM, Dense, Dropout\n",
    "\n",
    "EMBEDDING_DIM = 100  # Dimension de l'embedding\n",
    "\n",
    "model = Sequential([\n",
    "    Embedding(input_dim=MAX_NB_WORDS, output_dim=EMBEDDING_DIM, input_length=MAX_SEQUENCE_LENGTH),\n",
    "    LSTM(128, return_sequences=True),  # LSTM avec retour des séquences\n",
    "    Dropout(0.2),\n",
    "    LSTM(64),  # Deuxième couche LSTM\n",
    "    Dense(1, activation=\"sigmoid\")  # Sigmoid car classification binaire\n",
    "])\n",
    "\n",
    "model.compile(loss=\"binary_crossentropy\", optimizer=\"adam\", metrics=[\"accuracy\",tf.keras.metrics.AUC(name=\"auc\")])\n",
    "model.summary()\n"
   ]
  },
  {
   "cell_type": "code",
   "execution_count": 65,
   "id": "54ff2f89-071c-416b-b85b-bbff408668a8",
   "metadata": {
    "execution": {
     "iopub.execute_input": "2025-03-11T09:28:55.702735Z",
     "iopub.status.busy": "2025-03-11T09:28:55.702521Z",
     "iopub.status.idle": "2025-03-11T09:32:01.156407Z",
     "shell.execute_reply": "2025-03-11T09:32:01.155859Z",
     "shell.execute_reply.started": "2025-03-11T09:28:55.702718Z"
    }
   },
   "outputs": [
    {
     "name": "stdout",
     "output_type": "stream",
     "text": [
      "Epoch 1/50\n",
      "512/512 [==============================] - 10s 14ms/step - loss: 0.3225 - accuracy: 0.8657 - auc: 0.9126 - val_loss: 0.2540 - val_accuracy: 0.8966 - val_auc: 0.9479\n",
      "Epoch 2/50\n",
      "512/512 [==============================] - 4s 7ms/step - loss: 0.1947 - accuracy: 0.9244 - auc: 0.9685 - val_loss: 0.2543 - val_accuracy: 0.8988 - val_auc: 0.9471\n",
      "Epoch 3/50\n",
      "512/512 [==============================] - 4s 7ms/step - loss: 0.1517 - accuracy: 0.9434 - auc: 0.9803 - val_loss: 0.2698 - val_accuracy: 0.8963 - val_auc: 0.9477\n",
      "Epoch 4/50\n",
      "512/512 [==============================] - 3s 7ms/step - loss: 0.1218 - accuracy: 0.9534 - auc: 0.9868 - val_loss: 0.2982 - val_accuracy: 0.8971 - val_auc: 0.9429\n",
      "Epoch 5/50\n",
      "512/512 [==============================] - 4s 7ms/step - loss: 0.0997 - accuracy: 0.9630 - auc: 0.9912 - val_loss: 0.3408 - val_accuracy: 0.8983 - val_auc: 0.9386\n",
      "Epoch 6/50\n",
      "512/512 [==============================] - 3s 7ms/step - loss: 0.0813 - accuracy: 0.9685 - auc: 0.9941 - val_loss: 0.3723 - val_accuracy: 0.8954 - val_auc: 0.9315\n",
      "Epoch 7/50\n",
      "512/512 [==============================] - 3s 6ms/step - loss: 0.0672 - accuracy: 0.9752 - auc: 0.9956 - val_loss: 0.4064 - val_accuracy: 0.8988 - val_auc: 0.9271\n",
      "Epoch 8/50\n",
      "512/512 [==============================] - 4s 7ms/step - loss: 0.0567 - accuracy: 0.9789 - auc: 0.9968 - val_loss: 0.4482 - val_accuracy: 0.8846 - val_auc: 0.9300\n",
      "Epoch 9/50\n",
      "512/512 [==============================] - 4s 7ms/step - loss: 0.0455 - accuracy: 0.9834 - auc: 0.9978 - val_loss: 0.5402 - val_accuracy: 0.8929 - val_auc: 0.9154\n",
      "Epoch 10/50\n",
      "512/512 [==============================] - 4s 7ms/step - loss: 0.0377 - accuracy: 0.9864 - auc: 0.9984 - val_loss: 0.5121 - val_accuracy: 0.8917 - val_auc: 0.9115\n",
      "Epoch 11/50\n",
      "512/512 [==============================] - 3s 6ms/step - loss: 0.0319 - accuracy: 0.9881 - auc: 0.9985 - val_loss: 0.6093 - val_accuracy: 0.8941 - val_auc: 0.9080\n",
      "Epoch 12/50\n",
      "512/512 [==============================] - 3s 7ms/step - loss: 0.0268 - accuracy: 0.9903 - auc: 0.9988 - val_loss: 0.5946 - val_accuracy: 0.8932 - val_auc: 0.9087\n",
      "Epoch 13/50\n",
      "512/512 [==============================] - 3s 7ms/step - loss: 0.0215 - accuracy: 0.9928 - auc: 0.9992 - val_loss: 0.6314 - val_accuracy: 0.8883 - val_auc: 0.9098\n",
      "Epoch 14/50\n",
      "512/512 [==============================] - 3s 7ms/step - loss: 0.0190 - accuracy: 0.9930 - auc: 0.9995 - val_loss: 0.6850 - val_accuracy: 0.8861 - val_auc: 0.9038\n",
      "Epoch 15/50\n",
      "512/512 [==============================] - 3s 6ms/step - loss: 0.0190 - accuracy: 0.9930 - auc: 0.9997 - val_loss: 0.7151 - val_accuracy: 0.8846 - val_auc: 0.9042\n",
      "Epoch 16/50\n",
      "512/512 [==============================] - 3s 6ms/step - loss: 0.0145 - accuracy: 0.9948 - auc: 0.9995 - val_loss: 0.6513 - val_accuracy: 0.8880 - val_auc: 0.9021\n",
      "Epoch 17/50\n",
      "512/512 [==============================] - 3s 7ms/step - loss: 0.0147 - accuracy: 0.9953 - auc: 0.9998 - val_loss: 0.7455 - val_accuracy: 0.8880 - val_auc: 0.9009\n",
      "Epoch 18/50\n",
      "512/512 [==============================] - 3s 6ms/step - loss: 0.0094 - accuracy: 0.9971 - auc: 0.9995 - val_loss: 0.6963 - val_accuracy: 0.8912 - val_auc: 0.8978\n",
      "Epoch 19/50\n",
      "512/512 [==============================] - 3s 6ms/step - loss: 0.0099 - accuracy: 0.9970 - auc: 0.9998 - val_loss: 0.7089 - val_accuracy: 0.8895 - val_auc: 0.9015\n",
      "Epoch 20/50\n",
      "512/512 [==============================] - 4s 7ms/step - loss: 0.0098 - accuracy: 0.9965 - auc: 0.9999 - val_loss: 0.7842 - val_accuracy: 0.8892 - val_auc: 0.8936\n",
      "Epoch 21/50\n",
      "512/512 [==============================] - 3s 7ms/step - loss: 0.0112 - accuracy: 0.9958 - auc: 0.9998 - val_loss: 0.7385 - val_accuracy: 0.8873 - val_auc: 0.8959\n",
      "Epoch 22/50\n",
      "512/512 [==============================] - 3s 7ms/step - loss: 0.0096 - accuracy: 0.9966 - auc: 0.9997 - val_loss: 0.7423 - val_accuracy: 0.8819 - val_auc: 0.8964\n",
      "Epoch 23/50\n",
      "512/512 [==============================] - 4s 8ms/step - loss: 0.0056 - accuracy: 0.9981 - auc: 0.9999 - val_loss: 0.9024 - val_accuracy: 0.8812 - val_auc: 0.8886\n",
      "Epoch 24/50\n",
      "512/512 [==============================] - 3s 7ms/step - loss: 0.0045 - accuracy: 0.9987 - auc: 0.9999 - val_loss: 0.8959 - val_accuracy: 0.8831 - val_auc: 0.8897\n",
      "Epoch 25/50\n",
      "512/512 [==============================] - 4s 8ms/step - loss: 0.0091 - accuracy: 0.9969 - auc: 0.9997 - val_loss: 0.8442 - val_accuracy: 0.8844 - val_auc: 0.8836\n",
      "Epoch 26/50\n",
      "512/512 [==============================] - 4s 7ms/step - loss: 0.0088 - accuracy: 0.9974 - auc: 0.9998 - val_loss: 0.7773 - val_accuracy: 0.8858 - val_auc: 0.8929\n",
      "Epoch 27/50\n",
      "512/512 [==============================] - 4s 8ms/step - loss: 0.0067 - accuracy: 0.9978 - auc: 1.0000 - val_loss: 0.7875 - val_accuracy: 0.8873 - val_auc: 0.8952\n",
      "Epoch 28/50\n",
      "512/512 [==============================] - 4s 8ms/step - loss: 0.0032 - accuracy: 0.9991 - auc: 0.9998 - val_loss: 0.8387 - val_accuracy: 0.8831 - val_auc: 0.8965\n",
      "Epoch 29/50\n",
      "512/512 [==============================] - 4s 9ms/step - loss: 0.0041 - accuracy: 0.9987 - auc: 0.9999 - val_loss: 0.8422 - val_accuracy: 0.8853 - val_auc: 0.8909\n",
      "Epoch 30/50\n",
      "512/512 [==============================] - 4s 8ms/step - loss: 0.0071 - accuracy: 0.9977 - auc: 0.9998 - val_loss: 0.8401 - val_accuracy: 0.8834 - val_auc: 0.8821\n",
      "Epoch 31/50\n",
      "512/512 [==============================] - 4s 8ms/step - loss: 0.0088 - accuracy: 0.9972 - auc: 0.9997 - val_loss: 0.7617 - val_accuracy: 0.8870 - val_auc: 0.8965\n",
      "Epoch 32/50\n",
      "512/512 [==============================] - 4s 7ms/step - loss: 0.0061 - accuracy: 0.9979 - auc: 0.9999 - val_loss: 0.8011 - val_accuracy: 0.8831 - val_auc: 0.8949\n",
      "Epoch 33/50\n",
      "512/512 [==============================] - 4s 8ms/step - loss: 0.0028 - accuracy: 0.9991 - auc: 1.0000 - val_loss: 0.9129 - val_accuracy: 0.8858 - val_auc: 0.8890\n",
      "Epoch 34/50\n",
      "512/512 [==============================] - 4s 7ms/step - loss: 0.0037 - accuracy: 0.9989 - auc: 0.9998 - val_loss: 0.8246 - val_accuracy: 0.8846 - val_auc: 0.8903\n",
      "Epoch 35/50\n",
      "512/512 [==============================] - 4s 7ms/step - loss: 0.0055 - accuracy: 0.9983 - auc: 0.9999 - val_loss: 0.8382 - val_accuracy: 0.8831 - val_auc: 0.8935\n",
      "Epoch 36/50\n",
      "512/512 [==============================] - 4s 7ms/step - loss: 0.0051 - accuracy: 0.9985 - auc: 0.9998 - val_loss: 0.8032 - val_accuracy: 0.8812 - val_auc: 0.8913\n",
      "Epoch 37/50\n",
      "512/512 [==============================] - 4s 7ms/step - loss: 0.0051 - accuracy: 0.9983 - auc: 0.9999 - val_loss: 0.8490 - val_accuracy: 0.8853 - val_auc: 0.8920\n",
      "Epoch 38/50\n",
      "512/512 [==============================] - 4s 7ms/step - loss: 0.0041 - accuracy: 0.9983 - auc: 1.0000 - val_loss: 0.8195 - val_accuracy: 0.8868 - val_auc: 0.8961\n",
      "Epoch 39/50\n",
      "512/512 [==============================] - 3s 6ms/step - loss: 0.0057 - accuracy: 0.9982 - auc: 0.9998 - val_loss: 0.7779 - val_accuracy: 0.8834 - val_auc: 0.8948\n",
      "Epoch 40/50\n",
      "512/512 [==============================] - 3s 6ms/step - loss: 0.0023 - accuracy: 0.9993 - auc: 1.0000 - val_loss: 0.8942 - val_accuracy: 0.8848 - val_auc: 0.8893\n",
      "Epoch 41/50\n",
      "512/512 [==============================] - 4s 7ms/step - loss: 0.0015 - accuracy: 0.9996 - auc: 1.0000 - val_loss: 0.9572 - val_accuracy: 0.8861 - val_auc: 0.8860\n",
      "Epoch 42/50\n",
      "512/512 [==============================] - 3s 6ms/step - loss: 0.0021 - accuracy: 0.9993 - auc: 1.0000 - val_loss: 0.9272 - val_accuracy: 0.8861 - val_auc: 0.8853\n",
      "Epoch 43/50\n",
      "512/512 [==============================] - 3s 7ms/step - loss: 0.0080 - accuracy: 0.9979 - auc: 0.9997 - val_loss: 0.7736 - val_accuracy: 0.8866 - val_auc: 0.8992\n",
      "Epoch 44/50\n",
      "512/512 [==============================] - 3s 7ms/step - loss: 0.0046 - accuracy: 0.9987 - auc: 1.0000 - val_loss: 0.8068 - val_accuracy: 0.8875 - val_auc: 0.9001\n",
      "Epoch 45/50\n",
      "512/512 [==============================] - 3s 7ms/step - loss: 0.0016 - accuracy: 0.9994 - auc: 1.0000 - val_loss: 0.9036 - val_accuracy: 0.8868 - val_auc: 0.8946\n",
      "Epoch 46/50\n",
      "512/512 [==============================] - 4s 7ms/step - loss: 0.0013 - accuracy: 0.9996 - auc: 1.0000 - val_loss: 0.9727 - val_accuracy: 0.8844 - val_auc: 0.8922\n",
      "Epoch 47/50\n",
      "512/512 [==============================] - 4s 7ms/step - loss: 9.5429e-04 - accuracy: 0.9996 - auc: 1.0000 - val_loss: 1.0233 - val_accuracy: 0.8844 - val_auc: 0.8899\n",
      "Epoch 48/50\n",
      "512/512 [==============================] - 4s 7ms/step - loss: 9.6557e-04 - accuracy: 0.9996 - auc: 1.0000 - val_loss: 1.0546 - val_accuracy: 0.8851 - val_auc: 0.8889\n",
      "Epoch 49/50\n",
      "512/512 [==============================] - 3s 7ms/step - loss: 0.0039 - accuracy: 0.9987 - auc: 0.9998 - val_loss: 0.8782 - val_accuracy: 0.8878 - val_auc: 0.8891\n",
      "Epoch 50/50\n",
      "512/512 [==============================] - 4s 7ms/step - loss: 0.0102 - accuracy: 0.9965 - auc: 0.9997 - val_loss: 0.7116 - val_accuracy: 0.8836 - val_auc: 0.9034\n"
     ]
    },
    {
     "data": {
      "text/plain": [
       "<keras.src.callbacks.History at 0x7faf874d3a10>"
      ]
     },
     "execution_count": 65,
     "metadata": {},
     "output_type": "execute_result"
    }
   ],
   "source": [
    "EPOCHS = 50\n",
    "BATCH_SIZE = 32\n",
    "\n",
    "model.fit(X_train_pad, y_train, epochs=EPOCHS, batch_size=BATCH_SIZE, validation_data=(X_test_pad, y_test))\n"
   ]
  },
  {
   "cell_type": "code",
   "execution_count": 66,
   "id": "a188e0f8-9d10-48b3-b7c0-51099cbaf5a4",
   "metadata": {
    "execution": {
     "iopub.execute_input": "2025-03-11T09:32:39.514803Z",
     "iopub.status.busy": "2025-03-11T09:32:39.514213Z",
     "iopub.status.idle": "2025-03-11T09:32:39.947230Z",
     "shell.execute_reply": "2025-03-11T09:32:39.946500Z",
     "shell.execute_reply.started": "2025-03-11T09:32:39.514780Z"
    }
   },
   "outputs": [],
   "source": [
    "X_test_seq_new = tokenizer.texts_to_sequences(X_test)\n",
    "\n",
    "# Appliquer du padding pour uniformiser la taille\n",
    "X_test_pad_new = pad_sequences(X_test_seq_new, maxlen=MAX_SEQUENCE_LENGTH)\n"
   ]
  },
  {
   "cell_type": "code",
   "execution_count": 67,
   "id": "84968c2b-7a23-4a4a-8a12-b78008f22d92",
   "metadata": {
    "execution": {
     "iopub.execute_input": "2025-03-11T09:32:58.550174Z",
     "iopub.status.busy": "2025-03-11T09:32:58.549493Z",
     "iopub.status.idle": "2025-03-11T09:32:59.378861Z",
     "shell.execute_reply": "2025-03-11T09:32:59.378224Z",
     "shell.execute_reply.started": "2025-03-11T09:32:58.550150Z"
    }
   },
   "outputs": [
    {
     "name": "stdout",
     "output_type": "stream",
     "text": [
      "128/128 [==============================] - 1s 2ms/step\n"
     ]
    },
    {
     "data": {
      "text/plain": [
       "(4090, 1)"
      ]
     },
     "execution_count": 67,
     "metadata": {},
     "output_type": "execute_result"
    }
   ],
   "source": [
    "probabilities = model.predict(X_test_pad_new)\n",
    "probabilities.shape"
   ]
  },
  {
   "cell_type": "code",
   "execution_count": 49,
   "id": "53ec5a81-ac52-4f48-9e74-3685e082ac80",
   "metadata": {
    "execution": {
     "iopub.execute_input": "2025-03-11T09:19:23.315142Z",
     "iopub.status.busy": "2025-03-11T09:19:23.314580Z",
     "iopub.status.idle": "2025-03-11T09:19:23.318837Z",
     "shell.execute_reply": "2025-03-11T09:19:23.318237Z",
     "shell.execute_reply.started": "2025-03-11T09:19:23.315122Z"
    }
   },
   "outputs": [
    {
     "data": {
      "text/plain": [
       "(20450,)"
      ]
     },
     "execution_count": 49,
     "metadata": {},
     "output_type": "execute_result"
    }
   ],
   "source": [
    "y = seven_text_data['label'].values\n",
    "y.shape"
   ]
  },
  {
   "cell_type": "code",
   "execution_count": 50,
   "id": "55396214-40d6-468a-bf38-1f8a4b23b143",
   "metadata": {
    "execution": {
     "iopub.execute_input": "2025-03-11T09:19:26.559708Z",
     "iopub.status.busy": "2025-03-11T09:19:26.559080Z",
     "iopub.status.idle": "2025-03-11T09:19:26.577279Z",
     "shell.execute_reply": "2025-03-11T09:19:26.576677Z",
     "shell.execute_reply.started": "2025-03-11T09:19:26.559677Z"
    }
   },
   "outputs": [],
   "source": [
    "X_train, X_test, y_train, y_test = train_test_split(X,y)"
   ]
  },
  {
   "cell_type": "code",
   "execution_count": 51,
   "id": "2e8ae38f-646d-4429-bc5a-8d6805f04a9f",
   "metadata": {
    "execution": {
     "iopub.execute_input": "2025-03-11T09:19:28.899491Z",
     "iopub.status.busy": "2025-03-11T09:19:28.899025Z",
     "iopub.status.idle": "2025-03-11T09:19:28.903096Z",
     "shell.execute_reply": "2025-03-11T09:19:28.902342Z",
     "shell.execute_reply.started": "2025-03-11T09:19:28.899472Z"
    }
   },
   "outputs": [],
   "source": [
    "reg = linear_model.LogisticRegression()"
   ]
  },
  {
   "cell_type": "code",
   "execution_count": 52,
   "id": "ed2ab215-3de4-48bf-97cd-9b8852d657a5",
   "metadata": {
    "execution": {
     "iopub.execute_input": "2025-03-11T09:19:31.432471Z",
     "iopub.status.busy": "2025-03-11T09:19:31.431636Z",
     "iopub.status.idle": "2025-03-11T09:19:32.129901Z",
     "shell.execute_reply": "2025-03-11T09:19:32.129352Z",
     "shell.execute_reply.started": "2025-03-11T09:19:31.432436Z"
    }
   },
   "outputs": [
    {
     "data": {
      "text/html": [
       "<style>#sk-container-id-1 {color: black;}#sk-container-id-1 pre{padding: 0;}#sk-container-id-1 div.sk-toggleable {background-color: white;}#sk-container-id-1 label.sk-toggleable__label {cursor: pointer;display: block;width: 100%;margin-bottom: 0;padding: 0.3em;box-sizing: border-box;text-align: center;}#sk-container-id-1 label.sk-toggleable__label-arrow:before {content: \"▸\";float: left;margin-right: 0.25em;color: #696969;}#sk-container-id-1 label.sk-toggleable__label-arrow:hover:before {color: black;}#sk-container-id-1 div.sk-estimator:hover label.sk-toggleable__label-arrow:before {color: black;}#sk-container-id-1 div.sk-toggleable__content {max-height: 0;max-width: 0;overflow: hidden;text-align: left;background-color: #f0f8ff;}#sk-container-id-1 div.sk-toggleable__content pre {margin: 0.2em;color: black;border-radius: 0.25em;background-color: #f0f8ff;}#sk-container-id-1 input.sk-toggleable__control:checked~div.sk-toggleable__content {max-height: 200px;max-width: 100%;overflow: auto;}#sk-container-id-1 input.sk-toggleable__control:checked~label.sk-toggleable__label-arrow:before {content: \"▾\";}#sk-container-id-1 div.sk-estimator input.sk-toggleable__control:checked~label.sk-toggleable__label {background-color: #d4ebff;}#sk-container-id-1 div.sk-label input.sk-toggleable__control:checked~label.sk-toggleable__label {background-color: #d4ebff;}#sk-container-id-1 input.sk-hidden--visually {border: 0;clip: rect(1px 1px 1px 1px);clip: rect(1px, 1px, 1px, 1px);height: 1px;margin: -1px;overflow: hidden;padding: 0;position: absolute;width: 1px;}#sk-container-id-1 div.sk-estimator {font-family: monospace;background-color: #f0f8ff;border: 1px dotted black;border-radius: 0.25em;box-sizing: border-box;margin-bottom: 0.5em;}#sk-container-id-1 div.sk-estimator:hover {background-color: #d4ebff;}#sk-container-id-1 div.sk-parallel-item::after {content: \"\";width: 100%;border-bottom: 1px solid gray;flex-grow: 1;}#sk-container-id-1 div.sk-label:hover label.sk-toggleable__label {background-color: #d4ebff;}#sk-container-id-1 div.sk-serial::before {content: \"\";position: absolute;border-left: 1px solid gray;box-sizing: border-box;top: 0;bottom: 0;left: 50%;z-index: 0;}#sk-container-id-1 div.sk-serial {display: flex;flex-direction: column;align-items: center;background-color: white;padding-right: 0.2em;padding-left: 0.2em;position: relative;}#sk-container-id-1 div.sk-item {position: relative;z-index: 1;}#sk-container-id-1 div.sk-parallel {display: flex;align-items: stretch;justify-content: center;background-color: white;position: relative;}#sk-container-id-1 div.sk-item::before, #sk-container-id-1 div.sk-parallel-item::before {content: \"\";position: absolute;border-left: 1px solid gray;box-sizing: border-box;top: 0;bottom: 0;left: 50%;z-index: -1;}#sk-container-id-1 div.sk-parallel-item {display: flex;flex-direction: column;z-index: 1;position: relative;background-color: white;}#sk-container-id-1 div.sk-parallel-item:first-child::after {align-self: flex-end;width: 50%;}#sk-container-id-1 div.sk-parallel-item:last-child::after {align-self: flex-start;width: 50%;}#sk-container-id-1 div.sk-parallel-item:only-child::after {width: 0;}#sk-container-id-1 div.sk-dashed-wrapped {border: 1px dashed gray;margin: 0 0.4em 0.5em 0.4em;box-sizing: border-box;padding-bottom: 0.4em;background-color: white;}#sk-container-id-1 div.sk-label label {font-family: monospace;font-weight: bold;display: inline-block;line-height: 1.2em;}#sk-container-id-1 div.sk-label-container {text-align: center;}#sk-container-id-1 div.sk-container {/* jupyter's `normalize.less` sets `[hidden] { display: none; }` but bootstrap.min.css set `[hidden] { display: none !important; }` so we also need the `!important` here to be able to override the default hidden behavior on the sphinx rendered scikit-learn.org. See: https://github.com/scikit-learn/scikit-learn/issues/21755 */display: inline-block !important;position: relative;}#sk-container-id-1 div.sk-text-repr-fallback {display: none;}</style><div id=\"sk-container-id-1\" class=\"sk-top-container\"><div class=\"sk-text-repr-fallback\"><pre>LogisticRegression()</pre><b>In a Jupyter environment, please rerun this cell to show the HTML representation or trust the notebook. <br />On GitHub, the HTML representation is unable to render, please try loading this page with nbviewer.org.</b></div><div class=\"sk-container\" hidden><div class=\"sk-item\"><div class=\"sk-estimator sk-toggleable\"><input class=\"sk-toggleable__control sk-hidden--visually\" id=\"sk-estimator-id-1\" type=\"checkbox\" checked><label for=\"sk-estimator-id-1\" class=\"sk-toggleable__label sk-toggleable__label-arrow\">LogisticRegression</label><div class=\"sk-toggleable__content\"><pre>LogisticRegression()</pre></div></div></div></div></div>"
      ],
      "text/plain": [
       "LogisticRegression()"
      ]
     },
     "execution_count": 52,
     "metadata": {},
     "output_type": "execute_result"
    }
   ],
   "source": [
    "reg.fit(X_train,y_train)"
   ]
  },
  {
   "cell_type": "code",
   "execution_count": 53,
   "id": "3c667691-4f78-4db2-abe6-5059634b05b0",
   "metadata": {
    "execution": {
     "iopub.execute_input": "2025-03-11T09:19:35.000762Z",
     "iopub.status.busy": "2025-03-11T09:19:35.000558Z",
     "iopub.status.idle": "2025-03-11T09:19:35.005111Z",
     "shell.execute_reply": "2025-03-11T09:19:35.004334Z",
     "shell.execute_reply.started": "2025-03-11T09:19:35.000747Z"
    }
   },
   "outputs": [],
   "source": [
    "y_pred = reg.predict(X_test)"
   ]
  },
  {
   "cell_type": "code",
   "execution_count": 58,
   "id": "f1b1c815-480c-4690-bc17-c1a7b20156bd",
   "metadata": {
    "execution": {
     "iopub.execute_input": "2025-03-11T09:23:25.006578Z",
     "iopub.status.busy": "2025-03-11T09:23:25.006102Z",
     "iopub.status.idle": "2025-03-11T09:23:25.013383Z",
     "shell.execute_reply": "2025-03-11T09:23:25.012769Z",
     "shell.execute_reply.started": "2025-03-11T09:23:25.006562Z"
    }
   },
   "outputs": [
    {
     "data": {
      "text/plain": [
       "0.9903038138332256"
      ]
     },
     "execution_count": 58,
     "metadata": {},
     "output_type": "execute_result"
    }
   ],
   "source": [
    "metrics.f1_score(y_test,y_pred)"
   ]
  },
  {
   "cell_type": "code",
   "execution_count": 59,
   "id": "5e18fd12-dbda-4af2-9245-a50473a14b71",
   "metadata": {
    "execution": {
     "iopub.execute_input": "2025-03-11T09:24:07.728444Z",
     "iopub.status.busy": "2025-03-11T09:24:07.727980Z",
     "iopub.status.idle": "2025-03-11T09:24:07.734306Z",
     "shell.execute_reply": "2025-03-11T09:24:07.733652Z",
     "shell.execute_reply.started": "2025-03-11T09:24:07.728415Z"
    }
   },
   "outputs": [
    {
     "data": {
      "text/plain": [
       "(5113, 2)"
      ]
     },
     "execution_count": 59,
     "metadata": {},
     "output_type": "execute_result"
    }
   ],
   "source": [
    "y_proba = reg.predict_proba(X_test)\n",
    "y_proba_class1 = y_proba[:, 1]"
   ]
  },
  {
   "cell_type": "code",
   "execution_count": 35,
   "id": "9b8ad61a-1140-4cc5-ae60-dbe387c8879a",
   "metadata": {
    "collapsed": true,
    "execution": {
     "iopub.execute_input": "2025-03-05T18:14:08.717539Z",
     "iopub.status.busy": "2025-03-05T18:14:08.716290Z",
     "iopub.status.idle": "2025-03-05T18:14:09.083145Z",
     "shell.execute_reply": "2025-03-05T18:14:09.081331Z",
     "shell.execute_reply.started": "2025-03-05T18:14:08.717486Z"
    },
    "jupyter": {
     "outputs_hidden": true
    }
   },
   "outputs": [
    {
     "ename": "FileNotFoundError",
     "evalue": "[Errno 2] No such file or directory: '../input/llm-detect-ai-generated-text/test_essays.csv'",
     "output_type": "error",
     "traceback": [
      "\u001b[0;31m---------------------------------------------------------------------------\u001b[0m",
      "\u001b[0;31mFileNotFoundError\u001b[0m                         Traceback (most recent call last)",
      "Cell \u001b[0;32mIn[35], line 1\u001b[0m\n\u001b[0;32m----> 1\u001b[0m df \u001b[38;5;241m=\u001b[39m \u001b[43mpd\u001b[49m\u001b[38;5;241;43m.\u001b[39;49m\u001b[43mread_csv\u001b[49m\u001b[43m(\u001b[49m\u001b[38;5;124;43m'\u001b[39;49m\u001b[38;5;124;43m../input/llm-detect-ai-generated-text/test_essays.csv\u001b[39;49m\u001b[38;5;124;43m'\u001b[39;49m\u001b[43m)\u001b[49m\n\u001b[1;32m      2\u001b[0m id_list \u001b[38;5;241m=\u001b[39m df[\u001b[38;5;124m'\u001b[39m\u001b[38;5;124mid\u001b[39m\u001b[38;5;124m'\u001b[39m]\u001b[38;5;241m.\u001b[39mvalues\n\u001b[1;32m      3\u001b[0m sub_df \u001b[38;5;241m=\u001b[39m pd\u001b[38;5;241m.\u001b[39mDataFrame(data\u001b[38;5;241m=\u001b[39m{\u001b[38;5;124m'\u001b[39m\u001b[38;5;124mid\u001b[39m\u001b[38;5;124m'\u001b[39m: id_list, \u001b[38;5;124m'\u001b[39m\u001b[38;5;124mgenerated\u001b[39m\u001b[38;5;124m'\u001b[39m: y_proba_class1})\n",
      "File \u001b[0;32m/usr/local/lib/python3.11/dist-packages/pandas/io/parsers/readers.py:1024\u001b[0m, in \u001b[0;36mread_csv\u001b[0;34m(filepath_or_buffer, sep, delimiter, header, names, index_col, usecols, dtype, engine, converters, true_values, false_values, skipinitialspace, skiprows, skipfooter, nrows, na_values, keep_default_na, na_filter, verbose, skip_blank_lines, parse_dates, infer_datetime_format, keep_date_col, date_parser, date_format, dayfirst, cache_dates, iterator, chunksize, compression, thousands, decimal, lineterminator, quotechar, quoting, doublequote, escapechar, comment, encoding, encoding_errors, dialect, on_bad_lines, delim_whitespace, low_memory, memory_map, float_precision, storage_options, dtype_backend)\u001b[0m\n\u001b[1;32m   1011\u001b[0m kwds_defaults \u001b[38;5;241m=\u001b[39m _refine_defaults_read(\n\u001b[1;32m   1012\u001b[0m     dialect,\n\u001b[1;32m   1013\u001b[0m     delimiter,\n\u001b[0;32m   (...)\u001b[0m\n\u001b[1;32m   1020\u001b[0m     dtype_backend\u001b[38;5;241m=\u001b[39mdtype_backend,\n\u001b[1;32m   1021\u001b[0m )\n\u001b[1;32m   1022\u001b[0m kwds\u001b[38;5;241m.\u001b[39mupdate(kwds_defaults)\n\u001b[0;32m-> 1024\u001b[0m \u001b[38;5;28;01mreturn\u001b[39;00m \u001b[43m_read\u001b[49m\u001b[43m(\u001b[49m\u001b[43mfilepath_or_buffer\u001b[49m\u001b[43m,\u001b[49m\u001b[43m \u001b[49m\u001b[43mkwds\u001b[49m\u001b[43m)\u001b[49m\n",
      "File \u001b[0;32m/usr/local/lib/python3.11/dist-packages/pandas/io/parsers/readers.py:618\u001b[0m, in \u001b[0;36m_read\u001b[0;34m(filepath_or_buffer, kwds)\u001b[0m\n\u001b[1;32m    615\u001b[0m _validate_names(kwds\u001b[38;5;241m.\u001b[39mget(\u001b[38;5;124m\"\u001b[39m\u001b[38;5;124mnames\u001b[39m\u001b[38;5;124m\"\u001b[39m, \u001b[38;5;28;01mNone\u001b[39;00m))\n\u001b[1;32m    617\u001b[0m \u001b[38;5;66;03m# Create the parser.\u001b[39;00m\n\u001b[0;32m--> 618\u001b[0m parser \u001b[38;5;241m=\u001b[39m \u001b[43mTextFileReader\u001b[49m\u001b[43m(\u001b[49m\u001b[43mfilepath_or_buffer\u001b[49m\u001b[43m,\u001b[49m\u001b[43m \u001b[49m\u001b[38;5;241;43m*\u001b[39;49m\u001b[38;5;241;43m*\u001b[39;49m\u001b[43mkwds\u001b[49m\u001b[43m)\u001b[49m\n\u001b[1;32m    620\u001b[0m \u001b[38;5;28;01mif\u001b[39;00m chunksize \u001b[38;5;129;01mor\u001b[39;00m iterator:\n\u001b[1;32m    621\u001b[0m     \u001b[38;5;28;01mreturn\u001b[39;00m parser\n",
      "File \u001b[0;32m/usr/local/lib/python3.11/dist-packages/pandas/io/parsers/readers.py:1618\u001b[0m, in \u001b[0;36mTextFileReader.__init__\u001b[0;34m(self, f, engine, **kwds)\u001b[0m\n\u001b[1;32m   1615\u001b[0m     \u001b[38;5;28mself\u001b[39m\u001b[38;5;241m.\u001b[39moptions[\u001b[38;5;124m\"\u001b[39m\u001b[38;5;124mhas_index_names\u001b[39m\u001b[38;5;124m\"\u001b[39m] \u001b[38;5;241m=\u001b[39m kwds[\u001b[38;5;124m\"\u001b[39m\u001b[38;5;124mhas_index_names\u001b[39m\u001b[38;5;124m\"\u001b[39m]\n\u001b[1;32m   1617\u001b[0m \u001b[38;5;28mself\u001b[39m\u001b[38;5;241m.\u001b[39mhandles: IOHandles \u001b[38;5;241m|\u001b[39m \u001b[38;5;28;01mNone\u001b[39;00m \u001b[38;5;241m=\u001b[39m \u001b[38;5;28;01mNone\u001b[39;00m\n\u001b[0;32m-> 1618\u001b[0m \u001b[38;5;28mself\u001b[39m\u001b[38;5;241m.\u001b[39m_engine \u001b[38;5;241m=\u001b[39m \u001b[38;5;28;43mself\u001b[39;49m\u001b[38;5;241;43m.\u001b[39;49m\u001b[43m_make_engine\u001b[49m\u001b[43m(\u001b[49m\u001b[43mf\u001b[49m\u001b[43m,\u001b[49m\u001b[43m \u001b[49m\u001b[38;5;28;43mself\u001b[39;49m\u001b[38;5;241;43m.\u001b[39;49m\u001b[43mengine\u001b[49m\u001b[43m)\u001b[49m\n",
      "File \u001b[0;32m/usr/local/lib/python3.11/dist-packages/pandas/io/parsers/readers.py:1878\u001b[0m, in \u001b[0;36mTextFileReader._make_engine\u001b[0;34m(self, f, engine)\u001b[0m\n\u001b[1;32m   1876\u001b[0m     \u001b[38;5;28;01mif\u001b[39;00m \u001b[38;5;124m\"\u001b[39m\u001b[38;5;124mb\u001b[39m\u001b[38;5;124m\"\u001b[39m \u001b[38;5;129;01mnot\u001b[39;00m \u001b[38;5;129;01min\u001b[39;00m mode:\n\u001b[1;32m   1877\u001b[0m         mode \u001b[38;5;241m+\u001b[39m\u001b[38;5;241m=\u001b[39m \u001b[38;5;124m\"\u001b[39m\u001b[38;5;124mb\u001b[39m\u001b[38;5;124m\"\u001b[39m\n\u001b[0;32m-> 1878\u001b[0m \u001b[38;5;28mself\u001b[39m\u001b[38;5;241m.\u001b[39mhandles \u001b[38;5;241m=\u001b[39m \u001b[43mget_handle\u001b[49m\u001b[43m(\u001b[49m\n\u001b[1;32m   1879\u001b[0m \u001b[43m    \u001b[49m\u001b[43mf\u001b[49m\u001b[43m,\u001b[49m\n\u001b[1;32m   1880\u001b[0m \u001b[43m    \u001b[49m\u001b[43mmode\u001b[49m\u001b[43m,\u001b[49m\n\u001b[1;32m   1881\u001b[0m \u001b[43m    \u001b[49m\u001b[43mencoding\u001b[49m\u001b[38;5;241;43m=\u001b[39;49m\u001b[38;5;28;43mself\u001b[39;49m\u001b[38;5;241;43m.\u001b[39;49m\u001b[43moptions\u001b[49m\u001b[38;5;241;43m.\u001b[39;49m\u001b[43mget\u001b[49m\u001b[43m(\u001b[49m\u001b[38;5;124;43m\"\u001b[39;49m\u001b[38;5;124;43mencoding\u001b[39;49m\u001b[38;5;124;43m\"\u001b[39;49m\u001b[43m,\u001b[49m\u001b[43m \u001b[49m\u001b[38;5;28;43;01mNone\u001b[39;49;00m\u001b[43m)\u001b[49m\u001b[43m,\u001b[49m\n\u001b[1;32m   1882\u001b[0m \u001b[43m    \u001b[49m\u001b[43mcompression\u001b[49m\u001b[38;5;241;43m=\u001b[39;49m\u001b[38;5;28;43mself\u001b[39;49m\u001b[38;5;241;43m.\u001b[39;49m\u001b[43moptions\u001b[49m\u001b[38;5;241;43m.\u001b[39;49m\u001b[43mget\u001b[49m\u001b[43m(\u001b[49m\u001b[38;5;124;43m\"\u001b[39;49m\u001b[38;5;124;43mcompression\u001b[39;49m\u001b[38;5;124;43m\"\u001b[39;49m\u001b[43m,\u001b[49m\u001b[43m \u001b[49m\u001b[38;5;28;43;01mNone\u001b[39;49;00m\u001b[43m)\u001b[49m\u001b[43m,\u001b[49m\n\u001b[1;32m   1883\u001b[0m \u001b[43m    \u001b[49m\u001b[43mmemory_map\u001b[49m\u001b[38;5;241;43m=\u001b[39;49m\u001b[38;5;28;43mself\u001b[39;49m\u001b[38;5;241;43m.\u001b[39;49m\u001b[43moptions\u001b[49m\u001b[38;5;241;43m.\u001b[39;49m\u001b[43mget\u001b[49m\u001b[43m(\u001b[49m\u001b[38;5;124;43m\"\u001b[39;49m\u001b[38;5;124;43mmemory_map\u001b[39;49m\u001b[38;5;124;43m\"\u001b[39;49m\u001b[43m,\u001b[49m\u001b[43m \u001b[49m\u001b[38;5;28;43;01mFalse\u001b[39;49;00m\u001b[43m)\u001b[49m\u001b[43m,\u001b[49m\n\u001b[1;32m   1884\u001b[0m \u001b[43m    \u001b[49m\u001b[43mis_text\u001b[49m\u001b[38;5;241;43m=\u001b[39;49m\u001b[43mis_text\u001b[49m\u001b[43m,\u001b[49m\n\u001b[1;32m   1885\u001b[0m \u001b[43m    \u001b[49m\u001b[43merrors\u001b[49m\u001b[38;5;241;43m=\u001b[39;49m\u001b[38;5;28;43mself\u001b[39;49m\u001b[38;5;241;43m.\u001b[39;49m\u001b[43moptions\u001b[49m\u001b[38;5;241;43m.\u001b[39;49m\u001b[43mget\u001b[49m\u001b[43m(\u001b[49m\u001b[38;5;124;43m\"\u001b[39;49m\u001b[38;5;124;43mencoding_errors\u001b[39;49m\u001b[38;5;124;43m\"\u001b[39;49m\u001b[43m,\u001b[49m\u001b[43m \u001b[49m\u001b[38;5;124;43m\"\u001b[39;49m\u001b[38;5;124;43mstrict\u001b[39;49m\u001b[38;5;124;43m\"\u001b[39;49m\u001b[43m)\u001b[49m\u001b[43m,\u001b[49m\n\u001b[1;32m   1886\u001b[0m \u001b[43m    \u001b[49m\u001b[43mstorage_options\u001b[49m\u001b[38;5;241;43m=\u001b[39;49m\u001b[38;5;28;43mself\u001b[39;49m\u001b[38;5;241;43m.\u001b[39;49m\u001b[43moptions\u001b[49m\u001b[38;5;241;43m.\u001b[39;49m\u001b[43mget\u001b[49m\u001b[43m(\u001b[49m\u001b[38;5;124;43m\"\u001b[39;49m\u001b[38;5;124;43mstorage_options\u001b[39;49m\u001b[38;5;124;43m\"\u001b[39;49m\u001b[43m,\u001b[49m\u001b[43m \u001b[49m\u001b[38;5;28;43;01mNone\u001b[39;49;00m\u001b[43m)\u001b[49m\u001b[43m,\u001b[49m\n\u001b[1;32m   1887\u001b[0m \u001b[43m\u001b[49m\u001b[43m)\u001b[49m\n\u001b[1;32m   1888\u001b[0m \u001b[38;5;28;01massert\u001b[39;00m \u001b[38;5;28mself\u001b[39m\u001b[38;5;241m.\u001b[39mhandles \u001b[38;5;129;01mis\u001b[39;00m \u001b[38;5;129;01mnot\u001b[39;00m \u001b[38;5;28;01mNone\u001b[39;00m\n\u001b[1;32m   1889\u001b[0m f \u001b[38;5;241m=\u001b[39m \u001b[38;5;28mself\u001b[39m\u001b[38;5;241m.\u001b[39mhandles\u001b[38;5;241m.\u001b[39mhandle\n",
      "File \u001b[0;32m/usr/local/lib/python3.11/dist-packages/pandas/io/common.py:873\u001b[0m, in \u001b[0;36mget_handle\u001b[0;34m(path_or_buf, mode, encoding, compression, memory_map, is_text, errors, storage_options)\u001b[0m\n\u001b[1;32m    868\u001b[0m \u001b[38;5;28;01melif\u001b[39;00m \u001b[38;5;28misinstance\u001b[39m(handle, \u001b[38;5;28mstr\u001b[39m):\n\u001b[1;32m    869\u001b[0m     \u001b[38;5;66;03m# Check whether the filename is to be opened in binary mode.\u001b[39;00m\n\u001b[1;32m    870\u001b[0m     \u001b[38;5;66;03m# Binary mode does not support 'encoding' and 'newline'.\u001b[39;00m\n\u001b[1;32m    871\u001b[0m     \u001b[38;5;28;01mif\u001b[39;00m ioargs\u001b[38;5;241m.\u001b[39mencoding \u001b[38;5;129;01mand\u001b[39;00m \u001b[38;5;124m\"\u001b[39m\u001b[38;5;124mb\u001b[39m\u001b[38;5;124m\"\u001b[39m \u001b[38;5;129;01mnot\u001b[39;00m \u001b[38;5;129;01min\u001b[39;00m ioargs\u001b[38;5;241m.\u001b[39mmode:\n\u001b[1;32m    872\u001b[0m         \u001b[38;5;66;03m# Encoding\u001b[39;00m\n\u001b[0;32m--> 873\u001b[0m         handle \u001b[38;5;241m=\u001b[39m \u001b[38;5;28;43mopen\u001b[39;49m\u001b[43m(\u001b[49m\n\u001b[1;32m    874\u001b[0m \u001b[43m            \u001b[49m\u001b[43mhandle\u001b[49m\u001b[43m,\u001b[49m\n\u001b[1;32m    875\u001b[0m \u001b[43m            \u001b[49m\u001b[43mioargs\u001b[49m\u001b[38;5;241;43m.\u001b[39;49m\u001b[43mmode\u001b[49m\u001b[43m,\u001b[49m\n\u001b[1;32m    876\u001b[0m \u001b[43m            \u001b[49m\u001b[43mencoding\u001b[49m\u001b[38;5;241;43m=\u001b[39;49m\u001b[43mioargs\u001b[49m\u001b[38;5;241;43m.\u001b[39;49m\u001b[43mencoding\u001b[49m\u001b[43m,\u001b[49m\n\u001b[1;32m    877\u001b[0m \u001b[43m            \u001b[49m\u001b[43merrors\u001b[49m\u001b[38;5;241;43m=\u001b[39;49m\u001b[43merrors\u001b[49m\u001b[43m,\u001b[49m\n\u001b[1;32m    878\u001b[0m \u001b[43m            \u001b[49m\u001b[43mnewline\u001b[49m\u001b[38;5;241;43m=\u001b[39;49m\u001b[38;5;124;43m\"\u001b[39;49m\u001b[38;5;124;43m\"\u001b[39;49m\u001b[43m,\u001b[49m\n\u001b[1;32m    879\u001b[0m \u001b[43m        \u001b[49m\u001b[43m)\u001b[49m\n\u001b[1;32m    880\u001b[0m     \u001b[38;5;28;01melse\u001b[39;00m:\n\u001b[1;32m    881\u001b[0m         \u001b[38;5;66;03m# Binary mode\u001b[39;00m\n\u001b[1;32m    882\u001b[0m         handle \u001b[38;5;241m=\u001b[39m \u001b[38;5;28mopen\u001b[39m(handle, ioargs\u001b[38;5;241m.\u001b[39mmode)\n",
      "\u001b[0;31mFileNotFoundError\u001b[0m: [Errno 2] No such file or directory: '../input/llm-detect-ai-generated-text/test_essays.csv'"
     ]
    }
   ],
   "source": [
    "df = pd.read_csv('../input/llm-detect-ai-generated-text/test_essays.csv')\n",
    "id_list = df['id'].values\n",
    "sub_df = pd.DataFrame(data={'id': id_list, 'generated': y_proba_class1})\n",
    "sub_df.to_csv('submission.csv', index=False)"
   ]
  }
 ],
 "metadata": {
  "kernelspec": {
   "display_name": "Python 3 (ipykernel)",
   "language": "python",
   "name": "python3"
  },
  "language_info": {
   "codemirror_mode": {
    "name": "ipython",
    "version": 3
   },
   "file_extension": ".py",
   "mimetype": "text/x-python",
   "name": "python",
   "nbconvert_exporter": "python",
   "pygments_lexer": "ipython3",
   "version": "3.11.7"
  }
 },
 "nbformat": 4,
 "nbformat_minor": 5
}
