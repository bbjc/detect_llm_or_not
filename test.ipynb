{
 "cells": [
  {
   "cell_type": "code",
   "execution_count": 4,
   "id": "e0b68db9-5347-44e1-bf8f-0bd4a0ec1558",
   "metadata": {
    "execution": {
     "iopub.execute_input": "2025-03-17T22:39:55.632680Z",
     "iopub.status.busy": "2025-03-17T22:39:55.632416Z",
     "iopub.status.idle": "2025-03-17T22:40:00.245697Z",
     "shell.execute_reply": "2025-03-17T22:40:00.245077Z",
     "shell.execute_reply.started": "2025-03-17T22:39:55.632660Z"
    }
   },
   "outputs": [
    {
     "name": "stderr",
     "output_type": "stream",
     "text": [
      "[nltk_data] Downloading package punkt_tab to /root/nltk_data...\n",
      "[nltk_data]   Package punkt_tab is already up-to-date!\n",
      "/tmp/ipykernel_63/2122982171.py:26: SettingWithCopyWarning: \n",
      "A value is trying to be set on a copy of a slice from a DataFrame.\n",
      "Try using .loc[row_indexer,col_indexer] = value instead\n",
      "\n",
      "See the caveats in the documentation: https://pandas.pydata.org/pandas-docs/stable/user_guide/indexing.html#returning-a-view-versus-a-copy\n",
      "  seven_text_data['prompt_name'] = seven_text_data['prompt_name'].str.replace('\"', '')\n",
      "/tmp/ipykernel_63/2122982171.py:27: SettingWithCopyWarning: \n",
      "A value is trying to be set on a copy of a slice from a DataFrame.\n",
      "Try using .loc[row_indexer,col_indexer] = value instead\n",
      "\n",
      "See the caveats in the documentation: https://pandas.pydata.org/pandas-docs/stable/user_guide/indexing.html#returning-a-view-versus-a-copy\n",
      "  seven_text_data['text'] = seven_text_data['text'].apply(clean_text)\n"
     ]
    },
    {
     "name": "stdout",
     "output_type": "stream",
     "text": [
      "Précision : 0.9880\n",
      "Rapport de classification :\n",
      "               precision    recall  f1-score   support\n",
      "\n",
      "           0       0.98      1.00      0.99      2818\n",
      "           1       1.00      0.96      0.98      1272\n",
      "\n",
      "    accuracy                           0.99      4090\n",
      "   macro avg       0.99      0.98      0.99      4090\n",
      "weighted avg       0.99      0.99      0.99      4090\n",
      "\n"
     ]
    },
    {
     "data": {
      "image/png": "[encoded data removed]",
      "text/plain": [
       "<Figure size 640x480 with 2 Axes>"
      ]
     },
     "metadata": {},
     "output_type": "display_data"
    }
   ],
   "source": [
    "import pandas as pd\n",
    "import seaborn as sns\n",
    "import numpy as np\n",
    "import re\n",
    "import unicodedata\n",
    "from matplotlib import pyplot as plt\n",
    "from sklearn.model_selection import train_test_split\n",
    "from sklearn.feature_extraction.text import TfidfVectorizer\n",
    "from sklearn.linear_model import SGDClassifier\n",
    "from sklearn.metrics import accuracy_score, classification_report, confusion_matrix\n",
    "import nltk\n",
    "nltk.download('punkt_tab')\n",
    "\n",
    "def clean_text(text):\n",
    "    text = unicodedata.normalize(\"NFKD\", text)\n",
    "    text = re.sub(r\"[^\\w\\s]\", \"\", text)\n",
    "    text = text.lower()\n",
    "    return text\n",
    "\n",
    "# Chargement des données\n",
    "text_data = pd.read_csv(\"/datasets/data/train_v2_drcat_02.csv\")\n",
    "\n",
    "# Filtrer les données\n",
    "seven_text_data = text_data[text_data['RDizzl3_seven'] == True]\n",
    "seven_text_data['prompt_name'] = seven_text_data['prompt_name'].str.replace('\"', '')\n",
    "seven_text_data['text'] = seven_text_data['text'].apply(clean_text)\n",
    "\n",
    "# Vectorisation du texte\n",
    "vectorizer = TfidfVectorizer(stop_words='english', max_features=5000)\n",
    "X = vectorizer.fit_transform(seven_text_data['text'])\n",
    "y = seven_text_data['label']\n",
    "\n",
    "# Séparation en train/test\n",
    "X_train, X_test, y_train, y_test = train_test_split(X, y, test_size=0.2, random_state=42)\n",
    "\n",
    "# Initialisation du modèle SGDClassifier\n",
    "sgd = SGDClassifier(loss=\"log_loss\", max_iter=1000, tol=1e-3, random_state=42)\n",
    "sgd.fit(X_train, y_train)\n",
    "\n",
    "# Prédictions\n",
    "y_pred = sgd.predict(X_test)\n",
    "\n"
   ]
  },
  {
   "cell_type": "code",
   "execution_count": 6,
   "id": "4b079fe6-b762-442c-a3db-7623f27fc490",
   "metadata": {
    "execution": {
     "iopub.execute_input": "2025-03-17T22:41:21.222603Z",
     "iopub.status.busy": "2025-03-17T22:41:21.222360Z",
     "iopub.status.idle": "2025-03-17T22:41:21.230617Z",
     "shell.execute_reply": "2025-03-17T22:41:21.230186Z",
     "shell.execute_reply.started": "2025-03-17T22:41:21.222585Z"
    }
   },
   "outputs": [
    {
     "data": {
      "text/plain": [
       "array([[0.97282275, 0.02717725],\n",
       "       [0.11171206, 0.88828794],\n",
       "       [0.93086843, 0.06913157],\n",
       "       ...,\n",
       "       [0.99468985, 0.00531015],\n",
       "       [0.99129459, 0.00870541],\n",
       "       [0.78226481, 0.21773519]])"
      ]
     },
     "execution_count": 6,
     "metadata": {},
     "output_type": "execute_result"
    }
   ],
   "source": [
    "y_proba = sgd.predict_proba(X_test) \n",
    "y_proba"
   ]
  }
 ],
 "metadata": {
  "kernelspec": {
   "display_name": "Python 3 (ipykernel)",
   "language": "python",
   "name": "python3"
  },
  "language_info": {
   "codemirror_mode": {
    "name": "ipython",
    "version": 3
   },
   "file_extension": ".py",
   "mimetype": "text/x-python",
   "name": "python",
   "nbconvert_exporter": "python",
   "pygments_lexer": "ipython3",
   "version": "3.11.7"
  }
 },
 "nbformat": 4,
 "nbformat_minor": 5
}
