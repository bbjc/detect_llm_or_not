{
 "cells": [
  {
   "cell_type": "markdown",
   "id": "f3257f4f",
   "metadata": {
    "papermill": {
     "duration": 0.009688,
     "end_time": "2025-03-11T09:56:27.981867",
     "exception": false,
     "start_time": "2025-03-11T09:56:27.972179",
     "status": "completed"
    },
    "tags": []
   },
   "source": [
    "## Import libraries"
   ]
  },
  {
   "cell_type": "code",
   "execution_count": 1,
   "id": "89008371",
   "metadata": {
    "execution": {
     "iopub.execute_input": "2025-03-11T09:56:28.005854Z",
     "iopub.status.busy": "2025-03-11T09:56:28.005405Z",
     "iopub.status.idle": "2025-03-11T09:57:03.569791Z",
     "shell.execute_reply": "2025-03-11T09:57:03.568822Z"
    },
    "papermill": {
     "duration": 35.588795,
     "end_time": "2025-03-11T09:57:03.580362",
     "exception": false,
     "start_time": "2025-03-11T09:56:27.991567",
     "status": "completed"
    },
    "tags": []
   },
   "outputs": [
    {
     "name": "stdout",
     "output_type": "stream",
     "text": [
      "[nltk_data] Error loading punkt_tab: <urlopen error [Errno -3]\n",
      "[nltk_data]     Temporary failure in name resolution>\n"
     ]
    }
   ],
   "source": [
    "import pandas as pd\n",
    "import seaborn as sns\n",
    "import numpy as np\n",
    "import nltk\n",
    "nltk.download('punkt_tab')\n",
    "from nltk import tokenize\n",
    "from matplotlib import pyplot as plt\n",
    "import sklearn\n",
    "from sklearn.model_selection import train_test_split\n",
    "from sklearn.feature_extraction.text import TfidfVectorizer\n",
    "from sklearn import linear_model, metrics\n"
   ]
  },
  {
   "cell_type": "markdown",
   "id": "b88ca825",
   "metadata": {
    "papermill": {
     "duration": 0.008471,
     "end_time": "2025-03-11T09:57:03.599139",
     "exception": false,
     "start_time": "2025-03-11T09:57:03.590668",
     "status": "completed"
    },
    "tags": []
   },
   "source": [
    "## Read data"
   ]
  },
  {
   "cell_type": "markdown",
   "id": "bbe5e013",
   "metadata": {
    "papermill": {
     "duration": 0.00832,
     "end_time": "2025-03-11T09:57:03.616090",
     "exception": false,
     "start_time": "2025-03-11T09:57:03.607770",
     "status": "completed"
    },
    "tags": []
   },
   "source": [
    "Data can be found here : https://www.kaggle.com/datasets/thedrcat/daigt-v2-train-dataset/data"
   ]
  },
  {
   "cell_type": "code",
   "execution_count": 2,
   "id": "1f74df1e",
   "metadata": {
    "execution": {
     "iopub.execute_input": "2025-03-11T09:57:03.635010Z",
     "iopub.status.busy": "2025-03-11T09:57:03.634450Z",
     "iopub.status.idle": "2025-03-11T09:57:06.045776Z",
     "shell.execute_reply": "2025-03-11T09:57:06.044741Z"
    },
    "papermill": {
     "duration": 2.423002,
     "end_time": "2025-03-11T09:57:06.047744",
     "exception": false,
     "start_time": "2025-03-11T09:57:03.624742",
     "status": "completed"
    },
    "tags": []
   },
   "outputs": [],
   "source": [
    "text_data = pd.read_csv(\"/kaggle/input/train-data/train_v2_drcat_02.csv\")"
   ]
  },
  {
   "cell_type": "code",
   "execution_count": 3,
   "id": "11a7f5d9",
   "metadata": {
    "execution": {
     "iopub.execute_input": "2025-03-11T09:57:06.066519Z",
     "iopub.status.busy": "2025-03-11T09:57:06.066220Z",
     "iopub.status.idle": "2025-03-11T09:57:06.092139Z",
     "shell.execute_reply": "2025-03-11T09:57:06.091202Z"
    },
    "papermill": {
     "duration": 0.036762,
     "end_time": "2025-03-11T09:57:06.093581",
     "exception": false,
     "start_time": "2025-03-11T09:57:06.056819",
     "status": "completed"
    },
    "tags": []
   },
   "outputs": [
    {
     "data": {
      "text/html": [
       "<div>\n",
       "<style scoped>\n",
       "    .dataframe tbody tr th:only-of-type {\n",
       "        vertical-align: middle;\n",
       "    }\n",
       "\n",
       "    .dataframe tbody tr th {\n",
       "        vertical-align: top;\n",
       "    }\n",
       "\n",
       "    .dataframe thead th {\n",
       "        text-align: right;\n",
       "    }\n",
       "</style>\n",
       "<table border=\"1\" class=\"dataframe\">\n",
       "  <thead>\n",
       "    <tr style=\"text-align: right;\">\n",
       "      <th></th>\n",
       "      <th>text</th>\n",
       "      <th>label</th>\n",
       "      <th>prompt_name</th>\n",
       "      <th>source</th>\n",
       "      <th>RDizzl3_seven</th>\n",
       "    </tr>\n",
       "  </thead>\n",
       "  <tbody>\n",
       "    <tr>\n",
       "      <th>0</th>\n",
       "      <td>Phones\\n\\nModern humans today are always on th...</td>\n",
       "      <td>0</td>\n",
       "      <td>Phones and driving</td>\n",
       "      <td>persuade_corpus</td>\n",
       "      <td>False</td>\n",
       "    </tr>\n",
       "    <tr>\n",
       "      <th>1</th>\n",
       "      <td>This essay will explain if drivers should or s...</td>\n",
       "      <td>0</td>\n",
       "      <td>Phones and driving</td>\n",
       "      <td>persuade_corpus</td>\n",
       "      <td>False</td>\n",
       "    </tr>\n",
       "    <tr>\n",
       "      <th>2</th>\n",
       "      <td>Driving while the use of cellular devices\\n\\nT...</td>\n",
       "      <td>0</td>\n",
       "      <td>Phones and driving</td>\n",
       "      <td>persuade_corpus</td>\n",
       "      <td>False</td>\n",
       "    </tr>\n",
       "    <tr>\n",
       "      <th>3</th>\n",
       "      <td>Phones &amp; Driving\\n\\nDrivers should not be able...</td>\n",
       "      <td>0</td>\n",
       "      <td>Phones and driving</td>\n",
       "      <td>persuade_corpus</td>\n",
       "      <td>False</td>\n",
       "    </tr>\n",
       "    <tr>\n",
       "      <th>4</th>\n",
       "      <td>Cell Phone Operation While Driving\\n\\nThe abil...</td>\n",
       "      <td>0</td>\n",
       "      <td>Phones and driving</td>\n",
       "      <td>persuade_corpus</td>\n",
       "      <td>False</td>\n",
       "    </tr>\n",
       "  </tbody>\n",
       "</table>\n",
       "</div>"
      ],
      "text/plain": [
       "                                                text  label  \\\n",
       "0  Phones\\n\\nModern humans today are always on th...      0   \n",
       "1  This essay will explain if drivers should or s...      0   \n",
       "2  Driving while the use of cellular devices\\n\\nT...      0   \n",
       "3  Phones & Driving\\n\\nDrivers should not be able...      0   \n",
       "4  Cell Phone Operation While Driving\\n\\nThe abil...      0   \n",
       "\n",
       "          prompt_name           source  RDizzl3_seven  \n",
       "0  Phones and driving  persuade_corpus          False  \n",
       "1  Phones and driving  persuade_corpus          False  \n",
       "2  Phones and driving  persuade_corpus          False  \n",
       "3  Phones and driving  persuade_corpus          False  \n",
       "4  Phones and driving  persuade_corpus          False  "
      ]
     },
     "execution_count": 3,
     "metadata": {},
     "output_type": "execute_result"
    }
   ],
   "source": [
    "text_data.head()"
   ]
  },
  {
   "cell_type": "code",
   "execution_count": 4,
   "id": "4e81cff7",
   "metadata": {
    "execution": {
     "iopub.execute_input": "2025-03-11T09:57:06.112571Z",
     "iopub.status.busy": "2025-03-11T09:57:06.112253Z",
     "iopub.status.idle": "2025-03-11T09:57:06.429961Z",
     "shell.execute_reply": "2025-03-11T09:57:06.428939Z"
    },
    "papermill": {
     "duration": 0.329091,
     "end_time": "2025-03-11T09:57:06.431666",
     "exception": false,
     "start_time": "2025-03-11T09:57:06.102575",
     "status": "completed"
    },
    "tags": []
   },
   "outputs": [
    {
     "data": {
      "text/plain": [
       "text             44868\n",
       "label                2\n",
       "prompt_name         15\n",
       "source              17\n",
       "RDizzl3_seven        2\n",
       "dtype: int64"
      ]
     },
     "execution_count": 4,
     "metadata": {},
     "output_type": "execute_result"
    }
   ],
   "source": [
    "text_data.nunique()"
   ]
  },
  {
   "cell_type": "markdown",
   "id": "5c5f5181",
   "metadata": {
    "papermill": {
     "duration": 0.008735,
     "end_time": "2025-03-11T09:57:06.449583",
     "exception": false,
     "start_time": "2025-03-11T09:57:06.440848",
     "status": "completed"
    },
    "tags": []
   },
   "source": [
    "Let's keep the original prompts"
   ]
  },
  {
   "cell_type": "code",
   "execution_count": 5,
   "id": "d6d3f118",
   "metadata": {
    "execution": {
     "iopub.execute_input": "2025-03-11T09:57:06.468730Z",
     "iopub.status.busy": "2025-03-11T09:57:06.468328Z",
     "iopub.status.idle": "2025-03-11T09:57:06.479612Z",
     "shell.execute_reply": "2025-03-11T09:57:06.478707Z"
    },
    "papermill": {
     "duration": 0.022653,
     "end_time": "2025-03-11T09:57:06.481130",
     "exception": false,
     "start_time": "2025-03-11T09:57:06.458477",
     "status": "completed"
    },
    "tags": []
   },
   "outputs": [],
   "source": [
    "seven_text_data = text_data[text_data['RDizzl3_seven'] == True]"
   ]
  },
  {
   "cell_type": "code",
   "execution_count": 6,
   "id": "378557c2",
   "metadata": {
    "execution": {
     "iopub.execute_input": "2025-03-11T09:57:06.500153Z",
     "iopub.status.busy": "2025-03-11T09:57:06.499855Z",
     "iopub.status.idle": "2025-03-11T09:57:06.623179Z",
     "shell.execute_reply": "2025-03-11T09:57:06.622152Z"
    },
    "papermill": {
     "duration": 0.134686,
     "end_time": "2025-03-11T09:57:06.624877",
     "exception": false,
     "start_time": "2025-03-11T09:57:06.490191",
     "status": "completed"
    },
    "tags": []
   },
   "outputs": [
    {
     "data": {
      "text/plain": [
       "text             20450\n",
       "label                2\n",
       "prompt_name          7\n",
       "source              17\n",
       "RDizzl3_seven        1\n",
       "dtype: int64"
      ]
     },
     "execution_count": 6,
     "metadata": {},
     "output_type": "execute_result"
    }
   ],
   "source": [
    "seven_text_data.nunique()"
   ]
  },
  {
   "cell_type": "markdown",
   "id": "ffaddd5e",
   "metadata": {
    "papermill": {
     "duration": 0.008706,
     "end_time": "2025-03-11T09:57:06.642728",
     "exception": false,
     "start_time": "2025-03-11T09:57:06.634022",
     "status": "completed"
    },
    "tags": []
   },
   "source": [
    "Here we can see that we have 7 different prompts left."
   ]
  },
  {
   "cell_type": "code",
   "execution_count": 7,
   "id": "69a4e1ea",
   "metadata": {
    "execution": {
     "iopub.execute_input": "2025-03-11T09:57:06.661349Z",
     "iopub.status.busy": "2025-03-11T09:57:06.661025Z",
     "iopub.status.idle": "2025-03-11T09:57:06.667986Z",
     "shell.execute_reply": "2025-03-11T09:57:06.667083Z"
    },
    "papermill": {
     "duration": 0.017818,
     "end_time": "2025-03-11T09:57:06.669404",
     "exception": false,
     "start_time": "2025-03-11T09:57:06.651586",
     "status": "completed"
    },
    "tags": []
   },
   "outputs": [
    {
     "data": {
      "text/plain": [
       "array(['Car-free cities', '\"A Cowboy Who Rode the Waves\"',\n",
       "       'Exploring Venus', 'Facial action coding system',\n",
       "       'The Face on Mars', 'Driverless cars',\n",
       "       'Does the electoral college work?'], dtype=object)"
      ]
     },
     "execution_count": 7,
     "metadata": {},
     "output_type": "execute_result"
    }
   ],
   "source": [
    "seven_text_data['prompt_name'].unique()"
   ]
  },
  {
   "cell_type": "code",
   "execution_count": 8,
   "id": "a84473c8",
   "metadata": {
    "execution": {
     "iopub.execute_input": "2025-03-11T09:57:06.688224Z",
     "iopub.status.busy": "2025-03-11T09:57:06.687973Z",
     "iopub.status.idle": "2025-03-11T09:57:06.701209Z",
     "shell.execute_reply": "2025-03-11T09:57:06.700308Z"
    },
    "papermill": {
     "duration": 0.02417,
     "end_time": "2025-03-11T09:57:06.702548",
     "exception": false,
     "start_time": "2025-03-11T09:57:06.678378",
     "status": "completed"
    },
    "tags": []
   },
   "outputs": [
    {
     "name": "stderr",
     "output_type": "stream",
     "text": [
      "<ipython-input-8-fc364d44c5c5>:2: SettingWithCopyWarning: \n",
      "A value is trying to be set on a copy of a slice from a DataFrame.\n",
      "Try using .loc[row_indexer,col_indexer] = value instead\n",
      "\n",
      "See the caveats in the documentation: https://pandas.pydata.org/pandas-docs/stable/user_guide/indexing.html#returning-a-view-versus-a-copy\n",
      "  seven_text_data['prompt_name'] = seven_text_data['prompt_name'].str.replace('''\"''','')\n"
     ]
    },
    {
     "data": {
      "text/plain": [
       "array(['Car-free cities', 'A Cowboy Who Rode the Waves',\n",
       "       'Exploring Venus', 'Facial action coding system',\n",
       "       'The Face on Mars', 'Driverless cars',\n",
       "       'Does the electoral college work?'], dtype=object)"
      ]
     },
     "execution_count": 8,
     "metadata": {},
     "output_type": "execute_result"
    }
   ],
   "source": [
    "# Remove the \" \" \" in the prompt names\n",
    "seven_text_data['prompt_name'] = seven_text_data['prompt_name'].str.replace('''\"''','')\n",
    "seven_text_data['prompt_name'].unique()"
   ]
  },
  {
   "cell_type": "code",
   "execution_count": 9,
   "id": "34a8057e",
   "metadata": {
    "execution": {
     "iopub.execute_input": "2025-03-11T09:57:06.721723Z",
     "iopub.status.busy": "2025-03-11T09:57:06.721404Z",
     "iopub.status.idle": "2025-03-11T09:57:06.727784Z",
     "shell.execute_reply": "2025-03-11T09:57:06.726907Z"
    },
    "papermill": {
     "duration": 0.017519,
     "end_time": "2025-03-11T09:57:06.729273",
     "exception": false,
     "start_time": "2025-03-11T09:57:06.711754",
     "status": "completed"
    },
    "tags": []
   },
   "outputs": [
    {
     "data": {
      "text/plain": [
       "array(['persuade_corpus', 'mistral7binstruct_v2', 'darragh_claude_v6',\n",
       "       'llama_70b_v1', 'llama2_chat', 'darragh_claude_v7',\n",
       "       'falcon_180b_v1', 'chat_gpt_moth', 'radek_500',\n",
       "       'mistral7binstruct_v1', 'NousResearch/Llama-2-7b-chat-hf',\n",
       "       'mistralai/Mistral-7B-Instruct-v0.1', 'palm-text-bison1',\n",
       "       'cohere-command', 'radekgpt4', 'train_essays', 'kingki19_palm'],\n",
       "      dtype=object)"
      ]
     },
     "execution_count": 9,
     "metadata": {},
     "output_type": "execute_result"
    }
   ],
   "source": [
    "seven_text_data['source'].unique()"
   ]
  },
  {
   "cell_type": "markdown",
   "id": "b3a07362",
   "metadata": {
    "papermill": {
     "duration": 0.009388,
     "end_time": "2025-03-11T09:57:06.747957",
     "exception": false,
     "start_time": "2025-03-11T09:57:06.738569",
     "status": "completed"
    },
    "tags": []
   },
   "source": [
    "## Data mining and Feature engineering"
   ]
  },
  {
   "cell_type": "markdown",
   "id": "601c477f",
   "metadata": {
    "papermill": {
     "duration": 0.009103,
     "end_time": "2025-03-11T09:57:06.766444",
     "exception": false,
     "start_time": "2025-03-11T09:57:06.757341",
     "status": "completed"
    },
    "tags": []
   },
   "source": [
    "### Visualization"
   ]
  },
  {
   "cell_type": "markdown",
   "id": "cecb977a",
   "metadata": {
    "papermill": {
     "duration": 0.009287,
     "end_time": "2025-03-11T09:57:06.785279",
     "exception": false,
     "start_time": "2025-03-11T09:57:06.775992",
     "status": "completed"
    },
    "tags": []
   },
   "source": [
    "Class imbalance"
   ]
  },
  {
   "cell_type": "code",
   "execution_count": 10,
   "id": "0ec8b84f",
   "metadata": {
    "execution": {
     "iopub.execute_input": "2025-03-11T09:57:06.805420Z",
     "iopub.status.busy": "2025-03-11T09:57:06.805073Z",
     "iopub.status.idle": "2025-03-11T09:57:06.816888Z",
     "shell.execute_reply": "2025-03-11T09:57:06.816070Z"
    },
    "papermill": {
     "duration": 0.023777,
     "end_time": "2025-03-11T09:57:06.818405",
     "exception": false,
     "start_time": "2025-03-11T09:57:06.794628",
     "status": "completed"
    },
    "tags": []
   },
   "outputs": [],
   "source": [
    "grouped_data=seven_text_data.groupby('label').count().reset_index()"
   ]
  },
  {
   "cell_type": "code",
   "execution_count": 11,
   "id": "179566ad",
   "metadata": {
    "execution": {
     "iopub.execute_input": "2025-03-11T09:57:06.838588Z",
     "iopub.status.busy": "2025-03-11T09:57:06.838279Z",
     "iopub.status.idle": "2025-03-11T09:57:07.070194Z",
     "shell.execute_reply": "2025-03-11T09:57:07.069153Z"
    },
    "papermill": {
     "duration": 0.243494,
     "end_time": "2025-03-11T09:57:07.071598",
     "exception": false,
     "start_time": "2025-03-11T09:57:06.828104",
     "status": "completed"
    },
    "tags": []
   },
   "outputs": [
    {
     "data": {
      "text/plain": [
       "<Axes: xlabel='label', ylabel='text'>"
      ]
     },
     "execution_count": 11,
     "metadata": {},
     "output_type": "execute_result"
    },
    {
     "data": {
      "image/png": "[encoded data removed]",
      "text/plain": [
       "<Figure size 640x480 with 1 Axes>"
      ]
     },
     "metadata": {},
     "output_type": "display_data"
    }
   ],
   "source": [
    "sns.barplot(grouped_data, x = 'label', y = 'text')"
   ]
  },
  {
   "cell_type": "markdown",
   "id": "d4f1f1cb",
   "metadata": {
    "papermill": {
     "duration": 0.010059,
     "end_time": "2025-03-11T09:57:07.092293",
     "exception": false,
     "start_time": "2025-03-11T09:57:07.082234",
     "status": "completed"
    },
    "tags": []
   },
   "source": [
    "We notice a huge class imbalance : there are more handwritten text than AI generated"
   ]
  },
  {
   "cell_type": "markdown",
   "id": "1018eec3",
   "metadata": {
    "papermill": {
     "duration": 0.009804,
     "end_time": "2025-03-11T09:57:07.111982",
     "exception": false,
     "start_time": "2025-03-11T09:57:07.102178",
     "status": "completed"
    },
    "tags": []
   },
   "source": [
    "Add essay length column"
   ]
  },
  {
   "cell_type": "code",
   "execution_count": 12,
   "id": "63261e4a",
   "metadata": {
    "execution": {
     "iopub.execute_input": "2025-03-11T09:57:07.132918Z",
     "iopub.status.busy": "2025-03-11T09:57:07.132533Z",
     "iopub.status.idle": "2025-03-11T09:57:07.154000Z",
     "shell.execute_reply": "2025-03-11T09:57:07.152981Z"
    },
    "papermill": {
     "duration": 0.033573,
     "end_time": "2025-03-11T09:57:07.155399",
     "exception": false,
     "start_time": "2025-03-11T09:57:07.121826",
     "status": "completed"
    },
    "tags": []
   },
   "outputs": [
    {
     "name": "stderr",
     "output_type": "stream",
     "text": [
      "<ipython-input-12-c6c905201ebb>:1: SettingWithCopyWarning: \n",
      "A value is trying to be set on a copy of a slice from a DataFrame.\n",
      "Try using .loc[row_indexer,col_indexer] = value instead\n",
      "\n",
      "See the caveats in the documentation: https://pandas.pydata.org/pandas-docs/stable/user_guide/indexing.html#returning-a-view-versus-a-copy\n",
      "  seven_text_data['length'] = seven_text_data['text'].str.len()\n"
     ]
    },
    {
     "data": {
      "text/html": [
       "<div>\n",
       "<style scoped>\n",
       "    .dataframe tbody tr th:only-of-type {\n",
       "        vertical-align: middle;\n",
       "    }\n",
       "\n",
       "    .dataframe tbody tr th {\n",
       "        vertical-align: top;\n",
       "    }\n",
       "\n",
       "    .dataframe thead th {\n",
       "        text-align: right;\n",
       "    }\n",
       "</style>\n",
       "<table border=\"1\" class=\"dataframe\">\n",
       "  <thead>\n",
       "    <tr style=\"text-align: right;\">\n",
       "      <th></th>\n",
       "      <th>text</th>\n",
       "      <th>label</th>\n",
       "      <th>prompt_name</th>\n",
       "      <th>source</th>\n",
       "      <th>RDizzl3_seven</th>\n",
       "      <th>length</th>\n",
       "    </tr>\n",
       "  </thead>\n",
       "  <tbody>\n",
       "    <tr>\n",
       "      <th>1168</th>\n",
       "      <td>Cars have been around for awhile and they have...</td>\n",
       "      <td>0</td>\n",
       "      <td>Car-free cities</td>\n",
       "      <td>persuade_corpus</td>\n",
       "      <td>True</td>\n",
       "      <td>3114</td>\n",
       "    </tr>\n",
       "    <tr>\n",
       "      <th>1169</th>\n",
       "      <td>Have you ever thought what it would be like no...</td>\n",
       "      <td>0</td>\n",
       "      <td>Car-free cities</td>\n",
       "      <td>persuade_corpus</td>\n",
       "      <td>True</td>\n",
       "      <td>1132</td>\n",
       "    </tr>\n",
       "    <tr>\n",
       "      <th>1170</th>\n",
       "      <td>What you are about to read is going to give yo...</td>\n",
       "      <td>0</td>\n",
       "      <td>Car-free cities</td>\n",
       "      <td>persuade_corpus</td>\n",
       "      <td>True</td>\n",
       "      <td>3319</td>\n",
       "    </tr>\n",
       "    <tr>\n",
       "      <th>1171</th>\n",
       "      <td>cars have many flaws nd and in this day and ag...</td>\n",
       "      <td>0</td>\n",
       "      <td>Car-free cities</td>\n",
       "      <td>persuade_corpus</td>\n",
       "      <td>True</td>\n",
       "      <td>1030</td>\n",
       "    </tr>\n",
       "    <tr>\n",
       "      <th>1172</th>\n",
       "      <td>There are many advantages of limiting car usag...</td>\n",
       "      <td>0</td>\n",
       "      <td>Car-free cities</td>\n",
       "      <td>persuade_corpus</td>\n",
       "      <td>True</td>\n",
       "      <td>1860</td>\n",
       "    </tr>\n",
       "  </tbody>\n",
       "</table>\n",
       "</div>"
      ],
      "text/plain": [
       "                                                   text  label  \\\n",
       "1168  Cars have been around for awhile and they have...      0   \n",
       "1169  Have you ever thought what it would be like no...      0   \n",
       "1170  What you are about to read is going to give yo...      0   \n",
       "1171  cars have many flaws nd and in this day and ag...      0   \n",
       "1172  There are many advantages of limiting car usag...      0   \n",
       "\n",
       "          prompt_name           source  RDizzl3_seven  length  \n",
       "1168  Car-free cities  persuade_corpus           True    3114  \n",
       "1169  Car-free cities  persuade_corpus           True    1132  \n",
       "1170  Car-free cities  persuade_corpus           True    3319  \n",
       "1171  Car-free cities  persuade_corpus           True    1030  \n",
       "1172  Car-free cities  persuade_corpus           True    1860  "
      ]
     },
     "execution_count": 12,
     "metadata": {},
     "output_type": "execute_result"
    }
   ],
   "source": [
    "seven_text_data['length'] = seven_text_data['text'].str.len()\n",
    "seven_text_data.head()"
   ]
  },
  {
   "cell_type": "code",
   "execution_count": 13,
   "id": "f0a0cee2",
   "metadata": {
    "execution": {
     "iopub.execute_input": "2025-03-11T09:57:07.177054Z",
     "iopub.status.busy": "2025-03-11T09:57:07.176766Z",
     "iopub.status.idle": "2025-03-11T09:57:08.247877Z",
     "shell.execute_reply": "2025-03-11T09:57:08.246961Z"
    },
    "papermill": {
     "duration": 1.083746,
     "end_time": "2025-03-11T09:57:08.249451",
     "exception": false,
     "start_time": "2025-03-11T09:57:07.165705",
     "status": "completed"
    },
    "tags": []
   },
   "outputs": [
    {
     "name": "stderr",
     "output_type": "stream",
     "text": [
      "/usr/local/lib/python3.10/dist-packages/seaborn/_oldcore.py:1119: FutureWarning: use_inf_as_na option is deprecated and will be removed in a future version. Convert inf values to NaN before operating instead.\n",
      "  with pd.option_context('mode.use_inf_as_na', True):\n",
      "/usr/local/lib/python3.10/dist-packages/seaborn/_oldcore.py:1075: FutureWarning: When grouping with a length-1 list-like, you will need to pass a length-1 tuple to get_group in a future version of pandas. Pass `(name,)` instead of `name` to silence this warning.\n",
      "  data_subset = grouped_data.get_group(pd_key)\n",
      "/usr/local/lib/python3.10/dist-packages/seaborn/_oldcore.py:1075: FutureWarning: When grouping with a length-1 list-like, you will need to pass a length-1 tuple to get_group in a future version of pandas. Pass `(name,)` instead of `name` to silence this warning.\n",
      "  data_subset = grouped_data.get_group(pd_key)\n",
      "/usr/local/lib/python3.10/dist-packages/seaborn/_oldcore.py:1075: FutureWarning: When grouping with a length-1 list-like, you will need to pass a length-1 tuple to get_group in a future version of pandas. Pass `(name,)` instead of `name` to silence this warning.\n",
      "  data_subset = grouped_data.get_group(pd_key)\n"
     ]
    },
    {
     "data": {
      "text/plain": [
       "<Axes: xlabel='length', ylabel='Count'>"
      ]
     },
     "execution_count": 13,
     "metadata": {},
     "output_type": "execute_result"
    },
    {
     "data": {
      "image/png": "[encoded data removed]",
      "text/plain": [
       "<Figure size 640x480 with 1 Axes>"
      ]
     },
     "metadata": {},
     "output_type": "display_data"
    }
   ],
   "source": [
    "sns.histplot(seven_text_data, x = 'length', hue = 'label')"
   ]
  },
  {
   "cell_type": "code",
   "execution_count": 14,
   "id": "d86ff163",
   "metadata": {
    "execution": {
     "iopub.execute_input": "2025-03-11T09:57:08.272063Z",
     "iopub.status.busy": "2025-03-11T09:57:08.271776Z",
     "iopub.status.idle": "2025-03-11T09:57:08.320423Z",
     "shell.execute_reply": "2025-03-11T09:57:08.319381Z"
    },
    "papermill": {
     "duration": 0.061841,
     "end_time": "2025-03-11T09:57:08.322270",
     "exception": false,
     "start_time": "2025-03-11T09:57:08.260429",
     "status": "completed"
    },
    "tags": []
   },
   "outputs": [
    {
     "name": "stderr",
     "output_type": "stream",
     "text": [
      "<ipython-input-14-5dea6896ae5f>:2: FutureWarning: Downcasting behavior in `replace` is deprecated and will be removed in a future version. To retain the old behavior, explicitly call `result.infer_objects(copy=False)`. To opt-in to the future behavior, set `pd.set_option('future.no_silent_downcasting', True)`\n",
      "  seven_text_data['prompt_id'] = seven_text_data.replace(mapping)['prompt_name']\n",
      "<ipython-input-14-5dea6896ae5f>:2: SettingWithCopyWarning: \n",
      "A value is trying to be set on a copy of a slice from a DataFrame.\n",
      "Try using .loc[row_indexer,col_indexer] = value instead\n",
      "\n",
      "See the caveats in the documentation: https://pandas.pydata.org/pandas-docs/stable/user_guide/indexing.html#returning-a-view-versus-a-copy\n",
      "  seven_text_data['prompt_id'] = seven_text_data.replace(mapping)['prompt_name']\n"
     ]
    }
   ],
   "source": [
    "mapping = dict(zip(seven_text_data['prompt_name'].unique(), range(7)))\n",
    "seven_text_data['prompt_id'] = seven_text_data.replace(mapping)['prompt_name']\n"
   ]
  },
  {
   "cell_type": "code",
   "execution_count": null,
   "id": "623f497c",
   "metadata": {
    "papermill": {
     "duration": 0.010536,
     "end_time": "2025-03-11T09:57:08.343812",
     "exception": false,
     "start_time": "2025-03-11T09:57:08.333276",
     "status": "completed"
    },
    "tags": []
   },
   "outputs": [],
   "source": []
  },
  {
   "cell_type": "code",
   "execution_count": 15,
   "id": "5fe44055",
   "metadata": {
    "execution": {
     "iopub.execute_input": "2025-03-11T09:57:08.366311Z",
     "iopub.status.busy": "2025-03-11T09:57:08.366012Z",
     "iopub.status.idle": "2025-03-11T09:57:08.537163Z",
     "shell.execute_reply": "2025-03-11T09:57:08.536225Z"
    },
    "papermill": {
     "duration": 0.184094,
     "end_time": "2025-03-11T09:57:08.538606",
     "exception": false,
     "start_time": "2025-03-11T09:57:08.354512",
     "status": "completed"
    },
    "tags": []
   },
   "outputs": [
    {
     "data": {
      "text/plain": [
       "<Axes: xlabel='prompt_id', ylabel='text'>"
      ]
     },
     "execution_count": 15,
     "metadata": {},
     "output_type": "execute_result"
    },
    {
     "data": {
      "image/png": "[encoded data removed]",
      "text/plain": [
       "<Figure size 640x480 with 1 Axes>"
      ]
     },
     "metadata": {},
     "output_type": "display_data"
    }
   ],
   "source": [
    "sns.barplot(seven_text_data.groupby('prompt_id').count().reset_index(),x = 'prompt_id', y = 'text')"
   ]
  },
  {
   "cell_type": "code",
   "execution_count": 16,
   "id": "fe1ea0c8",
   "metadata": {
    "execution": {
     "iopub.execute_input": "2025-03-11T09:57:08.562823Z",
     "iopub.status.busy": "2025-03-11T09:57:08.562475Z",
     "iopub.status.idle": "2025-03-11T09:57:09.020337Z",
     "shell.execute_reply": "2025-03-11T09:57:09.019367Z"
    },
    "papermill": {
     "duration": 0.471524,
     "end_time": "2025-03-11T09:57:09.022146",
     "exception": false,
     "start_time": "2025-03-11T09:57:08.550622",
     "status": "completed"
    },
    "tags": []
   },
   "outputs": [
    {
     "name": "stderr",
     "output_type": "stream",
     "text": [
      "<ipython-input-16-f01482ba925c>:2: FutureWarning: Downcasting behavior in `replace` is deprecated and will be removed in a future version. To retain the old behavior, explicitly call `result.infer_objects(copy=False)`. To opt-in to the future behavior, set `pd.set_option('future.no_silent_downcasting', True)`\n",
      "  seven_text_data['source_id'] = seven_text_data.replace(mapping_source)['source']\n",
      "<ipython-input-16-f01482ba925c>:2: SettingWithCopyWarning: \n",
      "A value is trying to be set on a copy of a slice from a DataFrame.\n",
      "Try using .loc[row_indexer,col_indexer] = value instead\n",
      "\n",
      "See the caveats in the documentation: https://pandas.pydata.org/pandas-docs/stable/user_guide/indexing.html#returning-a-view-versus-a-copy\n",
      "  seven_text_data['source_id'] = seven_text_data.replace(mapping_source)['source']\n"
     ]
    },
    {
     "data": {
      "text/plain": [
       "Text(0.5, 1.0, 'Number of essays by source')"
      ]
     },
     "execution_count": 16,
     "metadata": {},
     "output_type": "execute_result"
    },
    {
     "data": {
      "image/png": "[encoded data removed]",
      "text/plain": [
       "<Figure size 640x480 with 1 Axes>"
      ]
     },
     "metadata": {},
     "output_type": "display_data"
    }
   ],
   "source": [
    "mapping_source = dict(zip(seven_text_data['source'].unique(), range(len(seven_text_data['source'].unique()))))\n",
    "seven_text_data['source_id'] = seven_text_data.replace(mapping_source)['source']\n",
    "sorted_seven_text_data = seven_text_data.groupby('source').count().sort_values(\"text\", ascending=False).reset_index()\n",
    "sns.barplot(sorted_seven_text_data,x = 'text', y = 'source', orient = 'h')\n",
    "plt.title(\"Number of essays by source\")"
   ]
  },
  {
   "cell_type": "markdown",
   "id": "df85857f",
   "metadata": {
    "papermill": {
     "duration": 0.012684,
     "end_time": "2025-03-11T09:57:09.047812",
     "exception": false,
     "start_time": "2025-03-11T09:57:09.035128",
     "status": "completed"
    },
    "tags": []
   },
   "source": [
    "The sources are highly skewed so me might need to balance this later"
   ]
  },
  {
   "cell_type": "code",
   "execution_count": 17,
   "id": "6021740e",
   "metadata": {
    "execution": {
     "iopub.execute_input": "2025-03-11T09:57:09.074080Z",
     "iopub.status.busy": "2025-03-11T09:57:09.073730Z",
     "iopub.status.idle": "2025-03-11T09:57:09.077506Z",
     "shell.execute_reply": "2025-03-11T09:57:09.076778Z"
    },
    "papermill": {
     "duration": 0.018883,
     "end_time": "2025-03-11T09:57:09.078994",
     "exception": false,
     "start_time": "2025-03-11T09:57:09.060111",
     "status": "completed"
    },
    "tags": []
   },
   "outputs": [],
   "source": [
    "def word_count(text):\n",
    "    text_list = text.split()\n",
    "    return len(text_list)\n"
   ]
  },
  {
   "cell_type": "code",
   "execution_count": 18,
   "id": "979c3ccb",
   "metadata": {
    "execution": {
     "iopub.execute_input": "2025-03-11T09:57:09.104601Z",
     "iopub.status.busy": "2025-03-11T09:57:09.104315Z",
     "iopub.status.idle": "2025-03-11T09:57:09.599223Z",
     "shell.execute_reply": "2025-03-11T09:57:09.598061Z"
    },
    "papermill": {
     "duration": 0.50924,
     "end_time": "2025-03-11T09:57:09.600657",
     "exception": false,
     "start_time": "2025-03-11T09:57:09.091417",
     "status": "completed"
    },
    "tags": []
   },
   "outputs": [
    {
     "name": "stderr",
     "output_type": "stream",
     "text": [
      "<ipython-input-18-f3baf03f0dda>:1: SettingWithCopyWarning: \n",
      "A value is trying to be set on a copy of a slice from a DataFrame.\n",
      "Try using .loc[row_indexer,col_indexer] = value instead\n",
      "\n",
      "See the caveats in the documentation: https://pandas.pydata.org/pandas-docs/stable/user_guide/indexing.html#returning-a-view-versus-a-copy\n",
      "  seven_text_data['word_count'] = seven_text_data['text'].apply(word_count)\n"
     ]
    },
    {
     "data": {
      "text/html": [
       "<div>\n",
       "<style scoped>\n",
       "    .dataframe tbody tr th:only-of-type {\n",
       "        vertical-align: middle;\n",
       "    }\n",
       "\n",
       "    .dataframe tbody tr th {\n",
       "        vertical-align: top;\n",
       "    }\n",
       "\n",
       "    .dataframe thead th {\n",
       "        text-align: right;\n",
       "    }\n",
       "</style>\n",
       "<table border=\"1\" class=\"dataframe\">\n",
       "  <thead>\n",
       "    <tr style=\"text-align: right;\">\n",
       "      <th></th>\n",
       "      <th>text</th>\n",
       "      <th>label</th>\n",
       "      <th>prompt_name</th>\n",
       "      <th>source</th>\n",
       "      <th>RDizzl3_seven</th>\n",
       "      <th>length</th>\n",
       "      <th>prompt_id</th>\n",
       "      <th>source_id</th>\n",
       "      <th>word_count</th>\n",
       "    </tr>\n",
       "  </thead>\n",
       "  <tbody>\n",
       "    <tr>\n",
       "      <th>1168</th>\n",
       "      <td>Cars have been around for awhile and they have...</td>\n",
       "      <td>0</td>\n",
       "      <td>Car-free cities</td>\n",
       "      <td>persuade_corpus</td>\n",
       "      <td>True</td>\n",
       "      <td>3114</td>\n",
       "      <td>0</td>\n",
       "      <td>0</td>\n",
       "      <td>537</td>\n",
       "    </tr>\n",
       "    <tr>\n",
       "      <th>1169</th>\n",
       "      <td>Have you ever thought what it would be like no...</td>\n",
       "      <td>0</td>\n",
       "      <td>Car-free cities</td>\n",
       "      <td>persuade_corpus</td>\n",
       "      <td>True</td>\n",
       "      <td>1132</td>\n",
       "      <td>0</td>\n",
       "      <td>0</td>\n",
       "      <td>212</td>\n",
       "    </tr>\n",
       "    <tr>\n",
       "      <th>1170</th>\n",
       "      <td>What you are about to read is going to give yo...</td>\n",
       "      <td>0</td>\n",
       "      <td>Car-free cities</td>\n",
       "      <td>persuade_corpus</td>\n",
       "      <td>True</td>\n",
       "      <td>3319</td>\n",
       "      <td>0</td>\n",
       "      <td>0</td>\n",
       "      <td>620</td>\n",
       "    </tr>\n",
       "    <tr>\n",
       "      <th>1171</th>\n",
       "      <td>cars have many flaws nd and in this day and ag...</td>\n",
       "      <td>0</td>\n",
       "      <td>Car-free cities</td>\n",
       "      <td>persuade_corpus</td>\n",
       "      <td>True</td>\n",
       "      <td>1030</td>\n",
       "      <td>0</td>\n",
       "      <td>0</td>\n",
       "      <td>190</td>\n",
       "    </tr>\n",
       "    <tr>\n",
       "      <th>1172</th>\n",
       "      <td>There are many advantages of limiting car usag...</td>\n",
       "      <td>0</td>\n",
       "      <td>Car-free cities</td>\n",
       "      <td>persuade_corpus</td>\n",
       "      <td>True</td>\n",
       "      <td>1860</td>\n",
       "      <td>0</td>\n",
       "      <td>0</td>\n",
       "      <td>314</td>\n",
       "    </tr>\n",
       "  </tbody>\n",
       "</table>\n",
       "</div>"
      ],
      "text/plain": [
       "                                                   text  label  \\\n",
       "1168  Cars have been around for awhile and they have...      0   \n",
       "1169  Have you ever thought what it would be like no...      0   \n",
       "1170  What you are about to read is going to give yo...      0   \n",
       "1171  cars have many flaws nd and in this day and ag...      0   \n",
       "1172  There are many advantages of limiting car usag...      0   \n",
       "\n",
       "          prompt_name           source  RDizzl3_seven  length  prompt_id  \\\n",
       "1168  Car-free cities  persuade_corpus           True    3114          0   \n",
       "1169  Car-free cities  persuade_corpus           True    1132          0   \n",
       "1170  Car-free cities  persuade_corpus           True    3319          0   \n",
       "1171  Car-free cities  persuade_corpus           True    1030          0   \n",
       "1172  Car-free cities  persuade_corpus           True    1860          0   \n",
       "\n",
       "      source_id  word_count  \n",
       "1168          0         537  \n",
       "1169          0         212  \n",
       "1170          0         620  \n",
       "1171          0         190  \n",
       "1172          0         314  "
      ]
     },
     "execution_count": 18,
     "metadata": {},
     "output_type": "execute_result"
    }
   ],
   "source": [
    "seven_text_data['word_count'] = seven_text_data['text'].apply(word_count)\n",
    "seven_text_data.head()"
   ]
  },
  {
   "cell_type": "code",
   "execution_count": 19,
   "id": "2a6da47a",
   "metadata": {
    "execution": {
     "iopub.execute_input": "2025-03-11T09:57:09.627528Z",
     "iopub.status.busy": "2025-03-11T09:57:09.627183Z",
     "iopub.status.idle": "2025-03-11T09:57:10.528735Z",
     "shell.execute_reply": "2025-03-11T09:57:10.527715Z"
    },
    "papermill": {
     "duration": 0.916621,
     "end_time": "2025-03-11T09:57:10.530297",
     "exception": false,
     "start_time": "2025-03-11T09:57:09.613676",
     "status": "completed"
    },
    "tags": []
   },
   "outputs": [
    {
     "name": "stderr",
     "output_type": "stream",
     "text": [
      "/usr/local/lib/python3.10/dist-packages/seaborn/_oldcore.py:1119: FutureWarning: use_inf_as_na option is deprecated and will be removed in a future version. Convert inf values to NaN before operating instead.\n",
      "  with pd.option_context('mode.use_inf_as_na', True):\n",
      "/usr/local/lib/python3.10/dist-packages/seaborn/_oldcore.py:1075: FutureWarning: When grouping with a length-1 list-like, you will need to pass a length-1 tuple to get_group in a future version of pandas. Pass `(name,)` instead of `name` to silence this warning.\n",
      "  data_subset = grouped_data.get_group(pd_key)\n",
      "/usr/local/lib/python3.10/dist-packages/seaborn/_oldcore.py:1075: FutureWarning: When grouping with a length-1 list-like, you will need to pass a length-1 tuple to get_group in a future version of pandas. Pass `(name,)` instead of `name` to silence this warning.\n",
      "  data_subset = grouped_data.get_group(pd_key)\n",
      "/usr/local/lib/python3.10/dist-packages/seaborn/_oldcore.py:1075: FutureWarning: When grouping with a length-1 list-like, you will need to pass a length-1 tuple to get_group in a future version of pandas. Pass `(name,)` instead of `name` to silence this warning.\n",
      "  data_subset = grouped_data.get_group(pd_key)\n"
     ]
    },
    {
     "data": {
      "text/plain": [
       "<Axes: xlabel='word_count', ylabel='Count'>"
      ]
     },
     "execution_count": 19,
     "metadata": {},
     "output_type": "execute_result"
    },
    {
     "data": {
      "image/png": "[encoded data removed]",
      "text/plain": [
       "<Figure size 640x480 with 1 Axes>"
      ]
     },
     "metadata": {},
     "output_type": "display_data"
    }
   ],
   "source": [
    "sns.histplot(seven_text_data, x = 'word_count',kde=True, hue='label')"
   ]
  },
  {
   "cell_type": "code",
   "execution_count": 20,
   "id": "f09fdf99",
   "metadata": {
    "execution": {
     "iopub.execute_input": "2025-03-11T09:57:10.559104Z",
     "iopub.status.busy": "2025-03-11T09:57:10.558778Z",
     "iopub.status.idle": "2025-03-11T09:57:12.335715Z",
     "shell.execute_reply": "2025-03-11T09:57:12.334711Z"
    },
    "papermill": {
     "duration": 1.792814,
     "end_time": "2025-03-11T09:57:12.337302",
     "exception": false,
     "start_time": "2025-03-11T09:57:10.544488",
     "status": "completed"
    },
    "tags": []
   },
   "outputs": [
    {
     "name": "stderr",
     "output_type": "stream",
     "text": [
      "<ipython-input-20-040c5bccf9c1>:1: SettingWithCopyWarning: \n",
      "A value is trying to be set on a copy of a slice from a DataFrame.\n",
      "Try using .loc[row_indexer,col_indexer] = value instead\n",
      "\n",
      "See the caveats in the documentation: https://pandas.pydata.org/pandas-docs/stable/user_guide/indexing.html#returning-a-view-versus-a-copy\n",
      "  seven_text_data['mean_word_length'] = seven_text_data['text'].apply(\n"
     ]
    }
   ],
   "source": [
    "seven_text_data['mean_word_length'] = seven_text_data['text'].apply(\n",
    "    lambda x: np.mean([len(word) for word in x.split()])\n",
    ")"
   ]
  },
  {
   "cell_type": "code",
   "execution_count": 21,
   "id": "80c44efe",
   "metadata": {
    "execution": {
     "iopub.execute_input": "2025-03-11T09:57:12.366387Z",
     "iopub.status.busy": "2025-03-11T09:57:12.366080Z",
     "iopub.status.idle": "2025-03-11T09:57:13.024811Z",
     "shell.execute_reply": "2025-03-11T09:57:13.023829Z"
    },
    "papermill": {
     "duration": 0.674996,
     "end_time": "2025-03-11T09:57:13.026391",
     "exception": false,
     "start_time": "2025-03-11T09:57:12.351395",
     "status": "completed"
    },
    "tags": []
   },
   "outputs": [
    {
     "name": "stderr",
     "output_type": "stream",
     "text": [
      "/usr/local/lib/python3.10/dist-packages/seaborn/_oldcore.py:1119: FutureWarning: use_inf_as_na option is deprecated and will be removed in a future version. Convert inf values to NaN before operating instead.\n",
      "  with pd.option_context('mode.use_inf_as_na', True):\n",
      "/usr/local/lib/python3.10/dist-packages/seaborn/_oldcore.py:1075: FutureWarning: When grouping with a length-1 list-like, you will need to pass a length-1 tuple to get_group in a future version of pandas. Pass `(name,)` instead of `name` to silence this warning.\n",
      "  data_subset = grouped_data.get_group(pd_key)\n",
      "/usr/local/lib/python3.10/dist-packages/seaborn/_oldcore.py:1075: FutureWarning: When grouping with a length-1 list-like, you will need to pass a length-1 tuple to get_group in a future version of pandas. Pass `(name,)` instead of `name` to silence this warning.\n",
      "  data_subset = grouped_data.get_group(pd_key)\n"
     ]
    },
    {
     "data": {
      "text/plain": [
       "<Axes: xlabel='mean_word_length', ylabel='Count'>"
      ]
     },
     "execution_count": 21,
     "metadata": {},
     "output_type": "execute_result"
    },
    {
     "data": {
      "image/png": "[encoded data removed]",
      "text/plain": [
       "<Figure size 640x480 with 1 Axes>"
      ]
     },
     "metadata": {},
     "output_type": "display_data"
    }
   ],
   "source": [
    "sns.histplot(seven_text_data, x = 'mean_word_length',kde=True, hue='label')"
   ]
  },
  {
   "cell_type": "code",
   "execution_count": 22,
   "id": "969cef78",
   "metadata": {
    "execution": {
     "iopub.execute_input": "2025-03-11T09:57:13.057176Z",
     "iopub.status.busy": "2025-03-11T09:57:13.056858Z",
     "iopub.status.idle": "2025-03-11T09:57:26.686428Z",
     "shell.execute_reply": "2025-03-11T09:57:26.685420Z"
    },
    "papermill": {
     "duration": 13.646818,
     "end_time": "2025-03-11T09:57:26.688315",
     "exception": false,
     "start_time": "2025-03-11T09:57:13.041497",
     "status": "completed"
    },
    "tags": []
   },
   "outputs": [
    {
     "name": "stderr",
     "output_type": "stream",
     "text": [
      "<ipython-input-22-82c91d421ccd>:1: SettingWithCopyWarning: \n",
      "A value is trying to be set on a copy of a slice from a DataFrame.\n",
      "Try using .loc[row_indexer,col_indexer] = value instead\n",
      "\n",
      "See the caveats in the documentation: https://pandas.pydata.org/pandas-docs/stable/user_guide/indexing.html#returning-a-view-versus-a-copy\n",
      "  seven_text_data['mean_sent_length'] = seven_text_data['text'].apply(\n"
     ]
    }
   ],
   "source": [
    "seven_text_data['mean_sent_length'] = seven_text_data['text'].apply(\n",
    "    lambda x: np.mean([len(sent) for sent in tokenize.sent_tokenize(x)])\n",
    ")\n"
   ]
  },
  {
   "cell_type": "code",
   "execution_count": 23,
   "id": "4f899e8e",
   "metadata": {
    "execution": {
     "iopub.execute_input": "2025-03-11T09:57:26.720188Z",
     "iopub.status.busy": "2025-03-11T09:57:26.719831Z",
     "iopub.status.idle": "2025-03-11T09:57:31.695705Z",
     "shell.execute_reply": "2025-03-11T09:57:31.694620Z"
    },
    "papermill": {
     "duration": 4.9937,
     "end_time": "2025-03-11T09:57:31.697414",
     "exception": false,
     "start_time": "2025-03-11T09:57:26.703714",
     "status": "completed"
    },
    "tags": []
   },
   "outputs": [
    {
     "name": "stderr",
     "output_type": "stream",
     "text": [
      "/usr/local/lib/python3.10/dist-packages/seaborn/_oldcore.py:1119: FutureWarning: use_inf_as_na option is deprecated and will be removed in a future version. Convert inf values to NaN before operating instead.\n",
      "  with pd.option_context('mode.use_inf_as_na', True):\n",
      "/usr/local/lib/python3.10/dist-packages/seaborn/_oldcore.py:1075: FutureWarning: When grouping with a length-1 list-like, you will need to pass a length-1 tuple to get_group in a future version of pandas. Pass `(name,)` instead of `name` to silence this warning.\n",
      "  data_subset = grouped_data.get_group(pd_key)\n",
      "/usr/local/lib/python3.10/dist-packages/seaborn/_oldcore.py:1075: FutureWarning: When grouping with a length-1 list-like, you will need to pass a length-1 tuple to get_group in a future version of pandas. Pass `(name,)` instead of `name` to silence this warning.\n",
      "  data_subset = grouped_data.get_group(pd_key)\n"
     ]
    },
    {
     "data": {
      "text/plain": [
       "<Axes: xlabel='mean_sent_length', ylabel='Count'>"
      ]
     },
     "execution_count": 23,
     "metadata": {},
     "output_type": "execute_result"
    },
    {
     "data": {
      "image/png": "[encoded data removed]",
      "text/plain": [
       "<Figure size 640x480 with 1 Axes>"
      ]
     },
     "metadata": {},
     "output_type": "display_data"
    }
   ],
   "source": [
    "sns.histplot(seven_text_data, x = 'mean_sent_length', hue='label')"
   ]
  },
  {
   "cell_type": "markdown",
   "id": "20465ae1",
   "metadata": {
    "papermill": {
     "duration": 0.015731,
     "end_time": "2025-03-11T09:57:31.772905",
     "exception": false,
     "start_time": "2025-03-11T09:57:31.757174",
     "status": "completed"
    },
    "tags": []
   },
   "source": [
    "### TF-IDF"
   ]
  },
  {
   "cell_type": "markdown",
   "id": "60614a8d",
   "metadata": {
    "papermill": {
     "duration": 0.015454,
     "end_time": "2025-03-11T09:57:31.803958",
     "exception": false,
     "start_time": "2025-03-11T09:57:31.788504",
     "status": "completed"
    },
    "tags": []
   },
   "source": [
    "Example of an essay"
   ]
  },
  {
   "cell_type": "code",
   "execution_count": 24,
   "id": "2faaf865",
   "metadata": {
    "execution": {
     "iopub.execute_input": "2025-03-11T09:57:31.836420Z",
     "iopub.status.busy": "2025-03-11T09:57:31.836090Z",
     "iopub.status.idle": "2025-03-11T09:57:31.842573Z",
     "shell.execute_reply": "2025-03-11T09:57:31.841544Z"
    },
    "papermill": {
     "duration": 0.024716,
     "end_time": "2025-03-11T09:57:31.844190",
     "exception": false,
     "start_time": "2025-03-11T09:57:31.819474",
     "status": "completed"
    },
    "tags": []
   },
   "outputs": [
    {
     "data": {
      "text/plain": [
       "'Mr. Senator,\\n\\nI think that the Electoral College is a decent way to vote for president. But is it really the best way? Though the Electoral College elects presidents in a way favored by many, it doesn\\'t allow for people to directly vote for the president. Because of that, the Electoral College should be abolished and changed to election by popular vote.\\n\\nVoting by Electoral College can make things unfair. As stated in the article, \"The Indefensible Electoral College\", \"Under the electoral college system, voters vote not for the president, but for a state of electors, who in turn elect the president\" (Source 2). That statement basically says that when a voter goes to vote, they aren\\'t voting for the president, but for someone to go and vote for them. Also, who exactly are the people we go and let vote for the person leading our country? According to the article, \"Electors can be anyone not holding public office\" (Source 2). The people who go and vote can\\'t control who these electors vote for. That\\'s just another way that the Electoral College can be unfair to the voters.\\n\\nAlong with being unfair to the voters, the Electoral College can also be unfair to other people as well, for example, the canidates actually running for president. In an article that is for the Electoral College, it states that, \"...the electoral college is not democratic in a modern sense...it is the electors who elect the president, not the people\" (Source 3). Does this mean that the Electoral College may have been a good system a while ago, and maybe not as good this day in age? Yes, it does. Also, in the article, it states, \"...it is entirely possible that the winner of the electoral vote will not win the national popular vote\" (Source 3). That being said, there is always a chance that the result of an election will not be what the country as a whole wants, but what the electors want.\\n\\nTo conclude, the Electoral College is a very interesting proccess that everyone should know about. But I believe that the Electoral College should be a process that stays in textbooks to be learned about, not to actually be used. The Electoral College should be gone and be changed to election of popular vote. After all, the Preamble to the Constitution says, \"We the people\", not \"We the electors\".\\n\\nThank you for your time,\\n\\nPROPER_NAME     \\xa0       \\xa0    '"
      ]
     },
     "execution_count": 24,
     "metadata": {},
     "output_type": "execute_result"
    }
   ],
   "source": [
    "random_idx = np.random.randint(seven_text_data.shape[0])\n",
    "seven_text_data.iloc[random_idx]['text']"
   ]
  },
  {
   "cell_type": "markdown",
   "id": "3265f8a3",
   "metadata": {
    "papermill": {
     "duration": 0.015589,
     "end_time": "2025-03-11T09:57:31.875723",
     "exception": false,
     "start_time": "2025-03-11T09:57:31.860134",
     "status": "completed"
    },
    "tags": []
   },
   "source": [
    "After going through the corpus we see \\n to jump lines and  \\ before ' that we have to manage for text processing."
   ]
  },
  {
   "cell_type": "code",
   "execution_count": 25,
   "id": "a2edd861",
   "metadata": {
    "execution": {
     "iopub.execute_input": "2025-03-11T09:57:31.908942Z",
     "iopub.status.busy": "2025-03-11T09:57:31.908468Z",
     "iopub.status.idle": "2025-03-11T09:57:37.193342Z",
     "shell.execute_reply": "2025-03-11T09:57:37.192372Z"
    },
    "papermill": {
     "duration": 5.303621,
     "end_time": "2025-03-11T09:57:37.195242",
     "exception": false,
     "start_time": "2025-03-11T09:57:31.891621",
     "status": "completed"
    },
    "tags": []
   },
   "outputs": [],
   "source": [
    "corpus = seven_text_data['text']\n",
    "vectorizer = TfidfVectorizer(max_features = 10000,\n",
    "                            stop_words = 'english',\n",
    "                            )\n",
    "X = vectorizer.fit_transform(corpus,\n",
    "                            )"
   ]
  },
  {
   "cell_type": "code",
   "execution_count": 26,
   "id": "d1c2e564",
   "metadata": {
    "execution": {
     "iopub.execute_input": "2025-03-11T09:57:37.230162Z",
     "iopub.status.busy": "2025-03-11T09:57:37.229819Z",
     "iopub.status.idle": "2025-03-11T09:57:37.241534Z",
     "shell.execute_reply": "2025-03-11T09:57:37.240759Z"
    },
    "papermill": {
     "duration": 0.031064,
     "end_time": "2025-03-11T09:57:37.243006",
     "exception": false,
     "start_time": "2025-03-11T09:57:37.211942",
     "status": "completed"
    },
    "scrolled": true,
    "tags": []
   },
   "outputs": [],
   "source": [
    "features = vectorizer.get_feature_names_out()"
   ]
  },
  {
   "cell_type": "code",
   "execution_count": 27,
   "id": "5cd59ad3",
   "metadata": {
    "execution": {
     "iopub.execute_input": "2025-03-11T09:57:37.275384Z",
     "iopub.status.busy": "2025-03-11T09:57:37.275082Z",
     "iopub.status.idle": "2025-03-11T09:57:37.279991Z",
     "shell.execute_reply": "2025-03-11T09:57:37.278968Z"
    },
    "papermill": {
     "duration": 0.022673,
     "end_time": "2025-03-11T09:57:37.281370",
     "exception": false,
     "start_time": "2025-03-11T09:57:37.258697",
     "status": "completed"
    },
    "tags": []
   },
   "outputs": [
    {
     "name": "stdout",
     "output_type": "stream",
     "text": [
      "vectorized corpus dimensions :  (20450, 10000)\n",
      "corpus dataset dimensions :  (20450, 11)\n"
     ]
    }
   ],
   "source": [
    "print(\"vectorized corpus dimensions : \", X.shape)\n",
    "print(\"corpus dataset dimensions : \", seven_text_data.shape)"
   ]
  },
  {
   "cell_type": "markdown",
   "id": "6db04928",
   "metadata": {
    "papermill": {
     "duration": 0.015454,
     "end_time": "2025-03-11T09:57:37.312581",
     "exception": false,
     "start_time": "2025-03-11T09:57:37.297127",
     "status": "completed"
    },
    "tags": []
   },
   "source": [
    "Each line of X represents an essay in the corpus, and each column represents a word"
   ]
  },
  {
   "cell_type": "markdown",
   "id": "905c3dde",
   "metadata": {
    "papermill": {
     "duration": 0.015336,
     "end_time": "2025-03-11T09:57:37.343585",
     "exception": false,
     "start_time": "2025-03-11T09:57:37.328249",
     "status": "completed"
    },
    "tags": []
   },
   "source": [
    "## Machine learning task"
   ]
  },
  {
   "cell_type": "code",
   "execution_count": 28,
   "id": "1dbb40fa",
   "metadata": {
    "execution": {
     "iopub.execute_input": "2025-03-11T09:57:37.376846Z",
     "iopub.status.busy": "2025-03-11T09:57:37.376481Z",
     "iopub.status.idle": "2025-03-11T09:57:37.381598Z",
     "shell.execute_reply": "2025-03-11T09:57:37.380754Z"
    },
    "papermill": {
     "duration": 0.022806,
     "end_time": "2025-03-11T09:57:37.382961",
     "exception": false,
     "start_time": "2025-03-11T09:57:37.360155",
     "status": "completed"
    },
    "tags": []
   },
   "outputs": [
    {
     "data": {
      "text/plain": [
       "(20450,)"
      ]
     },
     "execution_count": 28,
     "metadata": {},
     "output_type": "execute_result"
    }
   ],
   "source": [
    "y = seven_text_data['label'].values\n",
    "y.shape"
   ]
  },
  {
   "cell_type": "code",
   "execution_count": 29,
   "id": "df3c8321",
   "metadata": {
    "execution": {
     "iopub.execute_input": "2025-03-11T09:57:37.415427Z",
     "iopub.status.busy": "2025-03-11T09:57:37.415074Z",
     "iopub.status.idle": "2025-03-11T09:57:37.422180Z",
     "shell.execute_reply": "2025-03-11T09:57:37.421222Z"
    },
    "papermill": {
     "duration": 0.024929,
     "end_time": "2025-03-11T09:57:37.423651",
     "exception": false,
     "start_time": "2025-03-11T09:57:37.398722",
     "status": "completed"
    },
    "tags": []
   },
   "outputs": [],
   "source": [
    "X_train, X_test, y_train, y_test = train_test_split(corpus,y)"
   ]
  },
  {
   "cell_type": "code",
   "execution_count": 30,
   "id": "513761ee",
   "metadata": {
    "execution": {
     "iopub.execute_input": "2025-03-11T09:57:37.455549Z",
     "iopub.status.busy": "2025-03-11T09:57:37.455252Z",
     "iopub.status.idle": "2025-03-11T09:57:50.830916Z",
     "shell.execute_reply": "2025-03-11T09:57:50.829985Z"
    },
    "papermill": {
     "duration": 13.393526,
     "end_time": "2025-03-11T09:57:50.832745",
     "exception": false,
     "start_time": "2025-03-11T09:57:37.439219",
     "status": "completed"
    },
    "tags": []
   },
   "outputs": [],
   "source": [
    "import tensorflow as tf\n",
    "from tensorflow.keras.preprocessing.text import Tokenizer\n",
    "from tensorflow.keras.preprocessing.sequence import pad_sequences"
   ]
  },
  {
   "cell_type": "code",
   "execution_count": 31,
   "id": "db559066",
   "metadata": {
    "execution": {
     "iopub.execute_input": "2025-03-11T09:57:50.866453Z",
     "iopub.status.busy": "2025-03-11T09:57:50.865850Z",
     "iopub.status.idle": "2025-03-11T09:57:59.054020Z",
     "shell.execute_reply": "2025-03-11T09:57:59.053087Z"
    },
    "papermill": {
     "duration": 8.206577,
     "end_time": "2025-03-11T09:57:59.055773",
     "exception": false,
     "start_time": "2025-03-11T09:57:50.849196",
     "status": "completed"
    },
    "tags": []
   },
   "outputs": [],
   "source": [
    "MAX_NB_WORDS = 5000  # Nombre max de mots dans le vocabulaire\n",
    "MAX_SEQUENCE_LENGTH = 10  # Longueur max d'une séquence\n",
    "\n",
    "tokenizer = Tokenizer(num_words=MAX_NB_WORDS)\n",
    "tokenizer.fit_on_texts(X_train)\n",
    "\n",
    "X_train_seq = tokenizer.texts_to_sequences(X_train)\n",
    "X_test_seq = tokenizer.texts_to_sequences(X_test)\n",
    "\n",
    "X_train_pad = pad_sequences(X_train_seq, maxlen=MAX_SEQUENCE_LENGTH)\n",
    "X_test_pad = pad_sequences(X_test_seq, maxlen=MAX_SEQUENCE_LENGTH)"
   ]
  },
  {
   "cell_type": "code",
   "execution_count": 32,
   "id": "351384f0",
   "metadata": {
    "execution": {
     "iopub.execute_input": "2025-03-11T09:57:59.088940Z",
     "iopub.status.busy": "2025-03-11T09:57:59.088560Z",
     "iopub.status.idle": "2025-03-11T09:57:59.189872Z",
     "shell.execute_reply": "2025-03-11T09:57:59.189031Z"
    },
    "papermill": {
     "duration": 0.119335,
     "end_time": "2025-03-11T09:57:59.191302",
     "exception": false,
     "start_time": "2025-03-11T09:57:59.071967",
     "status": "completed"
    },
    "tags": []
   },
   "outputs": [
    {
     "name": "stderr",
     "output_type": "stream",
     "text": [
      "/usr/local/lib/python3.10/dist-packages/keras/src/layers/core/embedding.py:90: UserWarning: Argument `input_length` is deprecated. Just remove it.\n",
      "  warnings.warn(\n"
     ]
    },
    {
     "data": {
      "text/html": [
       "<pre style=\"white-space:pre;overflow-x:auto;line-height:normal;font-family:Menlo,'DejaVu Sans Mono',consolas,'Courier New',monospace\"><span style=\"font-weight: bold\">Model: \"sequential\"</span>\n",
       "</pre>\n"
      ],
      "text/plain": [
       "\u001b[1mModel: \"sequential\"\u001b[0m\n"
      ]
     },
     "metadata": {},
     "output_type": "display_data"
    },
    {
     "data": {
      "text/html": [
       "<pre style=\"white-space:pre;overflow-x:auto;line-height:normal;font-family:Menlo,'DejaVu Sans Mono',consolas,'Courier New',monospace\">┏━━━━━━━━━━━━━━━━━━━━━━━━━━━━━━━━━━━━━━┳━━━━━━━━━━━━━━━━━━━━━━━━━━━━━┳━━━━━━━━━━━━━━━━━┓\n",
       "┃<span style=\"font-weight: bold\"> Layer (type)                         </span>┃<span style=\"font-weight: bold\"> Output Shape                </span>┃<span style=\"font-weight: bold\">         Param # </span>┃\n",
       "┡━━━━━━━━━━━━━━━━━━━━━━━━━━━━━━━━━━━━━━╇━━━━━━━━━━━━━━━━━━━━━━━━━━━━━╇━━━━━━━━━━━━━━━━━┩\n",
       "│ embedding (<span style=\"color: #0087ff; text-decoration-color: #0087ff\">Embedding</span>)                │ ?                           │     <span style=\"color: #00af00; text-decoration-color: #00af00\">0</span> (unbuilt) │\n",
       "├──────────────────────────────────────┼─────────────────────────────┼─────────────────┤\n",
       "│ lstm (<span style=\"color: #0087ff; text-decoration-color: #0087ff\">LSTM</span>)                          │ ?                           │     <span style=\"color: #00af00; text-decoration-color: #00af00\">0</span> (unbuilt) │\n",
       "├──────────────────────────────────────┼─────────────────────────────┼─────────────────┤\n",
       "│ dropout (<span style=\"color: #0087ff; text-decoration-color: #0087ff\">Dropout</span>)                    │ ?                           │     <span style=\"color: #00af00; text-decoration-color: #00af00\">0</span> (unbuilt) │\n",
       "├──────────────────────────────────────┼─────────────────────────────┼─────────────────┤\n",
       "│ lstm_1 (<span style=\"color: #0087ff; text-decoration-color: #0087ff\">LSTM</span>)                        │ ?                           │     <span style=\"color: #00af00; text-decoration-color: #00af00\">0</span> (unbuilt) │\n",
       "├──────────────────────────────────────┼─────────────────────────────┼─────────────────┤\n",
       "│ dense (<span style=\"color: #0087ff; text-decoration-color: #0087ff\">Dense</span>)                        │ ?                           │     <span style=\"color: #00af00; text-decoration-color: #00af00\">0</span> (unbuilt) │\n",
       "└──────────────────────────────────────┴─────────────────────────────┴─────────────────┘\n",
       "</pre>\n"
      ],
      "text/plain": [
       "┏━━━━━━━━━━━━━━━━━━━━━━━━━━━━━━━━━━━━━━┳━━━━━━━━━━━━━━━━━━━━━━━━━━━━━┳━━━━━━━━━━━━━━━━━┓\n",
       "┃\u001b[1m \u001b[0m\u001b[1mLayer (type)                        \u001b[0m\u001b[1m \u001b[0m┃\u001b[1m \u001b[0m\u001b[1mOutput Shape               \u001b[0m\u001b[1m \u001b[0m┃\u001b[1m \u001b[0m\u001b[1m        Param #\u001b[0m\u001b[1m \u001b[0m┃\n",
       "┡━━━━━━━━━━━━━━━━━━━━━━━━━━━━━━━━━━━━━━╇━━━━━━━━━━━━━━━━━━━━━━━━━━━━━╇━━━━━━━━━━━━━━━━━┩\n",
       "│ embedding (\u001b[38;5;33mEmbedding\u001b[0m)                │ ?                           │     \u001b[38;5;34m0\u001b[0m (unbuilt) │\n",
       "├──────────────────────────────────────┼─────────────────────────────┼─────────────────┤\n",
       "│ lstm (\u001b[38;5;33mLSTM\u001b[0m)                          │ ?                           │     \u001b[38;5;34m0\u001b[0m (unbuilt) │\n",
       "├──────────────────────────────────────┼─────────────────────────────┼─────────────────┤\n",
       "│ dropout (\u001b[38;5;33mDropout\u001b[0m)                    │ ?                           │     \u001b[38;5;34m0\u001b[0m (unbuilt) │\n",
       "├──────────────────────────────────────┼─────────────────────────────┼─────────────────┤\n",
       "│ lstm_1 (\u001b[38;5;33mLSTM\u001b[0m)                        │ ?                           │     \u001b[38;5;34m0\u001b[0m (unbuilt) │\n",
       "├──────────────────────────────────────┼─────────────────────────────┼─────────────────┤\n",
       "│ dense (\u001b[38;5;33mDense\u001b[0m)                        │ ?                           │     \u001b[38;5;34m0\u001b[0m (unbuilt) │\n",
       "└──────────────────────────────────────┴─────────────────────────────┴─────────────────┘\n"
      ]
     },
     "metadata": {},
     "output_type": "display_data"
    },
    {
     "data": {
      "text/html": [
       "<pre style=\"white-space:pre;overflow-x:auto;line-height:normal;font-family:Menlo,'DejaVu Sans Mono',consolas,'Courier New',monospace\"><span style=\"font-weight: bold\"> Total params: </span><span style=\"color: #00af00; text-decoration-color: #00af00\">0</span> (0.00 B)\n",
       "</pre>\n"
      ],
      "text/plain": [
       "\u001b[1m Total params: \u001b[0m\u001b[38;5;34m0\u001b[0m (0.00 B)\n"
      ]
     },
     "metadata": {},
     "output_type": "display_data"
    },
    {
     "data": {
      "text/html": [
       "<pre style=\"white-space:pre;overflow-x:auto;line-height:normal;font-family:Menlo,'DejaVu Sans Mono',consolas,'Courier New',monospace\"><span style=\"font-weight: bold\"> Trainable params: </span><span style=\"color: #00af00; text-decoration-color: #00af00\">0</span> (0.00 B)\n",
       "</pre>\n"
      ],
      "text/plain": [
       "\u001b[1m Trainable params: \u001b[0m\u001b[38;5;34m0\u001b[0m (0.00 B)\n"
      ]
     },
     "metadata": {},
     "output_type": "display_data"
    },
    {
     "data": {
      "text/html": [
       "<pre style=\"white-space:pre;overflow-x:auto;line-height:normal;font-family:Menlo,'DejaVu Sans Mono',consolas,'Courier New',monospace\"><span style=\"font-weight: bold\"> Non-trainable params: </span><span style=\"color: #00af00; text-decoration-color: #00af00\">0</span> (0.00 B)\n",
       "</pre>\n"
      ],
      "text/plain": [
       "\u001b[1m Non-trainable params: \u001b[0m\u001b[38;5;34m0\u001b[0m (0.00 B)\n"
      ]
     },
     "metadata": {},
     "output_type": "display_data"
    }
   ],
   "source": [
    "from tensorflow.keras.models import Sequential\n",
    "from tensorflow.keras.layers import Embedding, LSTM, Dense, Dropout\n",
    "\n",
    "EMBEDDING_DIM = 100  # Dimension de l'embedding\n",
    "\n",
    "model = Sequential([\n",
    "    Embedding(input_dim=MAX_NB_WORDS, output_dim=EMBEDDING_DIM, input_length=MAX_SEQUENCE_LENGTH),\n",
    "    LSTM(128, return_sequences=True),  # LSTM avec retour des séquences\n",
    "    Dropout(0.2),\n",
    "    LSTM(64),  # Deuxième couche LSTM\n",
    "    Dense(1, activation=\"sigmoid\")  # Sigmoid car classification binaire\n",
    "])\n",
    "\n",
    "model.compile(loss=\"binary_crossentropy\", optimizer=\"adam\", metrics=[\"accuracy\",tf.keras.metrics.AUC(name=\"auc\")])\n",
    "model.summary()"
   ]
  },
  {
   "cell_type": "code",
   "execution_count": 33,
   "id": "6ce8f15b",
   "metadata": {
    "execution": {
     "iopub.execute_input": "2025-03-11T09:57:59.226489Z",
     "iopub.status.busy": "2025-03-11T09:57:59.226182Z",
     "iopub.status.idle": "2025-03-11T10:05:16.789515Z",
     "shell.execute_reply": "2025-03-11T10:05:16.788605Z"
    },
    "papermill": {
     "duration": 437.582376,
     "end_time": "2025-03-11T10:05:16.791168",
     "exception": false,
     "start_time": "2025-03-11T09:57:59.208792",
     "status": "completed"
    },
    "tags": []
   },
   "outputs": [
    {
     "name": "stdout",
     "output_type": "stream",
     "text": [
      "Epoch 1/50\n",
      "\u001b[1m480/480\u001b[0m \u001b[32m━━━━━━━━━━━━━━━━━━━━\u001b[0m\u001b[37m\u001b[0m \u001b[1m13s\u001b[0m 19ms/step - accuracy: 0.8145 - auc: 0.8395 - loss: 0.4096 - val_accuracy: 0.9012 - val_auc: 0.9475 - val_loss: 0.2591\n",
      "Epoch 2/50\n",
      "\u001b[1m480/480\u001b[0m \u001b[32m━━━━━━━━━━━━━━━━━━━━\u001b[0m\u001b[37m\u001b[0m \u001b[1m9s\u001b[0m 18ms/step - accuracy: 0.9254 - auc: 0.9662 - loss: 0.2015 - val_accuracy: 0.9042 - val_auc: 0.9495 - val_loss: 0.2470\n",
      "Epoch 3/50\n",
      "\u001b[1m480/480\u001b[0m \u001b[32m━━━━━━━━━━━━━━━━━━━━\u001b[0m\u001b[37m\u001b[0m \u001b[1m8s\u001b[0m 18ms/step - accuracy: 0.9483 - auc: 0.9831 - loss: 0.1399 - val_accuracy: 0.9042 - val_auc: 0.9482 - val_loss: 0.2602\n",
      "Epoch 4/50\n",
      "\u001b[1m480/480\u001b[0m \u001b[32m━━━━━━━━━━━━━━━━━━━━\u001b[0m\u001b[37m\u001b[0m \u001b[1m9s\u001b[0m 19ms/step - accuracy: 0.9613 - auc: 0.9892 - loss: 0.1080 - val_accuracy: 0.8938 - val_auc: 0.9416 - val_loss: 0.3127\n",
      "Epoch 5/50\n",
      "\u001b[1m480/480\u001b[0m \u001b[32m━━━━━━━━━━━━━━━━━━━━\u001b[0m\u001b[37m\u001b[0m \u001b[1m8s\u001b[0m 18ms/step - accuracy: 0.9660 - auc: 0.9923 - loss: 0.0902 - val_accuracy: 0.8969 - val_auc: 0.9413 - val_loss: 0.3233\n",
      "Epoch 6/50\n",
      "\u001b[1m480/480\u001b[0m \u001b[32m━━━━━━━━━━━━━━━━━━━━\u001b[0m\u001b[37m\u001b[0m \u001b[1m9s\u001b[0m 18ms/step - accuracy: 0.9764 - auc: 0.9950 - loss: 0.0708 - val_accuracy: 0.8905 - val_auc: 0.9327 - val_loss: 0.4145\n",
      "Epoch 7/50\n",
      "\u001b[1m480/480\u001b[0m \u001b[32m━━━━━━━━━━━━━━━━━━━━\u001b[0m\u001b[37m\u001b[0m \u001b[1m9s\u001b[0m 18ms/step - accuracy: 0.9806 - auc: 0.9966 - loss: 0.0553 - val_accuracy: 0.8936 - val_auc: 0.9229 - val_loss: 0.4263\n",
      "Epoch 8/50\n",
      "\u001b[1m480/480\u001b[0m \u001b[32m━━━━━━━━━━━━━━━━━━━━\u001b[0m\u001b[37m\u001b[0m \u001b[1m9s\u001b[0m 18ms/step - accuracy: 0.9853 - auc: 0.9981 - loss: 0.0413 - val_accuracy: 0.8823 - val_auc: 0.9073 - val_loss: 0.5453\n",
      "Epoch 9/50\n",
      "\u001b[1m480/480\u001b[0m \u001b[32m━━━━━━━━━━━━━━━━━━━━\u001b[0m\u001b[37m\u001b[0m \u001b[1m8s\u001b[0m 18ms/step - accuracy: 0.9862 - auc: 0.9987 - loss: 0.0370 - val_accuracy: 0.8881 - val_auc: 0.9126 - val_loss: 0.4381\n",
      "Epoch 10/50\n",
      "\u001b[1m480/480\u001b[0m \u001b[32m━━━━━━━━━━━━━━━━━━━━\u001b[0m\u001b[37m\u001b[0m \u001b[1m8s\u001b[0m 17ms/step - accuracy: 0.9885 - auc: 0.9990 - loss: 0.0326 - val_accuracy: 0.8942 - val_auc: 0.9075 - val_loss: 0.5513\n",
      "Epoch 11/50\n",
      "\u001b[1m480/480\u001b[0m \u001b[32m━━━━━━━━━━━━━━━━━━━━\u001b[0m\u001b[37m\u001b[0m \u001b[1m8s\u001b[0m 18ms/step - accuracy: 0.9910 - auc: 0.9995 - loss: 0.0221 - val_accuracy: 0.8783 - val_auc: 0.9030 - val_loss: 0.6498\n",
      "Epoch 12/50\n",
      "\u001b[1m480/480\u001b[0m \u001b[32m━━━━━━━━━━━━━━━━━━━━\u001b[0m\u001b[37m\u001b[0m \u001b[1m9s\u001b[0m 18ms/step - accuracy: 0.9921 - auc: 0.9992 - loss: 0.0231 - val_accuracy: 0.8887 - val_auc: 0.9016 - val_loss: 0.6367\n",
      "Epoch 13/50\n",
      "\u001b[1m480/480\u001b[0m \u001b[32m━━━━━━━━━━━━━━━━━━━━\u001b[0m\u001b[37m\u001b[0m \u001b[1m8s\u001b[0m 17ms/step - accuracy: 0.9954 - auc: 0.9995 - loss: 0.0152 - val_accuracy: 0.8905 - val_auc: 0.9011 - val_loss: 0.6065\n",
      "Epoch 14/50\n",
      "\u001b[1m480/480\u001b[0m \u001b[32m━━━━━━━━━━━━━━━━━━━━\u001b[0m\u001b[37m\u001b[0m \u001b[1m9s\u001b[0m 18ms/step - accuracy: 0.9949 - auc: 0.9995 - loss: 0.0147 - val_accuracy: 0.8911 - val_auc: 0.9042 - val_loss: 0.6225\n",
      "Epoch 15/50\n",
      "\u001b[1m480/480\u001b[0m \u001b[32m━━━━━━━━━━━━━━━━━━━━\u001b[0m\u001b[37m\u001b[0m \u001b[1m9s\u001b[0m 18ms/step - accuracy: 0.9952 - auc: 0.9998 - loss: 0.0140 - val_accuracy: 0.8915 - val_auc: 0.8939 - val_loss: 0.7287\n",
      "Epoch 16/50\n",
      "\u001b[1m480/480\u001b[0m \u001b[32m━━━━━━━━━━━━━━━━━━━━\u001b[0m\u001b[37m\u001b[0m \u001b[1m9s\u001b[0m 18ms/step - accuracy: 0.9948 - auc: 0.9996 - loss: 0.0137 - val_accuracy: 0.8768 - val_auc: 0.8926 - val_loss: 0.6896\n",
      "Epoch 17/50\n",
      "\u001b[1m480/480\u001b[0m \u001b[32m━━━━━━━━━━━━━━━━━━━━\u001b[0m\u001b[37m\u001b[0m \u001b[1m8s\u001b[0m 18ms/step - accuracy: 0.9955 - auc: 0.9998 - loss: 0.0121 - val_accuracy: 0.8848 - val_auc: 0.8960 - val_loss: 0.6770\n",
      "Epoch 18/50\n",
      "\u001b[1m480/480\u001b[0m \u001b[32m━━━━━━━━━━━━━━━━━━━━\u001b[0m\u001b[37m\u001b[0m \u001b[1m8s\u001b[0m 18ms/step - accuracy: 0.9972 - auc: 0.9998 - loss: 0.0095 - val_accuracy: 0.8885 - val_auc: 0.9023 - val_loss: 0.7068\n",
      "Epoch 19/50\n",
      "\u001b[1m480/480\u001b[0m \u001b[32m━━━━━━━━━━━━━━━━━━━━\u001b[0m\u001b[37m\u001b[0m \u001b[1m9s\u001b[0m 19ms/step - accuracy: 0.9979 - auc: 0.9997 - loss: 0.0068 - val_accuracy: 0.8754 - val_auc: 0.8898 - val_loss: 0.8763\n",
      "Epoch 20/50\n",
      "\u001b[1m480/480\u001b[0m \u001b[32m━━━━━━━━━━━━━━━━━━━━\u001b[0m\u001b[37m\u001b[0m \u001b[1m8s\u001b[0m 18ms/step - accuracy: 0.9977 - auc: 0.9996 - loss: 0.0078 - val_accuracy: 0.8842 - val_auc: 0.8957 - val_loss: 0.6907\n",
      "Epoch 21/50\n",
      "\u001b[1m480/480\u001b[0m \u001b[32m━━━━━━━━━━━━━━━━━━━━\u001b[0m\u001b[37m\u001b[0m \u001b[1m9s\u001b[0m 18ms/step - accuracy: 0.9964 - auc: 0.9999 - loss: 0.0095 - val_accuracy: 0.8793 - val_auc: 0.8910 - val_loss: 0.7642\n",
      "Epoch 22/50\n",
      "\u001b[1m480/480\u001b[0m \u001b[32m━━━━━━━━━━━━━━━━━━━━\u001b[0m\u001b[37m\u001b[0m \u001b[1m9s\u001b[0m 18ms/step - accuracy: 0.9977 - auc: 0.9999 - loss: 0.0067 - val_accuracy: 0.8887 - val_auc: 0.8885 - val_loss: 0.8061\n",
      "Epoch 23/50\n",
      "\u001b[1m480/480\u001b[0m \u001b[32m━━━━━━━━━━━━━━━━━━━━\u001b[0m\u001b[37m\u001b[0m \u001b[1m9s\u001b[0m 18ms/step - accuracy: 0.9983 - auc: 0.9999 - loss: 0.0051 - val_accuracy: 0.8854 - val_auc: 0.8965 - val_loss: 0.7773\n",
      "Epoch 24/50\n",
      "\u001b[1m480/480\u001b[0m \u001b[32m━━━━━━━━━━━━━━━━━━━━\u001b[0m\u001b[37m\u001b[0m \u001b[1m9s\u001b[0m 18ms/step - accuracy: 0.9983 - auc: 1.0000 - loss: 0.0056 - val_accuracy: 0.8840 - val_auc: 0.8909 - val_loss: 0.8280\n",
      "Epoch 25/50\n",
      "\u001b[1m480/480\u001b[0m \u001b[32m━━━━━━━━━━━━━━━━━━━━\u001b[0m\u001b[37m\u001b[0m \u001b[1m9s\u001b[0m 18ms/step - accuracy: 0.9986 - auc: 1.0000 - loss: 0.0035 - val_accuracy: 0.8860 - val_auc: 0.8923 - val_loss: 0.8790\n",
      "Epoch 26/50\n",
      "\u001b[1m480/480\u001b[0m \u001b[32m━━━━━━━━━━━━━━━━━━━━\u001b[0m\u001b[37m\u001b[0m \u001b[1m9s\u001b[0m 18ms/step - accuracy: 0.9984 - auc: 0.9998 - loss: 0.0054 - val_accuracy: 0.8862 - val_auc: 0.8905 - val_loss: 0.7786\n",
      "Epoch 27/50\n",
      "\u001b[1m480/480\u001b[0m \u001b[32m━━━━━━━━━━━━━━━━━━━━\u001b[0m\u001b[37m\u001b[0m \u001b[1m9s\u001b[0m 19ms/step - accuracy: 0.9962 - auc: 0.9999 - loss: 0.0101 - val_accuracy: 0.8870 - val_auc: 0.8953 - val_loss: 0.6785\n",
      "Epoch 28/50\n",
      "\u001b[1m480/480\u001b[0m \u001b[32m━━━━━━━━━━━━━━━━━━━━\u001b[0m\u001b[37m\u001b[0m \u001b[1m9s\u001b[0m 18ms/step - accuracy: 0.9979 - auc: 0.9999 - loss: 0.0064 - val_accuracy: 0.8881 - val_auc: 0.8911 - val_loss: 0.7232\n",
      "Epoch 29/50\n",
      "\u001b[1m480/480\u001b[0m \u001b[32m━━━━━━━━━━━━━━━━━━━━\u001b[0m\u001b[37m\u001b[0m \u001b[1m9s\u001b[0m 18ms/step - accuracy: 0.9981 - auc: 0.9994 - loss: 0.0055 - val_accuracy: 0.8846 - val_auc: 0.8878 - val_loss: 0.8395\n",
      "Epoch 30/50\n",
      "\u001b[1m480/480\u001b[0m \u001b[32m━━━━━━━━━━━━━━━━━━━━\u001b[0m\u001b[37m\u001b[0m \u001b[1m9s\u001b[0m 19ms/step - accuracy: 0.9996 - auc: 1.0000 - loss: 0.0014 - val_accuracy: 0.8873 - val_auc: 0.8879 - val_loss: 0.8885\n",
      "Epoch 31/50\n",
      "\u001b[1m480/480\u001b[0m \u001b[32m━━━━━━━━━━━━━━━━━━━━\u001b[0m\u001b[37m\u001b[0m \u001b[1m10s\u001b[0m 18ms/step - accuracy: 0.9996 - auc: 1.0000 - loss: 0.0019 - val_accuracy: 0.8875 - val_auc: 0.8835 - val_loss: 0.9061\n",
      "Epoch 32/50\n",
      "\u001b[1m480/480\u001b[0m \u001b[32m━━━━━━━━━━━━━━━━━━━━\u001b[0m\u001b[37m\u001b[0m \u001b[1m8s\u001b[0m 18ms/step - accuracy: 0.9996 - auc: 1.0000 - loss: 0.0020 - val_accuracy: 0.8858 - val_auc: 0.8833 - val_loss: 1.0073\n",
      "Epoch 33/50\n",
      "\u001b[1m480/480\u001b[0m \u001b[32m━━━━━━━━━━━━━━━━━━━━\u001b[0m\u001b[37m\u001b[0m \u001b[1m8s\u001b[0m 18ms/step - accuracy: 0.9992 - auc: 1.0000 - loss: 0.0023 - val_accuracy: 0.8895 - val_auc: 0.8826 - val_loss: 1.0375\n",
      "Epoch 34/50\n",
      "\u001b[1m480/480\u001b[0m \u001b[32m━━━━━━━━━━━━━━━━━━━━\u001b[0m\u001b[37m\u001b[0m \u001b[1m9s\u001b[0m 19ms/step - accuracy: 0.9961 - auc: 0.9994 - loss: 0.0153 - val_accuracy: 0.8780 - val_auc: 0.9002 - val_loss: 0.7586\n",
      "Epoch 35/50\n",
      "\u001b[1m480/480\u001b[0m \u001b[32m━━━━━━━━━━━━━━━━━━━━\u001b[0m\u001b[37m\u001b[0m \u001b[1m9s\u001b[0m 18ms/step - accuracy: 0.9981 - auc: 0.9996 - loss: 0.0077 - val_accuracy: 0.8752 - val_auc: 0.8924 - val_loss: 0.8235\n",
      "Epoch 36/50\n",
      "\u001b[1m480/480\u001b[0m \u001b[32m━━━━━━━━━━━━━━━━━━━━\u001b[0m\u001b[37m\u001b[0m \u001b[1m8s\u001b[0m 18ms/step - accuracy: 0.9992 - auc: 0.9998 - loss: 0.0032 - val_accuracy: 0.8825 - val_auc: 0.8883 - val_loss: 0.7931\n",
      "Epoch 37/50\n",
      "\u001b[1m480/480\u001b[0m \u001b[32m━━━━━━━━━━━━━━━━━━━━\u001b[0m\u001b[37m\u001b[0m \u001b[1m9s\u001b[0m 18ms/step - accuracy: 0.9992 - auc: 1.0000 - loss: 0.0022 - val_accuracy: 0.8840 - val_auc: 0.8855 - val_loss: 0.9081\n",
      "Epoch 38/50\n",
      "\u001b[1m480/480\u001b[0m \u001b[32m━━━━━━━━━━━━━━━━━━━━\u001b[0m\u001b[37m\u001b[0m \u001b[1m9s\u001b[0m 18ms/step - accuracy: 0.9999 - auc: 1.0000 - loss: 7.7751e-04 - val_accuracy: 0.8797 - val_auc: 0.8849 - val_loss: 0.9629\n",
      "Epoch 39/50\n",
      "\u001b[1m480/480\u001b[0m \u001b[32m━━━━━━━━━━━━━━━━━━━━\u001b[0m\u001b[37m\u001b[0m \u001b[1m9s\u001b[0m 18ms/step - accuracy: 0.9992 - auc: 1.0000 - loss: 0.0021 - val_accuracy: 0.8856 - val_auc: 0.8900 - val_loss: 0.8743\n",
      "Epoch 40/50\n",
      "\u001b[1m480/480\u001b[0m \u001b[32m━━━━━━━━━━━━━━━━━━━━\u001b[0m\u001b[37m\u001b[0m \u001b[1m8s\u001b[0m 18ms/step - accuracy: 0.9995 - auc: 0.9999 - loss: 0.0022 - val_accuracy: 0.8870 - val_auc: 0.8848 - val_loss: 0.8753\n",
      "Epoch 41/50\n",
      "\u001b[1m480/480\u001b[0m \u001b[32m━━━━━━━━━━━━━━━━━━━━\u001b[0m\u001b[37m\u001b[0m \u001b[1m9s\u001b[0m 18ms/step - accuracy: 0.9987 - auc: 1.0000 - loss: 0.0038 - val_accuracy: 0.8899 - val_auc: 0.8907 - val_loss: 0.8676\n",
      "Epoch 42/50\n",
      "\u001b[1m480/480\u001b[0m \u001b[32m━━━━━━━━━━━━━━━━━━━━\u001b[0m\u001b[37m\u001b[0m \u001b[1m9s\u001b[0m 18ms/step - accuracy: 0.9999 - auc: 1.0000 - loss: 5.8212e-04 - val_accuracy: 0.8872 - val_auc: 0.8876 - val_loss: 0.9295\n",
      "Epoch 43/50\n",
      "\u001b[1m480/480\u001b[0m \u001b[32m━━━━━━━━━━━━━━━━━━━━\u001b[0m\u001b[37m\u001b[0m \u001b[1m9s\u001b[0m 18ms/step - accuracy: 0.9999 - auc: 1.0000 - loss: 7.4720e-04 - val_accuracy: 0.8846 - val_auc: 0.8885 - val_loss: 0.9746\n",
      "Epoch 44/50\n",
      "\u001b[1m480/480\u001b[0m \u001b[32m━━━━━━━━━━━━━━━━━━━━\u001b[0m\u001b[37m\u001b[0m \u001b[1m9s\u001b[0m 18ms/step - accuracy: 0.9997 - auc: 1.0000 - loss: 0.0011 - val_accuracy: 0.8838 - val_auc: 0.8870 - val_loss: 0.9638\n",
      "Epoch 45/50\n",
      "\u001b[1m480/480\u001b[0m \u001b[32m━━━━━━━━━━━━━━━━━━━━\u001b[0m\u001b[37m\u001b[0m \u001b[1m9s\u001b[0m 18ms/step - accuracy: 0.9991 - auc: 1.0000 - loss: 0.0031 - val_accuracy: 0.8887 - val_auc: 0.8929 - val_loss: 0.7188\n",
      "Epoch 46/50\n",
      "\u001b[1m480/480\u001b[0m \u001b[32m━━━━━━━━━━━━━━━━━━━━\u001b[0m\u001b[37m\u001b[0m \u001b[1m9s\u001b[0m 18ms/step - accuracy: 0.9983 - auc: 1.0000 - loss: 0.0056 - val_accuracy: 0.8828 - val_auc: 0.8921 - val_loss: 0.8426\n",
      "Epoch 47/50\n",
      "\u001b[1m480/480\u001b[0m \u001b[32m━━━━━━━━━━━━━━━━━━━━\u001b[0m\u001b[37m\u001b[0m \u001b[1m8s\u001b[0m 18ms/step - accuracy: 0.9989 - auc: 1.0000 - loss: 0.0039 - val_accuracy: 0.8846 - val_auc: 0.8926 - val_loss: 0.8693\n",
      "Epoch 48/50\n",
      "\u001b[1m480/480\u001b[0m \u001b[32m━━━━━━━━━━━━━━━━━━━━\u001b[0m\u001b[37m\u001b[0m \u001b[1m8s\u001b[0m 18ms/step - accuracy: 0.9997 - auc: 1.0000 - loss: 0.0010 - val_accuracy: 0.8891 - val_auc: 0.8885 - val_loss: 0.8972\n",
      "Epoch 49/50\n",
      "\u001b[1m480/480\u001b[0m \u001b[32m━━━━━━━━━━━━━━━━━━━━\u001b[0m\u001b[37m\u001b[0m \u001b[1m9s\u001b[0m 19ms/step - accuracy: 0.9997 - auc: 1.0000 - loss: 9.0154e-04 - val_accuracy: 0.8879 - val_auc: 0.8873 - val_loss: 0.9579\n",
      "Epoch 50/50\n",
      "\u001b[1m480/480\u001b[0m \u001b[32m━━━━━━━━━━━━━━━━━━━━\u001b[0m\u001b[37m\u001b[0m \u001b[1m8s\u001b[0m 18ms/step - accuracy: 0.9999 - auc: 1.0000 - loss: 3.1382e-04 - val_accuracy: 0.8875 - val_auc: 0.8888 - val_loss: 0.9777\n"
     ]
    },
    {
     "data": {
      "text/plain": [
       "<keras.src.callbacks.history.History at 0x7c0913865570>"
      ]
     },
     "execution_count": 33,
     "metadata": {},
     "output_type": "execute_result"
    }
   ],
   "source": [
    "EPOCHS = 50\n",
    "BATCH_SIZE = 32\n",
    "\n",
    "model.fit(X_train_pad, y_train, epochs=EPOCHS, batch_size=BATCH_SIZE, validation_data=(X_test_pad, y_test))"
   ]
  },
  {
   "cell_type": "code",
   "execution_count": 34,
   "id": "a3268d71",
   "metadata": {
    "execution": {
     "iopub.execute_input": "2025-03-11T10:05:17.550835Z",
     "iopub.status.busy": "2025-03-11T10:05:17.550441Z",
     "iopub.status.idle": "2025-03-11T10:05:17.569441Z",
     "shell.execute_reply": "2025-03-11T10:05:17.568463Z"
    },
    "papermill": {
     "duration": 0.400703,
     "end_time": "2025-03-11T10:05:17.570954",
     "exception": false,
     "start_time": "2025-03-11T10:05:17.170251",
     "status": "completed"
    },
    "tags": []
   },
   "outputs": [],
   "source": [
    "csv_eval = pd.read_csv(\"/kaggle/input/llm-detect-ai-generated-text/test_essays.csv\")\n",
    "corpus_eval = csv_eval['text']"
   ]
  },
  {
   "cell_type": "code",
   "execution_count": 35,
   "id": "f5283ded",
   "metadata": {
    "execution": {
     "iopub.execute_input": "2025-03-11T10:05:18.368814Z",
     "iopub.status.busy": "2025-03-11T10:05:18.368413Z",
     "iopub.status.idle": "2025-03-11T10:05:18.693604Z",
     "shell.execute_reply": "2025-03-11T10:05:18.692835Z"
    },
    "papermill": {
     "duration": 0.751026,
     "end_time": "2025-03-11T10:05:18.695144",
     "exception": false,
     "start_time": "2025-03-11T10:05:17.944118",
     "status": "completed"
    },
    "tags": []
   },
   "outputs": [
    {
     "name": "stdout",
     "output_type": "stream",
     "text": [
      "\u001b[1m1/1\u001b[0m \u001b[32m━━━━━━━━━━━━━━━━━━━━\u001b[0m\u001b[37m\u001b[0m \u001b[1m0s\u001b[0m 275ms/step\n"
     ]
    }
   ],
   "source": [
    "X_test_seq_new = tokenizer.texts_to_sequences(corpus_eval)\n",
    "\n",
    "# Appliquer du padding pour uniformiser la taille\n",
    "X_test_pad_new = pad_sequences(X_test_seq_new, maxlen=MAX_SEQUENCE_LENGTH)\n",
    "\n",
    "probabilities = model.predict(X_test_pad_new)"
   ]
  },
  {
   "cell_type": "code",
   "execution_count": 36,
   "id": "83b65c57",
   "metadata": {
    "execution": {
     "iopub.execute_input": "2025-03-11T10:05:19.432486Z",
     "iopub.status.busy": "2025-03-11T10:05:19.432139Z",
     "iopub.status.idle": "2025-03-11T10:05:19.437825Z",
     "shell.execute_reply": "2025-03-11T10:05:19.436885Z"
    },
    "papermill": {
     "duration": 0.375673,
     "end_time": "2025-03-11T10:05:19.439238",
     "exception": false,
     "start_time": "2025-03-11T10:05:19.063565",
     "status": "completed"
    },
    "tags": []
   },
   "outputs": [
    {
     "data": {
      "text/plain": [
       "array([0.99894977, 0.99894977, 0.99894977], dtype=float32)"
      ]
     },
     "execution_count": 36,
     "metadata": {},
     "output_type": "execute_result"
    }
   ],
   "source": [
    "probabilities_flat = probabilities.flatten()\n",
    "probabilities_flat"
   ]
  },
  {
   "cell_type": "code",
   "execution_count": 37,
   "id": "d809de25",
   "metadata": {
    "execution": {
     "iopub.execute_input": "2025-03-11T10:05:20.232088Z",
     "iopub.status.busy": "2025-03-11T10:05:20.231547Z",
     "iopub.status.idle": "2025-03-11T10:05:20.241723Z",
     "shell.execute_reply": "2025-03-11T10:05:20.240740Z"
    },
    "papermill": {
     "duration": 0.43315,
     "end_time": "2025-03-11T10:05:20.243153",
     "exception": false,
     "start_time": "2025-03-11T10:05:19.810003",
     "status": "completed"
    },
    "tags": []
   },
   "outputs": [
    {
     "data": {
      "text/html": [
       "<div>\n",
       "<style scoped>\n",
       "    .dataframe tbody tr th:only-of-type {\n",
       "        vertical-align: middle;\n",
       "    }\n",
       "\n",
       "    .dataframe tbody tr th {\n",
       "        vertical-align: top;\n",
       "    }\n",
       "\n",
       "    .dataframe thead th {\n",
       "        text-align: right;\n",
       "    }\n",
       "</style>\n",
       "<table border=\"1\" class=\"dataframe\">\n",
       "  <thead>\n",
       "    <tr style=\"text-align: right;\">\n",
       "      <th></th>\n",
       "      <th>id</th>\n",
       "      <th>generated</th>\n",
       "    </tr>\n",
       "  </thead>\n",
       "  <tbody>\n",
       "    <tr>\n",
       "      <th>0</th>\n",
       "      <td>0000aaaa</td>\n",
       "      <td>0.99895</td>\n",
       "    </tr>\n",
       "    <tr>\n",
       "      <th>1</th>\n",
       "      <td>1111bbbb</td>\n",
       "      <td>0.99895</td>\n",
       "    </tr>\n",
       "    <tr>\n",
       "      <th>2</th>\n",
       "      <td>2222cccc</td>\n",
       "      <td>0.99895</td>\n",
       "    </tr>\n",
       "  </tbody>\n",
       "</table>\n",
       "</div>"
      ],
      "text/plain": [
       "         id  generated\n",
       "0  0000aaaa    0.99895\n",
       "1  1111bbbb    0.99895\n",
       "2  2222cccc    0.99895"
      ]
     },
     "execution_count": 37,
     "metadata": {},
     "output_type": "execute_result"
    }
   ],
   "source": [
    "d = {'id' : csv_eval['id'], 'generated': probabilities_flat}\n",
    "df_submission = pd.DataFrame(data=d)\n",
    "df_submission.head()"
   ]
  },
  {
   "cell_type": "code",
   "execution_count": 38,
   "id": "470d2646",
   "metadata": {
    "execution": {
     "iopub.execute_input": "2025-03-11T10:05:20.990088Z",
     "iopub.status.busy": "2025-03-11T10:05:20.989724Z",
     "iopub.status.idle": "2025-03-11T10:05:20.999472Z",
     "shell.execute_reply": "2025-03-11T10:05:20.998662Z"
    },
    "papermill": {
     "duration": 0.387306,
     "end_time": "2025-03-11T10:05:21.000966",
     "exception": false,
     "start_time": "2025-03-11T10:05:20.613660",
     "status": "completed"
    },
    "tags": []
   },
   "outputs": [],
   "source": [
    "df_submission.to_csv(\"submission.csv\", index=False)"
   ]
  }
 ],
 "metadata": {
  "kaggle": {
   "accelerator": "none",
   "dataSources": [
    {
     "databundleVersionId": 7516023,
     "sourceId": 61542,
     "sourceType": "competition"
    },
    {
     "datasetId": 6798553,
     "sourceId": 10933289,
     "sourceType": "datasetVersion"
    }
   ],
   "dockerImageVersionId": 30918,
   "isGpuEnabled": false,
   "isInternetEnabled": false,
   "language": "python",
   "sourceType": "notebook"
  },
  "kernelspec": {
   "display_name": "Python 3 (ipykernel)",
   "language": "python",
   "name": "python3"
  },
  "language_info": {
   "codemirror_mode": {
    "name": "ipython",
    "version": 3
   },
   "file_extension": ".py",
   "mimetype": "text/x-python",
   "name": "python",
   "nbconvert_exporter": "python",
   "pygments_lexer": "ipython3",
   "version": "3.11.7"
  },
  "papermill": {
   "default_parameters": {},
   "duration": 537.988575,
   "end_time": "2025-03-11T10:05:23.399748",
   "environment_variables": {},
   "exception": null,
   "input_path": "__notebook__.ipynb",
   "output_path": "__notebook__.ipynb",
   "parameters": {},
   "start_time": "2025-03-11T09:56:25.411173",
   "version": "2.6.0"
  }
 },
 "nbformat": 4,
 "nbformat_minor": 5
}
