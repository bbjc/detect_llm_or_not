{
 "cells": [
  {
   "cell_type": "markdown",
   "id": "4320e878",
   "metadata": {
    "papermill": {
     "duration": 0.011889,
     "end_time": "2025-03-15T16:46:21.153937",
     "exception": false,
     "start_time": "2025-03-15T16:46:21.142048",
     "status": "completed"
    },
    "tags": []
   },
   "source": [
    "# AML NLP project"
   ]
  },
  {
   "cell_type": "markdown",
   "id": "c03327db",
   "metadata": {
    "papermill": {
     "duration": 0.01043,
     "end_time": "2025-03-15T16:46:21.175753",
     "exception": false,
     "start_time": "2025-03-15T16:46:21.165323",
     "status": "completed"
    },
    "tags": []
   },
   "source": [
    "## Import libraries"
   ]
  },
  {
   "cell_type": "code",
   "execution_count": 1,
   "id": "759eb63a",
   "metadata": {
    "execution": {
     "iopub.execute_input": "2025-03-18T08:36:51.862899Z",
     "iopub.status.busy": "2025-03-18T08:36:51.862576Z",
     "iopub.status.idle": "2025-03-18T08:36:54.609866Z",
     "shell.execute_reply": "2025-03-18T08:36:54.609301Z",
     "shell.execute_reply.started": "2025-03-18T08:36:51.862876Z"
    },
    "papermill": {
     "duration": 36.410849,
     "end_time": "2025-03-15T16:46:57.597088",
     "exception": false,
     "start_time": "2025-03-15T16:46:21.186239",
     "status": "completed"
    },
    "tags": []
   },
   "outputs": [
    {
     "name": "stderr",
     "output_type": "stream",
     "text": [
      "[nltk_data] Downloading package punkt_tab to /root/nltk_data...\n",
      "[nltk_data]   Unzipping tokenizers/punkt_tab.zip.\n"
     ]
    }
   ],
   "source": [
    "import pandas as pd\n",
    "import seaborn as sns\n",
    "import numpy as np\n",
    "import nltk\n",
    "nltk.download('punkt_tab')\n",
    "from nltk import tokenize\n",
    "from matplotlib import pyplot as plt\n",
    "import regex as re\n",
    "import sklearn\n",
    "from sklearn.model_selection import train_test_split\n",
    "from sklearn.feature_extraction.text import TfidfVectorizer\n",
    "from sklearn import linear_model, metrics\n",
    "from sklearn.metrics import roc_auc_score\n",
    "from sklearn.svm import SVC\n",
    "from sklearn.pipeline import make_pipeline\n",
    "from sklearn.preprocessing import StandardScaler\n",
    "from sklearn.ensemble import RandomForestClassifier\n",
    "from xgboost import XGBClassifier\n"
   ]
  },
  {
   "cell_type": "markdown",
   "id": "83df5fb5",
   "metadata": {
    "papermill": {
     "duration": 0.011051,
     "end_time": "2025-03-15T16:46:57.619205",
     "exception": false,
     "start_time": "2025-03-15T16:46:57.608154",
     "status": "completed"
    },
    "tags": []
   },
   "source": [
    "## Read data"
   ]
  },
  {
   "cell_type": "markdown",
   "id": "140bb005",
   "metadata": {
    "papermill": {
     "duration": 0.011935,
     "end_time": "2025-03-15T16:46:57.641678",
     "exception": false,
     "start_time": "2025-03-15T16:46:57.629743",
     "status": "completed"
    },
    "tags": []
   },
   "source": [
    "Data can be found here : https://www.kaggle.com/datasets/thedrcat/daigt-v2-train-dataset/data"
   ]
  },
  {
   "cell_type": "code",
   "execution_count": 2,
   "id": "9505ce4f",
   "metadata": {
    "execution": {
     "iopub.execute_input": "2025-03-18T08:37:19.859292Z",
     "iopub.status.busy": "2025-03-18T08:37:19.858771Z",
     "iopub.status.idle": "2025-03-18T08:37:20.884900Z",
     "shell.execute_reply": "2025-03-18T08:37:20.883730Z",
     "shell.execute_reply.started": "2025-03-18T08:37:19.859274Z"
    },
    "papermill": {
     "duration": 2.394354,
     "end_time": "2025-03-15T16:47:00.046782",
     "exception": false,
     "start_time": "2025-03-15T16:46:57.652428",
     "status": "completed"
    },
    "tags": []
   },
   "outputs": [],
   "source": [
    "text_data = pd.read_csv(\"/datasets/data/train_v2_drcat_02.csv\")"
   ]
  },
  {
   "cell_type": "markdown",
   "id": "9fbd2081",
   "metadata": {
    "papermill": {
     "duration": 0.010478,
     "end_time": "2025-03-15T16:47:00.068378",
     "exception": false,
     "start_time": "2025-03-15T16:47:00.057900",
     "status": "completed"
    },
    "tags": []
   },
   "source": [
    "Let's keep the original prompts"
   ]
  },
  {
   "cell_type": "code",
   "execution_count": 3,
   "id": "d68d8f98",
   "metadata": {
    "execution": {
     "iopub.execute_input": "2025-03-18T08:37:23.702983Z",
     "iopub.status.busy": "2025-03-18T08:37:23.702071Z",
     "iopub.status.idle": "2025-03-18T08:37:23.714168Z",
     "shell.execute_reply": "2025-03-18T08:37:23.713470Z",
     "shell.execute_reply.started": "2025-03-18T08:37:23.702983Z"
    },
    "papermill": {
     "duration": 0.028691,
     "end_time": "2025-03-15T16:47:00.107699",
     "exception": false,
     "start_time": "2025-03-15T16:47:00.079008",
     "status": "completed"
    },
    "tags": []
   },
   "outputs": [],
   "source": [
    "seven_text_data = text_data[text_data['RDizzl3_seven'] == True]"
   ]
  },
  {
   "cell_type": "code",
   "execution_count": 4,
   "id": "525512e7",
   "metadata": {
    "execution": {
     "iopub.execute_input": "2025-03-18T08:37:26.476225Z",
     "iopub.status.busy": "2025-03-18T08:37:26.475703Z",
     "iopub.status.idle": "2025-03-18T08:37:26.487737Z",
     "shell.execute_reply": "2025-03-18T08:37:26.487083Z",
     "shell.execute_reply.started": "2025-03-18T08:37:26.476205Z"
    },
    "papermill": {
     "duration": 0.025427,
     "end_time": "2025-03-15T16:47:00.144218",
     "exception": false,
     "start_time": "2025-03-15T16:47:00.118791",
     "status": "completed"
    },
    "tags": []
   },
   "outputs": [
    {
     "name": "stderr",
     "output_type": "stream",
     "text": [
      "/tmp/ipykernel_40/478277149.py:2: SettingWithCopyWarning: \n",
      "A value is trying to be set on a copy of a slice from a DataFrame.\n",
      "Try using .loc[row_indexer,col_indexer] = value instead\n",
      "\n",
      "See the caveats in the documentation: https://pandas.pydata.org/pandas-docs/stable/user_guide/indexing.html#returning-a-view-versus-a-copy\n",
      "  seven_text_data['prompt_name'] = seven_text_data['prompt_name'].str.replace('''\"''','')\n"
     ]
    }
   ],
   "source": [
    "# Remove the \" \" \" in the prompt names\n",
    "seven_text_data['prompt_name'] = seven_text_data['prompt_name'].str.replace('''\"''','')\n",
    "# seven_text_data['prompt_name'].unique()"
   ]
  },
  {
   "cell_type": "markdown",
   "id": "b2d2e233",
   "metadata": {
    "papermill": {
     "duration": 0.010687,
     "end_time": "2025-03-15T16:47:00.166010",
     "exception": false,
     "start_time": "2025-03-15T16:47:00.155323",
     "status": "completed"
    },
    "tags": []
   },
   "source": [
    "## Data mining and Feature engineering"
   ]
  },
  {
   "cell_type": "markdown",
   "id": "31630d1c",
   "metadata": {
    "papermill": {
     "duration": 0.010508,
     "end_time": "2025-03-15T16:47:00.187416",
     "exception": false,
     "start_time": "2025-03-15T16:47:00.176908",
     "status": "completed"
    },
    "tags": []
   },
   "source": [
    "### Visualization"
   ]
  },
  {
   "cell_type": "markdown",
   "id": "9c91175e",
   "metadata": {
    "papermill": {
     "duration": 0.010475,
     "end_time": "2025-03-15T16:47:00.208732",
     "exception": false,
     "start_time": "2025-03-15T16:47:00.198257",
     "status": "completed"
    },
    "tags": []
   },
   "source": [
    "Class imbalance"
   ]
  },
  {
   "cell_type": "code",
   "execution_count": 5,
   "id": "15e0ac9e",
   "metadata": {
    "execution": {
     "iopub.execute_input": "2025-03-18T08:37:30.212494Z",
     "iopub.status.busy": "2025-03-18T08:37:30.211861Z",
     "iopub.status.idle": "2025-03-18T08:37:30.240823Z",
     "shell.execute_reply": "2025-03-18T08:37:30.240304Z",
     "shell.execute_reply.started": "2025-03-18T08:37:30.212474Z"
    },
    "papermill": {
     "duration": 0.048391,
     "end_time": "2025-03-15T16:47:00.267925",
     "exception": false,
     "start_time": "2025-03-15T16:47:00.219534",
     "status": "completed"
    },
    "tags": []
   },
   "outputs": [
    {
     "data": {
      "text/html": [
       "<div>\n",
       "<style scoped>\n",
       "    .dataframe tbody tr th:only-of-type {\n",
       "        vertical-align: middle;\n",
       "    }\n",
       "\n",
       "    .dataframe tbody tr th {\n",
       "        vertical-align: top;\n",
       "    }\n",
       "\n",
       "    .dataframe thead th {\n",
       "        text-align: right;\n",
       "    }\n",
       "</style>\n",
       "<table border=\"1\" class=\"dataframe\">\n",
       "  <thead>\n",
       "    <tr style=\"text-align: right;\">\n",
       "      <th></th>\n",
       "      <th>text</th>\n",
       "      <th>prompt_name</th>\n",
       "      <th>source</th>\n",
       "      <th>RDizzl3_seven</th>\n",
       "    </tr>\n",
       "    <tr>\n",
       "      <th>label</th>\n",
       "      <th></th>\n",
       "      <th></th>\n",
       "      <th></th>\n",
       "      <th></th>\n",
       "    </tr>\n",
       "  </thead>\n",
       "  <tbody>\n",
       "    <tr>\n",
       "      <th>0</th>\n",
       "      <td>14250</td>\n",
       "      <td>14250</td>\n",
       "      <td>14250</td>\n",
       "      <td>14250</td>\n",
       "    </tr>\n",
       "    <tr>\n",
       "      <th>1</th>\n",
       "      <td>6200</td>\n",
       "      <td>6200</td>\n",
       "      <td>6200</td>\n",
       "      <td>6200</td>\n",
       "    </tr>\n",
       "  </tbody>\n",
       "</table>\n",
       "</div>"
      ],
      "text/plain": [
       "        text  prompt_name  source  RDizzl3_seven\n",
       "label                                           \n",
       "0      14250        14250   14250          14250\n",
       "1       6200         6200    6200           6200"
      ]
     },
     "execution_count": 5,
     "metadata": {},
     "output_type": "execute_result"
    }
   ],
   "source": [
    "seven_text_data.groupby('label').count()"
   ]
  },
  {
   "cell_type": "markdown",
   "id": "2120fcb7",
   "metadata": {
    "papermill": {
     "duration": 0.012052,
     "end_time": "2025-03-15T16:47:00.291506",
     "exception": false,
     "start_time": "2025-03-15T16:47:00.279454",
     "status": "completed"
    },
    "tags": []
   },
   "source": [
    "We notice a huge class imbalance : there are more handwritten text than AI generated"
   ]
  },
  {
   "cell_type": "markdown",
   "id": "3e054dc0",
   "metadata": {
    "papermill": {
     "duration": 0.011101,
     "end_time": "2025-03-15T16:47:00.313701",
     "exception": false,
     "start_time": "2025-03-15T16:47:00.302600",
     "status": "completed"
    },
    "tags": []
   },
   "source": [
    "Add essay length column"
   ]
  },
  {
   "cell_type": "code",
   "execution_count": 6,
   "id": "0b03a80f",
   "metadata": {
    "execution": {
     "iopub.execute_input": "2025-03-15T16:47:00.336525Z",
     "iopub.status.busy": "2025-03-15T16:47:00.336141Z",
     "iopub.status.idle": "2025-03-15T16:47:00.339905Z",
     "shell.execute_reply": "2025-03-15T16:47:00.338944Z"
    },
    "papermill": {
     "duration": 0.017061,
     "end_time": "2025-03-15T16:47:00.341580",
     "exception": false,
     "start_time": "2025-03-15T16:47:00.324519",
     "status": "completed"
    },
    "tags": []
   },
   "outputs": [],
   "source": [
    "# seven_text_data['length'] = seven_text_data['text'].str.len()\n",
    "# seven_text_data.head()"
   ]
  },
  {
   "cell_type": "code",
   "execution_count": 7,
   "id": "f1b89767",
   "metadata": {
    "execution": {
     "iopub.execute_input": "2025-03-15T16:47:00.364929Z",
     "iopub.status.busy": "2025-03-15T16:47:00.364542Z",
     "iopub.status.idle": "2025-03-15T16:47:00.368757Z",
     "shell.execute_reply": "2025-03-15T16:47:00.367595Z"
    },
    "papermill": {
     "duration": 0.017973,
     "end_time": "2025-03-15T16:47:00.370620",
     "exception": false,
     "start_time": "2025-03-15T16:47:00.352647",
     "status": "completed"
    },
    "tags": []
   },
   "outputs": [],
   "source": [
    "# mapping = dict(zip(seven_text_data['prompt_name'].unique(), range(7)))\n",
    "# seven_text_data['prompt_id'] = seven_text_data.replace(mapping)['prompt_name']\n"
   ]
  },
  {
   "cell_type": "code",
   "execution_count": 6,
   "id": "5a4b1dac",
   "metadata": {
    "execution": {
     "iopub.execute_input": "2025-03-18T08:37:35.371080Z",
     "iopub.status.busy": "2025-03-18T08:37:35.370454Z",
     "iopub.status.idle": "2025-03-18T08:37:35.445988Z",
     "shell.execute_reply": "2025-03-18T08:37:35.445465Z",
     "shell.execute_reply.started": "2025-03-18T08:37:35.371060Z"
    },
    "papermill": {
     "duration": 0.14776,
     "end_time": "2025-03-15T16:47:00.529371",
     "exception": false,
     "start_time": "2025-03-15T16:47:00.381611",
     "status": "completed"
    },
    "tags": []
   },
   "outputs": [
    {
     "name": "stderr",
     "output_type": "stream",
     "text": [
      "/tmp/ipykernel_40/1010944745.py:2: FutureWarning: Downcasting behavior in `replace` is deprecated and will be removed in a future version. To retain the old behavior, explicitly call `result.infer_objects(copy=False)`. To opt-in to the future behavior, set `pd.set_option('future.no_silent_downcasting', True)`\n",
      "  seven_text_data['source_id'] = seven_text_data.replace(mapping_source)['source']\n",
      "/tmp/ipykernel_40/1010944745.py:2: SettingWithCopyWarning: \n",
      "A value is trying to be set on a copy of a slice from a DataFrame.\n",
      "Try using .loc[row_indexer,col_indexer] = value instead\n",
      "\n",
      "See the caveats in the documentation: https://pandas.pydata.org/pandas-docs/stable/user_guide/indexing.html#returning-a-view-versus-a-copy\n",
      "  seven_text_data['source_id'] = seven_text_data.replace(mapping_source)['source']\n"
     ]
    }
   ],
   "source": [
    "mapping_source = dict(zip(seven_text_data['source'].unique(), range(len(seven_text_data['source'].unique()))))\n",
    "seven_text_data['source_id'] = seven_text_data.replace(mapping_source)['source']\n",
    "sorted_seven_text_data = seven_text_data.groupby('source').count().sort_values(\"text\", ascending=False)\n",
    "# sns.barplot(sorted_seven_text_data,x = 'text', y = 'source', orient = 'h')\n",
    "# plt.title(\"Number of essays by source\")"
   ]
  },
  {
   "cell_type": "markdown",
   "id": "acdd3e85",
   "metadata": {
    "papermill": {
     "duration": 0.01077,
     "end_time": "2025-03-15T16:47:00.551816",
     "exception": false,
     "start_time": "2025-03-15T16:47:00.541046",
     "status": "completed"
    },
    "tags": []
   },
   "source": [
    "The sources are highly skewed so me might need to balance this later"
   ]
  },
  {
   "cell_type": "code",
   "execution_count": 7,
   "id": "838d19d8",
   "metadata": {
    "execution": {
     "iopub.execute_input": "2025-03-18T08:37:44.113982Z",
     "iopub.status.busy": "2025-03-18T08:37:44.113547Z",
     "iopub.status.idle": "2025-03-18T08:37:44.117269Z",
     "shell.execute_reply": "2025-03-18T08:37:44.116784Z",
     "shell.execute_reply.started": "2025-03-18T08:37:44.113953Z"
    },
    "papermill": {
     "duration": 0.018323,
     "end_time": "2025-03-15T16:47:00.581264",
     "exception": false,
     "start_time": "2025-03-15T16:47:00.562941",
     "status": "completed"
    },
    "tags": []
   },
   "outputs": [],
   "source": [
    "def word_count(text):\n",
    "    text_list = text.split()\n",
    "    return len(text_list)\n"
   ]
  },
  {
   "cell_type": "code",
   "execution_count": 8,
   "id": "df1a9a92",
   "metadata": {
    "execution": {
     "iopub.execute_input": "2025-03-18T08:37:46.038852Z",
     "iopub.status.busy": "2025-03-18T08:37:46.038300Z",
     "iopub.status.idle": "2025-03-18T08:37:46.306260Z",
     "shell.execute_reply": "2025-03-18T08:37:46.305738Z",
     "shell.execute_reply.started": "2025-03-18T08:37:46.038834Z"
    },
    "papermill": {
     "duration": 0.491721,
     "end_time": "2025-03-15T16:47:01.084527",
     "exception": false,
     "start_time": "2025-03-15T16:47:00.592806",
     "status": "completed"
    },
    "tags": []
   },
   "outputs": [
    {
     "name": "stderr",
     "output_type": "stream",
     "text": [
      "/tmp/ipykernel_40/1886950202.py:1: SettingWithCopyWarning: \n",
      "A value is trying to be set on a copy of a slice from a DataFrame.\n",
      "Try using .loc[row_indexer,col_indexer] = value instead\n",
      "\n",
      "See the caveats in the documentation: https://pandas.pydata.org/pandas-docs/stable/user_guide/indexing.html#returning-a-view-versus-a-copy\n",
      "  seven_text_data['word_count'] = seven_text_data['text'].apply(word_count)\n"
     ]
    }
   ],
   "source": [
    "seven_text_data['word_count'] = seven_text_data['text'].apply(word_count)\n",
    "# seven_text_data.head()"
   ]
  },
  {
   "cell_type": "code",
   "execution_count": 9,
   "id": "6a47fc74",
   "metadata": {
    "execution": {
     "iopub.execute_input": "2025-03-18T08:37:49.958159Z",
     "iopub.status.busy": "2025-03-18T08:37:49.957574Z",
     "iopub.status.idle": "2025-03-18T08:37:50.714414Z",
     "shell.execute_reply": "2025-03-18T08:37:50.714030Z",
     "shell.execute_reply.started": "2025-03-18T08:37:49.958137Z"
    },
    "papermill": {
     "duration": 1.743152,
     "end_time": "2025-03-15T16:47:02.839141",
     "exception": false,
     "start_time": "2025-03-15T16:47:01.095989",
     "status": "completed"
    },
    "tags": []
   },
   "outputs": [
    {
     "name": "stderr",
     "output_type": "stream",
     "text": [
      "/tmp/ipykernel_40/2075753603.py:1: SettingWithCopyWarning: \n",
      "A value is trying to be set on a copy of a slice from a DataFrame.\n",
      "Try using .loc[row_indexer,col_indexer] = value instead\n",
      "\n",
      "See the caveats in the documentation: https://pandas.pydata.org/pandas-docs/stable/user_guide/indexing.html#returning-a-view-versus-a-copy\n",
      "  seven_text_data['mean_word_length'] = seven_text_data['text'].apply(\n"
     ]
    }
   ],
   "source": [
    "seven_text_data['mean_word_length'] = seven_text_data['text'].apply(\n",
    "    lambda x: np.mean([len(word) for word in x.split()])\n",
    ")"
   ]
  },
  {
   "cell_type": "code",
   "execution_count": 12,
   "id": "1f49f189",
   "metadata": {
    "execution": {
     "iopub.execute_input": "2025-03-15T16:47:02.864692Z",
     "iopub.status.busy": "2025-03-15T16:47:02.864295Z",
     "iopub.status.idle": "2025-03-15T16:47:16.711376Z",
     "shell.execute_reply": "2025-03-15T16:47:16.710139Z"
    },
    "papermill": {
     "duration": 13.861541,
     "end_time": "2025-03-15T16:47:16.713371",
     "exception": false,
     "start_time": "2025-03-15T16:47:02.851830",
     "status": "completed"
    },
    "tags": []
   },
   "outputs": [
    {
     "name": "stderr",
     "output_type": "stream",
     "text": [
      "<ipython-input-12-82c91d421ccd>:1: SettingWithCopyWarning: \n",
      "A value is trying to be set on a copy of a slice from a DataFrame.\n",
      "Try using .loc[row_indexer,col_indexer] = value instead\n",
      "\n",
      "See the caveats in the documentation: https://pandas.pydata.org/pandas-docs/stable/user_guide/indexing.html#returning-a-view-versus-a-copy\n",
      "  seven_text_data['mean_sent_length'] = seven_text_data['text'].apply(\n"
     ]
    }
   ],
   "source": [
    "seven_text_data['mean_sent_length'] = seven_text_data['text'].apply(\n",
    "    lambda x: np.mean([len(sent) for sent in tokenize.sent_tokenize(x)])\n",
    ")\n"
   ]
  },
  {
   "cell_type": "code",
   "execution_count": 11,
   "id": "72a150c1",
   "metadata": {
    "execution": {
     "iopub.execute_input": "2025-03-18T08:38:11.884827Z",
     "iopub.status.busy": "2025-03-18T08:38:11.884625Z",
     "iopub.status.idle": "2025-03-18T08:38:14.415367Z",
     "shell.execute_reply": "2025-03-18T08:38:14.414858Z",
     "shell.execute_reply.started": "2025-03-18T08:38:11.884814Z"
    },
    "papermill": {
     "duration": 4.614944,
     "end_time": "2025-03-15T16:47:21.339927",
     "exception": false,
     "start_time": "2025-03-15T16:47:16.724983",
     "status": "completed"
    },
    "tags": []
   },
   "outputs": [],
   "source": [
    "def normalize(text):\n",
    "    # Replace with whitespace to separate '😃\\n\\nFor'\n",
    "    text = text.replace(r\"\\n\", r\" \")\n",
    "    text = text.replace(r\"\\r\", r\" \")\n",
    "    # Drop punctuation\n",
    "    text = re.sub(r\"\\p{P}\", \" \", text)\n",
    "    # Remove extra spaces from '😃  For' to '😃 For'\n",
    "    text = re.sub(r\"\\s+\", r\" \", text)\n",
    "    # Remove leading and trailing whitespace\n",
    "    text = text.strip()\n",
    "    return text\n",
    "\n",
    "normalized_seven_text_data = seven_text_data.copy()\n",
    "normalized_seven_text_data['text'] = seven_text_data['text'].apply(lambda x: normalize(x))\n"
   ]
  },
  {
   "cell_type": "code",
   "execution_count": 14,
   "id": "8a33f38c",
   "metadata": {
    "execution": {
     "iopub.execute_input": "2025-03-15T16:47:21.364410Z",
     "iopub.status.busy": "2025-03-15T16:47:21.364012Z",
     "iopub.status.idle": "2025-03-15T16:47:21.370015Z",
     "shell.execute_reply": "2025-03-15T16:47:21.368930Z"
    },
    "papermill": {
     "duration": 0.020282,
     "end_time": "2025-03-15T16:47:21.371902",
     "exception": false,
     "start_time": "2025-03-15T16:47:21.351620",
     "status": "completed"
    },
    "tags": []
   },
   "outputs": [],
   "source": [
    "eval_data['text'] = eval_data['text'].apply(lambda x: normalize(x))"
   ]
  },
  {
   "cell_type": "markdown",
   "id": "4fa338c1",
   "metadata": {
    "papermill": {
     "duration": 0.011586,
     "end_time": "2025-03-15T16:47:21.395135",
     "exception": false,
     "start_time": "2025-03-15T16:47:21.383549",
     "status": "completed"
    },
    "tags": []
   },
   "source": [
    "### Handling class imbalance "
   ]
  },
  {
   "cell_type": "markdown",
   "id": "3c32604b",
   "metadata": {
    "papermill": {
     "duration": 0.011134,
     "end_time": "2025-03-15T16:47:21.418048",
     "exception": false,
     "start_time": "2025-03-15T16:47:21.406914",
     "status": "completed"
    },
    "tags": []
   },
   "source": [
    "#### Sub-sampling"
   ]
  },
  {
   "cell_type": "code",
   "execution_count": 15,
   "id": "5c7addf2",
   "metadata": {
    "execution": {
     "iopub.execute_input": "2025-03-15T16:47:21.442737Z",
     "iopub.status.busy": "2025-03-15T16:47:21.442299Z",
     "iopub.status.idle": "2025-03-15T16:47:21.451221Z",
     "shell.execute_reply": "2025-03-15T16:47:21.450045Z"
    },
    "papermill": {
     "duration": 0.023205,
     "end_time": "2025-03-15T16:47:21.453134",
     "exception": false,
     "start_time": "2025-03-15T16:47:21.429929",
     "status": "completed"
    },
    "tags": []
   },
   "outputs": [
    {
     "data": {
      "text/plain": [
       "0.30317848410757947"
      ]
     },
     "execution_count": 15,
     "metadata": {},
     "output_type": "execute_result"
    }
   ],
   "source": [
    "normalized_seven_text_data.sum(numeric_only=True)['label']/normalized_seven_text_data.shape[0]"
   ]
  },
  {
   "cell_type": "markdown",
   "id": "e5783aed",
   "metadata": {
    "papermill": {
     "duration": 0.011359,
     "end_time": "2025-03-15T16:47:21.476273",
     "exception": false,
     "start_time": "2025-03-15T16:47:21.464914",
     "status": "completed"
    },
    "tags": []
   },
   "source": [
    "Only 30% of the data is AI generated, so we remove instances of persuade corpus  to reach 50/50"
   ]
  },
  {
   "cell_type": "code",
   "execution_count": 16,
   "id": "06793bfa",
   "metadata": {
    "execution": {
     "iopub.execute_input": "2025-03-15T16:47:21.500847Z",
     "iopub.status.busy": "2025-03-15T16:47:21.500438Z",
     "iopub.status.idle": "2025-03-15T16:47:21.515590Z",
     "shell.execute_reply": "2025-03-15T16:47:21.514296Z"
    },
    "papermill": {
     "duration": 0.029741,
     "end_time": "2025-03-15T16:47:21.517668",
     "exception": false,
     "start_time": "2025-03-15T16:47:21.487927",
     "status": "completed"
    },
    "tags": []
   },
   "outputs": [],
   "source": [
    "dropped_persuade_index = normalized_seven_text_data[\n",
    "    normalized_seven_text_data['source']=='persuade_corpus'\n",
    "                                                    ].sample(n=8080, random_state=1).index"
   ]
  },
  {
   "cell_type": "code",
   "execution_count": 17,
   "id": "f4f95404",
   "metadata": {
    "execution": {
     "iopub.execute_input": "2025-03-15T16:47:21.542190Z",
     "iopub.status.busy": "2025-03-15T16:47:21.541781Z",
     "iopub.status.idle": "2025-03-15T16:47:21.552884Z",
     "shell.execute_reply": "2025-03-15T16:47:21.551692Z"
    },
    "papermill": {
     "duration": 0.025585,
     "end_time": "2025-03-15T16:47:21.554915",
     "exception": false,
     "start_time": "2025-03-15T16:47:21.529330",
     "status": "completed"
    },
    "tags": []
   },
   "outputs": [],
   "source": [
    "sub_sampled_text_data = normalized_seven_text_data.drop(dropped_persuade_index).reset_index(drop=True)"
   ]
  },
  {
   "cell_type": "code",
   "execution_count": 18,
   "id": "c2a6c877",
   "metadata": {
    "execution": {
     "iopub.execute_input": "2025-03-15T16:47:21.579385Z",
     "iopub.status.busy": "2025-03-15T16:47:21.578975Z",
     "iopub.status.idle": "2025-03-15T16:47:21.587419Z",
     "shell.execute_reply": "2025-03-15T16:47:21.586151Z"
    },
    "papermill": {
     "duration": 0.022813,
     "end_time": "2025-03-15T16:47:21.589346",
     "exception": false,
     "start_time": "2025-03-15T16:47:21.566533",
     "status": "completed"
    },
    "tags": []
   },
   "outputs": [
    {
     "data": {
      "text/plain": [
       "0.5012126111560227"
      ]
     },
     "execution_count": 18,
     "metadata": {},
     "output_type": "execute_result"
    }
   ],
   "source": [
    "sub_sampled_text_data.sum(numeric_only=True)['label']/sub_sampled_text_data.shape[0]"
   ]
  },
  {
   "cell_type": "markdown",
   "id": "222f70d7",
   "metadata": {
    "papermill": {
     "duration": 0.011309,
     "end_time": "2025-03-15T16:47:21.612498",
     "exception": false,
     "start_time": "2025-03-15T16:47:21.601189",
     "status": "completed"
    },
    "tags": []
   },
   "source": [
    "### TF-IDF"
   ]
  },
  {
   "cell_type": "markdown",
   "id": "7aa371da",
   "metadata": {
    "papermill": {
     "duration": 0.011111,
     "end_time": "2025-03-15T16:47:21.635075",
     "exception": false,
     "start_time": "2025-03-15T16:47:21.623964",
     "status": "completed"
    },
    "tags": []
   },
   "source": [
    "After going through the corpus we see \\n to jump lines and  \\ before ' that we have to manage for text processing."
   ]
  },
  {
   "cell_type": "code",
   "execution_count": 19,
   "id": "c0df42f5",
   "metadata": {
    "execution": {
     "iopub.execute_input": "2025-03-15T16:47:21.723595Z",
     "iopub.status.busy": "2025-03-15T16:47:21.723214Z",
     "iopub.status.idle": "2025-03-15T16:47:54.502960Z",
     "shell.execute_reply": "2025-03-15T16:47:54.501837Z"
    },
    "papermill": {
     "duration": 32.794463,
     "end_time": "2025-03-15T16:47:54.505100",
     "exception": false,
     "start_time": "2025-03-15T16:47:21.710637",
     "status": "completed"
    },
    "tags": []
   },
   "outputs": [],
   "source": [
    "corpus = sub_sampled_text_data['text']\n",
    "vectorizer = TfidfVectorizer(max_features = 10000,\n",
    "                            stop_words = 'english',\n",
    "                            )\n",
    "\n",
    "vectorizer2 = TfidfVectorizer(ngram_range=(1, 4),\n",
    "                             tokenizer=lambda x: re.findall(r'[^\\W]+', x),\n",
    "                             stop_words='english',\n",
    "                             token_pattern=None,\n",
    "                             strip_accents='unicode',\n",
    "                             sublinear_tf=True,\n",
    "                             max_features=50000\n",
    "                             )\n",
    "\n",
    "X = vectorizer2.fit_transform(corpus,\n",
    "                            )"
   ]
  },
  {
   "cell_type": "code",
   "execution_count": 20,
   "id": "31e21912",
   "metadata": {
    "execution": {
     "iopub.execute_input": "2025-03-15T16:47:54.529724Z",
     "iopub.status.busy": "2025-03-15T16:47:54.529375Z",
     "iopub.status.idle": "2025-03-15T16:47:54.535546Z",
     "shell.execute_reply": "2025-03-15T16:47:54.534611Z"
    },
    "papermill": {
     "duration": 0.020126,
     "end_time": "2025-03-15T16:47:54.537108",
     "exception": false,
     "start_time": "2025-03-15T16:47:54.516982",
     "status": "completed"
    },
    "tags": []
   },
   "outputs": [],
   "source": [
    "X_eval = vectorizer2.transform(eval_data['text'])"
   ]
  },
  {
   "cell_type": "code",
   "execution_count": 21,
   "id": "c4212b17",
   "metadata": {
    "execution": {
     "iopub.execute_input": "2025-03-15T16:47:54.561758Z",
     "iopub.status.busy": "2025-03-15T16:47:54.561404Z",
     "iopub.status.idle": "2025-03-15T16:47:54.636654Z",
     "shell.execute_reply": "2025-03-15T16:47:54.635629Z"
    },
    "papermill": {
     "duration": 0.089307,
     "end_time": "2025-03-15T16:47:54.638375",
     "exception": false,
     "start_time": "2025-03-15T16:47:54.549068",
     "status": "completed"
    },
    "scrolled": true,
    "tags": []
   },
   "outputs": [],
   "source": [
    "features = vectorizer2.get_feature_names_out()"
   ]
  },
  {
   "cell_type": "code",
   "execution_count": 22,
   "id": "284f29c1",
   "metadata": {
    "execution": {
     "iopub.execute_input": "2025-03-15T16:47:54.663268Z",
     "iopub.status.busy": "2025-03-15T16:47:54.662887Z",
     "iopub.status.idle": "2025-03-15T16:47:54.668940Z",
     "shell.execute_reply": "2025-03-15T16:47:54.667854Z"
    },
    "papermill": {
     "duration": 0.020533,
     "end_time": "2025-03-15T16:47:54.670763",
     "exception": false,
     "start_time": "2025-03-15T16:47:54.650230",
     "status": "completed"
    },
    "tags": []
   },
   "outputs": [
    {
     "data": {
      "text/plain": [
       "array(['0', '00', '000', ..., '\\u200d ️', '️', '️ s'], dtype=object)"
      ]
     },
     "execution_count": 22,
     "metadata": {},
     "output_type": "execute_result"
    }
   ],
   "source": [
    "features"
   ]
  },
  {
   "cell_type": "code",
   "execution_count": 23,
   "id": "8d83ba39",
   "metadata": {
    "execution": {
     "iopub.execute_input": "2025-03-15T16:47:54.696278Z",
     "iopub.status.busy": "2025-03-15T16:47:54.695908Z",
     "iopub.status.idle": "2025-03-15T16:47:54.701438Z",
     "shell.execute_reply": "2025-03-15T16:47:54.700385Z"
    },
    "papermill": {
     "duration": 0.020542,
     "end_time": "2025-03-15T16:47:54.703231",
     "exception": false,
     "start_time": "2025-03-15T16:47:54.682689",
     "status": "completed"
    },
    "tags": []
   },
   "outputs": [
    {
     "name": "stdout",
     "output_type": "stream",
     "text": [
      "vectorized corpus dimensions :  (12370, 50000)\n",
      "corpus dataset dimensions :  (20450, 9)\n"
     ]
    }
   ],
   "source": [
    "print(\"vectorized corpus dimensions : \", X.shape)\n",
    "print(\"corpus dataset dimensions : \", seven_text_data.shape)"
   ]
  },
  {
   "cell_type": "markdown",
   "id": "31db4e39",
   "metadata": {
    "papermill": {
     "duration": 0.011849,
     "end_time": "2025-03-15T16:47:54.727265",
     "exception": false,
     "start_time": "2025-03-15T16:47:54.715416",
     "status": "completed"
    },
    "tags": []
   },
   "source": [
    "Each line of X represents an essay in the corpus, and each column represents a word"
   ]
  },
  {
   "cell_type": "code",
   "execution_count": 24,
   "id": "0aaf7938",
   "metadata": {
    "execution": {
     "iopub.execute_input": "2025-03-15T16:47:54.754112Z",
     "iopub.status.busy": "2025-03-15T16:47:54.753648Z",
     "iopub.status.idle": "2025-03-15T16:47:54.757975Z",
     "shell.execute_reply": "2025-03-15T16:47:54.756640Z"
    },
    "papermill": {
     "duration": 0.020564,
     "end_time": "2025-03-15T16:47:54.759908",
     "exception": false,
     "start_time": "2025-03-15T16:47:54.739344",
     "status": "completed"
    },
    "tags": []
   },
   "outputs": [],
   "source": [
    "# X.mean(axis = 0)"
   ]
  },
  {
   "cell_type": "markdown",
   "id": "9642a7b8",
   "metadata": {
    "papermill": {
     "duration": 0.011667,
     "end_time": "2025-03-15T16:47:54.784064",
     "exception": false,
     "start_time": "2025-03-15T16:47:54.772397",
     "status": "completed"
    },
    "tags": []
   },
   "source": [
    "## Machine learning task"
   ]
  },
  {
   "cell_type": "code",
   "execution_count": 25,
   "id": "bb435792",
   "metadata": {
    "execution": {
     "iopub.execute_input": "2025-03-15T16:47:54.810693Z",
     "iopub.status.busy": "2025-03-15T16:47:54.810269Z",
     "iopub.status.idle": "2025-03-15T16:47:54.817249Z",
     "shell.execute_reply": "2025-03-15T16:47:54.816035Z"
    },
    "papermill": {
     "duration": 0.023517,
     "end_time": "2025-03-15T16:47:54.819452",
     "exception": false,
     "start_time": "2025-03-15T16:47:54.795935",
     "status": "completed"
    },
    "tags": []
   },
   "outputs": [
    {
     "data": {
      "text/plain": [
       "(12370,)"
      ]
     },
     "execution_count": 25,
     "metadata": {},
     "output_type": "execute_result"
    }
   ],
   "source": [
    "y = sub_sampled_text_data['label'].values\n",
    "y.shape"
   ]
  },
  {
   "cell_type": "code",
   "execution_count": 26,
   "id": "b8586d18",
   "metadata": {
    "execution": {
     "iopub.execute_input": "2025-03-15T16:47:54.845291Z",
     "iopub.status.busy": "2025-03-15T16:47:54.844912Z",
     "iopub.status.idle": "2025-03-15T16:47:54.872404Z",
     "shell.execute_reply": "2025-03-15T16:47:54.871358Z"
    },
    "papermill": {
     "duration": 0.042716,
     "end_time": "2025-03-15T16:47:54.874333",
     "exception": false,
     "start_time": "2025-03-15T16:47:54.831617",
     "status": "completed"
    },
    "tags": []
   },
   "outputs": [],
   "source": [
    "X_train, X_test, y_train, y_test = train_test_split(X,y)"
   ]
  },
  {
   "cell_type": "markdown",
   "id": "9e6fdbf8",
   "metadata": {
    "papermill": {
     "duration": 0.011895,
     "end_time": "2025-03-15T16:47:54.898897",
     "exception": false,
     "start_time": "2025-03-15T16:47:54.887002",
     "status": "completed"
    },
    "tags": []
   },
   "source": [
    "### Logistic regression"
   ]
  },
  {
   "cell_type": "code",
   "execution_count": 27,
   "id": "ae130727",
   "metadata": {
    "execution": {
     "iopub.execute_input": "2025-03-15T16:47:54.924739Z",
     "iopub.status.busy": "2025-03-15T16:47:54.924304Z",
     "iopub.status.idle": "2025-03-15T16:47:54.928738Z",
     "shell.execute_reply": "2025-03-15T16:47:54.927624Z"
    },
    "papermill": {
     "duration": 0.019416,
     "end_time": "2025-03-15T16:47:54.930350",
     "exception": false,
     "start_time": "2025-03-15T16:47:54.910934",
     "status": "completed"
    },
    "tags": []
   },
   "outputs": [],
   "source": [
    "reg = linear_model.LogisticRegression()"
   ]
  },
  {
   "cell_type": "code",
   "execution_count": 28,
   "id": "aef02003",
   "metadata": {
    "execution": {
     "iopub.execute_input": "2025-03-15T16:47:54.956849Z",
     "iopub.status.busy": "2025-03-15T16:47:54.956476Z",
     "iopub.status.idle": "2025-03-15T16:47:55.826002Z",
     "shell.execute_reply": "2025-03-15T16:47:55.824890Z"
    },
    "papermill": {
     "duration": 0.885465,
     "end_time": "2025-03-15T16:47:55.828128",
     "exception": false,
     "start_time": "2025-03-15T16:47:54.942663",
     "status": "completed"
    },
    "tags": []
   },
   "outputs": [
    {
     "data": {
      "text/html": [
       "<style>#sk-container-id-1 {color: black;background-color: white;}#sk-container-id-1 pre{padding: 0;}#sk-container-id-1 div.sk-toggleable {background-color: white;}#sk-container-id-1 label.sk-toggleable__label {cursor: pointer;display: block;width: 100%;margin-bottom: 0;padding: 0.3em;box-sizing: border-box;text-align: center;}#sk-container-id-1 label.sk-toggleable__label-arrow:before {content: \"▸\";float: left;margin-right: 0.25em;color: #696969;}#sk-container-id-1 label.sk-toggleable__label-arrow:hover:before {color: black;}#sk-container-id-1 div.sk-estimator:hover label.sk-toggleable__label-arrow:before {color: black;}#sk-container-id-1 div.sk-toggleable__content {max-height: 0;max-width: 0;overflow: hidden;text-align: left;background-color: #f0f8ff;}#sk-container-id-1 div.sk-toggleable__content pre {margin: 0.2em;color: black;border-radius: 0.25em;background-color: #f0f8ff;}#sk-container-id-1 input.sk-toggleable__control:checked~div.sk-toggleable__content {max-height: 200px;max-width: 100%;overflow: auto;}#sk-container-id-1 input.sk-toggleable__control:checked~label.sk-toggleable__label-arrow:before {content: \"▾\";}#sk-container-id-1 div.sk-estimator input.sk-toggleable__control:checked~label.sk-toggleable__label {background-color: #d4ebff;}#sk-container-id-1 div.sk-label input.sk-toggleable__control:checked~label.sk-toggleable__label {background-color: #d4ebff;}#sk-container-id-1 input.sk-hidden--visually {border: 0;clip: rect(1px 1px 1px 1px);clip: rect(1px, 1px, 1px, 1px);height: 1px;margin: -1px;overflow: hidden;padding: 0;position: absolute;width: 1px;}#sk-container-id-1 div.sk-estimator {font-family: monospace;background-color: #f0f8ff;border: 1px dotted black;border-radius: 0.25em;box-sizing: border-box;margin-bottom: 0.5em;}#sk-container-id-1 div.sk-estimator:hover {background-color: #d4ebff;}#sk-container-id-1 div.sk-parallel-item::after {content: \"\";width: 100%;border-bottom: 1px solid gray;flex-grow: 1;}#sk-container-id-1 div.sk-label:hover label.sk-toggleable__label {background-color: #d4ebff;}#sk-container-id-1 div.sk-serial::before {content: \"\";position: absolute;border-left: 1px solid gray;box-sizing: border-box;top: 0;bottom: 0;left: 50%;z-index: 0;}#sk-container-id-1 div.sk-serial {display: flex;flex-direction: column;align-items: center;background-color: white;padding-right: 0.2em;padding-left: 0.2em;position: relative;}#sk-container-id-1 div.sk-item {position: relative;z-index: 1;}#sk-container-id-1 div.sk-parallel {display: flex;align-items: stretch;justify-content: center;background-color: white;position: relative;}#sk-container-id-1 div.sk-item::before, #sk-container-id-1 div.sk-parallel-item::before {content: \"\";position: absolute;border-left: 1px solid gray;box-sizing: border-box;top: 0;bottom: 0;left: 50%;z-index: -1;}#sk-container-id-1 div.sk-parallel-item {display: flex;flex-direction: column;z-index: 1;position: relative;background-color: white;}#sk-container-id-1 div.sk-parallel-item:first-child::after {align-self: flex-end;width: 50%;}#sk-container-id-1 div.sk-parallel-item:last-child::after {align-self: flex-start;width: 50%;}#sk-container-id-1 div.sk-parallel-item:only-child::after {width: 0;}#sk-container-id-1 div.sk-dashed-wrapped {border: 1px dashed gray;margin: 0 0.4em 0.5em 0.4em;box-sizing: border-box;padding-bottom: 0.4em;background-color: white;}#sk-container-id-1 div.sk-label label {font-family: monospace;font-weight: bold;display: inline-block;line-height: 1.2em;}#sk-container-id-1 div.sk-label-container {text-align: center;}#sk-container-id-1 div.sk-container {/* jupyter's `normalize.less` sets `[hidden] { display: none; }` but bootstrap.min.css set `[hidden] { display: none !important; }` so we also need the `!important` here to be able to override the default hidden behavior on the sphinx rendered scikit-learn.org. See: https://github.com/scikit-learn/scikit-learn/issues/21755 */display: inline-block !important;position: relative;}#sk-container-id-1 div.sk-text-repr-fallback {display: none;}</style><div id=\"sk-container-id-1\" class=\"sk-top-container\"><div class=\"sk-text-repr-fallback\"><pre>LogisticRegression()</pre><b>In a Jupyter environment, please rerun this cell to show the HTML representation or trust the notebook. <br />On GitHub, the HTML representation is unable to render, please try loading this page with nbviewer.org.</b></div><div class=\"sk-container\" hidden><div class=\"sk-item\"><div class=\"sk-estimator sk-toggleable\"><input class=\"sk-toggleable__control sk-hidden--visually\" id=\"sk-estimator-id-1\" type=\"checkbox\" checked><label for=\"sk-estimator-id-1\" class=\"sk-toggleable__label sk-toggleable__label-arrow\">LogisticRegression</label><div class=\"sk-toggleable__content\"><pre>LogisticRegression()</pre></div></div></div></div></div>"
      ],
      "text/plain": [
       "LogisticRegression()"
      ]
     },
     "execution_count": 28,
     "metadata": {},
     "output_type": "execute_result"
    }
   ],
   "source": [
    "reg.fit(X_train,y_train)"
   ]
  },
  {
   "cell_type": "code",
   "execution_count": 29,
   "id": "6c318f8d",
   "metadata": {
    "execution": {
     "iopub.execute_input": "2025-03-15T16:47:55.854987Z",
     "iopub.status.busy": "2025-03-15T16:47:55.854642Z",
     "iopub.status.idle": "2025-03-15T16:47:55.859307Z",
     "shell.execute_reply": "2025-03-15T16:47:55.858357Z"
    },
    "papermill": {
     "duration": 0.020078,
     "end_time": "2025-03-15T16:47:55.860969",
     "exception": false,
     "start_time": "2025-03-15T16:47:55.840891",
     "status": "completed"
    },
    "tags": []
   },
   "outputs": [],
   "source": [
    "def get_scores(classifier, X_test, y_test):\n",
    "    metrics_dict = {}\n",
    "    y_pred = classifier.predict(X_test)\n",
    "    metrics_dict['f1'] = metrics.f1_score(y_test,y_pred)\n",
    "    metrics_dict['auc'] = roc_auc_score(y_test,classifier.predict_proba(X_test)[:, 1])\n",
    "    return metrics_dict"
   ]
  },
  {
   "cell_type": "code",
   "execution_count": 30,
   "id": "70d4fab8",
   "metadata": {
    "execution": {
     "iopub.execute_input": "2025-03-15T16:47:55.887018Z",
     "iopub.status.busy": "2025-03-15T16:47:55.886660Z",
     "iopub.status.idle": "2025-03-15T16:47:55.894190Z",
     "shell.execute_reply": "2025-03-15T16:47:55.893116Z"
    },
    "papermill": {
     "duration": 0.022448,
     "end_time": "2025-03-15T16:47:55.896020",
     "exception": false,
     "start_time": "2025-03-15T16:47:55.873572",
     "status": "completed"
    },
    "tags": []
   },
   "outputs": [],
   "source": [
    "y_pred = reg.predict(X_test)"
   ]
  },
  {
   "cell_type": "code",
   "execution_count": 31,
   "id": "0b61dc7b",
   "metadata": {
    "execution": {
     "iopub.execute_input": "2025-03-15T16:47:55.922330Z",
     "iopub.status.busy": "2025-03-15T16:47:55.921929Z",
     "iopub.status.idle": "2025-03-15T16:47:55.931740Z",
     "shell.execute_reply": "2025-03-15T16:47:55.930651Z"
    },
    "papermill": {
     "duration": 0.025169,
     "end_time": "2025-03-15T16:47:55.933540",
     "exception": false,
     "start_time": "2025-03-15T16:47:55.908371",
     "status": "completed"
    },
    "tags": []
   },
   "outputs": [
    {
     "data": {
      "text/plain": [
       "0.9941596365996107"
      ]
     },
     "execution_count": 31,
     "metadata": {},
     "output_type": "execute_result"
    }
   ],
   "source": [
    "metrics.f1_score(y_test,y_pred)"
   ]
  },
  {
   "cell_type": "code",
   "execution_count": 32,
   "id": "74e5489b",
   "metadata": {
    "execution": {
     "iopub.execute_input": "2025-03-15T16:47:55.960351Z",
     "iopub.status.busy": "2025-03-15T16:47:55.959969Z",
     "iopub.status.idle": "2025-03-15T16:47:55.973130Z",
     "shell.execute_reply": "2025-03-15T16:47:55.971963Z"
    },
    "papermill": {
     "duration": 0.028452,
     "end_time": "2025-03-15T16:47:55.974907",
     "exception": false,
     "start_time": "2025-03-15T16:47:55.946455",
     "status": "completed"
    },
    "tags": []
   },
   "outputs": [
    {
     "data": {
      "text/plain": [
       "0.9999142854753602"
      ]
     },
     "execution_count": 32,
     "metadata": {},
     "output_type": "execute_result"
    }
   ],
   "source": [
    "roc_auc_score(y_test,reg.predict_proba(X_test)[:, 1])"
   ]
  },
  {
   "cell_type": "markdown",
   "id": "c78110ad",
   "metadata": {
    "papermill": {
     "duration": 0.011683,
     "end_time": "2025-03-15T16:47:55.999146",
     "exception": false,
     "start_time": "2025-03-15T16:47:55.987463",
     "status": "completed"
    },
    "tags": []
   },
   "source": [
    "### SVM"
   ]
  },
  {
   "cell_type": "markdown",
   "id": "5ebac50f",
   "metadata": {
    "papermill": {
     "duration": 0.0131,
     "end_time": "2025-03-15T16:47:56.024415",
     "exception": false,
     "start_time": "2025-03-15T16:47:56.011315",
     "status": "completed"
    },
    "tags": []
   },
   "source": [
    "This method is extremely slow with a high number of features"
   ]
  },
  {
   "cell_type": "code",
   "execution_count": 33,
   "id": "62f5adf0",
   "metadata": {
    "execution": {
     "iopub.execute_input": "2025-03-15T16:47:56.050988Z",
     "iopub.status.busy": "2025-03-15T16:47:56.050642Z",
     "iopub.status.idle": "2025-03-15T16:47:56.054896Z",
     "shell.execute_reply": "2025-03-15T16:47:56.053439Z"
    },
    "papermill": {
     "duration": 0.019712,
     "end_time": "2025-03-15T16:47:56.056760",
     "exception": false,
     "start_time": "2025-03-15T16:47:56.037048",
     "status": "completed"
    },
    "tags": []
   },
   "outputs": [],
   "source": [
    "# svc = SVC(gamma='auto',max_iter=1000, tol=1e-3, probability = True)\n",
    "# svc.fit(X_train,y_train)"
   ]
  },
  {
   "cell_type": "code",
   "execution_count": 34,
   "id": "1f3091ee",
   "metadata": {
    "execution": {
     "iopub.execute_input": "2025-03-15T16:47:56.083339Z",
     "iopub.status.busy": "2025-03-15T16:47:56.082934Z",
     "iopub.status.idle": "2025-03-15T16:47:56.087060Z",
     "shell.execute_reply": "2025-03-15T16:47:56.086003Z"
    },
    "papermill": {
     "duration": 0.019249,
     "end_time": "2025-03-15T16:47:56.088862",
     "exception": false,
     "start_time": "2025-03-15T16:47:56.069613",
     "status": "completed"
    },
    "tags": []
   },
   "outputs": [],
   "source": [
    "# svc.predict(X_test)"
   ]
  },
  {
   "cell_type": "markdown",
   "id": "a2aed50a",
   "metadata": {
    "papermill": {
     "duration": 0.01231,
     "end_time": "2025-03-15T16:47:56.113856",
     "exception": false,
     "start_time": "2025-03-15T16:47:56.101546",
     "status": "completed"
    },
    "tags": []
   },
   "source": [
    "### Random Forest"
   ]
  },
  {
   "cell_type": "code",
   "execution_count": 35,
   "id": "6fa67b66",
   "metadata": {
    "execution": {
     "iopub.execute_input": "2025-03-15T16:47:56.139723Z",
     "iopub.status.busy": "2025-03-15T16:47:56.139294Z",
     "iopub.status.idle": "2025-03-15T16:48:06.878444Z",
     "shell.execute_reply": "2025-03-15T16:48:06.877230Z"
    },
    "papermill": {
     "duration": 10.754325,
     "end_time": "2025-03-15T16:48:06.880392",
     "exception": false,
     "start_time": "2025-03-15T16:47:56.126067",
     "status": "completed"
    },
    "tags": []
   },
   "outputs": [
    {
     "data": {
      "text/html": [
       "<style>#sk-container-id-2 {color: black;background-color: white;}#sk-container-id-2 pre{padding: 0;}#sk-container-id-2 div.sk-toggleable {background-color: white;}#sk-container-id-2 label.sk-toggleable__label {cursor: pointer;display: block;width: 100%;margin-bottom: 0;padding: 0.3em;box-sizing: border-box;text-align: center;}#sk-container-id-2 label.sk-toggleable__label-arrow:before {content: \"▸\";float: left;margin-right: 0.25em;color: #696969;}#sk-container-id-2 label.sk-toggleable__label-arrow:hover:before {color: black;}#sk-container-id-2 div.sk-estimator:hover label.sk-toggleable__label-arrow:before {color: black;}#sk-container-id-2 div.sk-toggleable__content {max-height: 0;max-width: 0;overflow: hidden;text-align: left;background-color: #f0f8ff;}#sk-container-id-2 div.sk-toggleable__content pre {margin: 0.2em;color: black;border-radius: 0.25em;background-color: #f0f8ff;}#sk-container-id-2 input.sk-toggleable__control:checked~div.sk-toggleable__content {max-height: 200px;max-width: 100%;overflow: auto;}#sk-container-id-2 input.sk-toggleable__control:checked~label.sk-toggleable__label-arrow:before {content: \"▾\";}#sk-container-id-2 div.sk-estimator input.sk-toggleable__control:checked~label.sk-toggleable__label {background-color: #d4ebff;}#sk-container-id-2 div.sk-label input.sk-toggleable__control:checked~label.sk-toggleable__label {background-color: #d4ebff;}#sk-container-id-2 input.sk-hidden--visually {border: 0;clip: rect(1px 1px 1px 1px);clip: rect(1px, 1px, 1px, 1px);height: 1px;margin: -1px;overflow: hidden;padding: 0;position: absolute;width: 1px;}#sk-container-id-2 div.sk-estimator {font-family: monospace;background-color: #f0f8ff;border: 1px dotted black;border-radius: 0.25em;box-sizing: border-box;margin-bottom: 0.5em;}#sk-container-id-2 div.sk-estimator:hover {background-color: #d4ebff;}#sk-container-id-2 div.sk-parallel-item::after {content: \"\";width: 100%;border-bottom: 1px solid gray;flex-grow: 1;}#sk-container-id-2 div.sk-label:hover label.sk-toggleable__label {background-color: #d4ebff;}#sk-container-id-2 div.sk-serial::before {content: \"\";position: absolute;border-left: 1px solid gray;box-sizing: border-box;top: 0;bottom: 0;left: 50%;z-index: 0;}#sk-container-id-2 div.sk-serial {display: flex;flex-direction: column;align-items: center;background-color: white;padding-right: 0.2em;padding-left: 0.2em;position: relative;}#sk-container-id-2 div.sk-item {position: relative;z-index: 1;}#sk-container-id-2 div.sk-parallel {display: flex;align-items: stretch;justify-content: center;background-color: white;position: relative;}#sk-container-id-2 div.sk-item::before, #sk-container-id-2 div.sk-parallel-item::before {content: \"\";position: absolute;border-left: 1px solid gray;box-sizing: border-box;top: 0;bottom: 0;left: 50%;z-index: -1;}#sk-container-id-2 div.sk-parallel-item {display: flex;flex-direction: column;z-index: 1;position: relative;background-color: white;}#sk-container-id-2 div.sk-parallel-item:first-child::after {align-self: flex-end;width: 50%;}#sk-container-id-2 div.sk-parallel-item:last-child::after {align-self: flex-start;width: 50%;}#sk-container-id-2 div.sk-parallel-item:only-child::after {width: 0;}#sk-container-id-2 div.sk-dashed-wrapped {border: 1px dashed gray;margin: 0 0.4em 0.5em 0.4em;box-sizing: border-box;padding-bottom: 0.4em;background-color: white;}#sk-container-id-2 div.sk-label label {font-family: monospace;font-weight: bold;display: inline-block;line-height: 1.2em;}#sk-container-id-2 div.sk-label-container {text-align: center;}#sk-container-id-2 div.sk-container {/* jupyter's `normalize.less` sets `[hidden] { display: none; }` but bootstrap.min.css set `[hidden] { display: none !important; }` so we also need the `!important` here to be able to override the default hidden behavior on the sphinx rendered scikit-learn.org. See: https://github.com/scikit-learn/scikit-learn/issues/21755 */display: inline-block !important;position: relative;}#sk-container-id-2 div.sk-text-repr-fallback {display: none;}</style><div id=\"sk-container-id-2\" class=\"sk-top-container\"><div class=\"sk-text-repr-fallback\"><pre>RandomForestClassifier()</pre><b>In a Jupyter environment, please rerun this cell to show the HTML representation or trust the notebook. <br />On GitHub, the HTML representation is unable to render, please try loading this page with nbviewer.org.</b></div><div class=\"sk-container\" hidden><div class=\"sk-item\"><div class=\"sk-estimator sk-toggleable\"><input class=\"sk-toggleable__control sk-hidden--visually\" id=\"sk-estimator-id-2\" type=\"checkbox\" checked><label for=\"sk-estimator-id-2\" class=\"sk-toggleable__label sk-toggleable__label-arrow\">RandomForestClassifier</label><div class=\"sk-toggleable__content\"><pre>RandomForestClassifier()</pre></div></div></div></div></div>"
      ],
      "text/plain": [
       "RandomForestClassifier()"
      ]
     },
     "execution_count": 35,
     "metadata": {},
     "output_type": "execute_result"
    }
   ],
   "source": [
    "rf = RandomForestClassifier()\n",
    "rf.fit(X_train, y_train)"
   ]
  },
  {
   "cell_type": "code",
   "execution_count": 36,
   "id": "33099393",
   "metadata": {
    "execution": {
     "iopub.execute_input": "2025-03-15T16:48:06.907214Z",
     "iopub.status.busy": "2025-03-15T16:48:06.906798Z",
     "iopub.status.idle": "2025-03-15T16:48:07.621986Z",
     "shell.execute_reply": "2025-03-15T16:48:07.620537Z"
    },
    "papermill": {
     "duration": 0.730679,
     "end_time": "2025-03-15T16:48:07.623957",
     "exception": false,
     "start_time": "2025-03-15T16:48:06.893278",
     "status": "completed"
    },
    "tags": []
   },
   "outputs": [
    {
     "data": {
      "text/plain": [
       "{'f1': 0.9908913467794405, 'auc': 0.9995760266927574}"
      ]
     },
     "execution_count": 36,
     "metadata": {},
     "output_type": "execute_result"
    }
   ],
   "source": [
    "get_scores(rf, X_test, y_test)"
   ]
  },
  {
   "cell_type": "markdown",
   "id": "d70ace57",
   "metadata": {
    "papermill": {
     "duration": 0.012469,
     "end_time": "2025-03-15T16:48:07.649835",
     "exception": false,
     "start_time": "2025-03-15T16:48:07.637366",
     "status": "completed"
    },
    "tags": []
   },
   "source": [
    "### Gradient Boosting"
   ]
  },
  {
   "cell_type": "code",
   "execution_count": 37,
   "id": "6871155a",
   "metadata": {
    "execution": {
     "iopub.execute_input": "2025-03-15T16:48:07.676727Z",
     "iopub.status.busy": "2025-03-15T16:48:07.676277Z",
     "iopub.status.idle": "2025-03-15T16:48:07.680755Z",
     "shell.execute_reply": "2025-03-15T16:48:07.679307Z"
    },
    "papermill": {
     "duration": 0.019838,
     "end_time": "2025-03-15T16:48:07.682548",
     "exception": false,
     "start_time": "2025-03-15T16:48:07.662710",
     "status": "completed"
    },
    "tags": []
   },
   "outputs": [],
   "source": [
    "# boost = XGBClassifier()\n",
    "# boost.fit(X_train, y_train)\n"
   ]
  },
  {
   "cell_type": "code",
   "execution_count": 38,
   "id": "fc6b429a",
   "metadata": {
    "execution": {
     "iopub.execute_input": "2025-03-15T16:48:07.709354Z",
     "iopub.status.busy": "2025-03-15T16:48:07.708927Z",
     "iopub.status.idle": "2025-03-15T16:48:07.713267Z",
     "shell.execute_reply": "2025-03-15T16:48:07.712143Z"
    },
    "papermill": {
     "duration": 0.01955,
     "end_time": "2025-03-15T16:48:07.714974",
     "exception": false,
     "start_time": "2025-03-15T16:48:07.695424",
     "status": "completed"
    },
    "tags": []
   },
   "outputs": [],
   "source": [
    "# get_scores(boost, X_test, y_test)"
   ]
  },
  {
   "cell_type": "markdown",
   "id": "d7482df4",
   "metadata": {
    "papermill": {
     "duration": 0.012998,
     "end_time": "2025-03-15T16:48:07.741308",
     "exception": false,
     "start_time": "2025-03-15T16:48:07.728310",
     "status": "completed"
    },
    "tags": []
   },
   "source": [
    "### Voting classifier"
   ]
  },
  {
   "cell_type": "markdown",
   "id": "31dc5b19",
   "metadata": {
    "papermill": {
     "duration": 0.012399,
     "end_time": "2025-03-15T16:48:07.766534",
     "exception": false,
     "start_time": "2025-03-15T16:48:07.754135",
     "status": "completed"
    },
    "tags": []
   },
   "source": [
    "## Classifier test for Kaggle"
   ]
  },
  {
   "cell_type": "code",
   "execution_count": 39,
   "id": "812754dc",
   "metadata": {
    "execution": {
     "iopub.execute_input": "2025-03-15T16:48:07.793230Z",
     "iopub.status.busy": "2025-03-15T16:48:07.792820Z",
     "iopub.status.idle": "2025-03-15T16:48:22.995993Z",
     "shell.execute_reply": "2025-03-15T16:48:22.994838Z"
    },
    "papermill": {
     "duration": 15.218879,
     "end_time": "2025-03-15T16:48:22.998011",
     "exception": false,
     "start_time": "2025-03-15T16:48:07.779132",
     "status": "completed"
    },
    "tags": []
   },
   "outputs": [
    {
     "data": {
      "text/html": [
       "<style>#sk-container-id-3 {color: black;background-color: white;}#sk-container-id-3 pre{padding: 0;}#sk-container-id-3 div.sk-toggleable {background-color: white;}#sk-container-id-3 label.sk-toggleable__label {cursor: pointer;display: block;width: 100%;margin-bottom: 0;padding: 0.3em;box-sizing: border-box;text-align: center;}#sk-container-id-3 label.sk-toggleable__label-arrow:before {content: \"▸\";float: left;margin-right: 0.25em;color: #696969;}#sk-container-id-3 label.sk-toggleable__label-arrow:hover:before {color: black;}#sk-container-id-3 div.sk-estimator:hover label.sk-toggleable__label-arrow:before {color: black;}#sk-container-id-3 div.sk-toggleable__content {max-height: 0;max-width: 0;overflow: hidden;text-align: left;background-color: #f0f8ff;}#sk-container-id-3 div.sk-toggleable__content pre {margin: 0.2em;color: black;border-radius: 0.25em;background-color: #f0f8ff;}#sk-container-id-3 input.sk-toggleable__control:checked~div.sk-toggleable__content {max-height: 200px;max-width: 100%;overflow: auto;}#sk-container-id-3 input.sk-toggleable__control:checked~label.sk-toggleable__label-arrow:before {content: \"▾\";}#sk-container-id-3 div.sk-estimator input.sk-toggleable__control:checked~label.sk-toggleable__label {background-color: #d4ebff;}#sk-container-id-3 div.sk-label input.sk-toggleable__control:checked~label.sk-toggleable__label {background-color: #d4ebff;}#sk-container-id-3 input.sk-hidden--visually {border: 0;clip: rect(1px 1px 1px 1px);clip: rect(1px, 1px, 1px, 1px);height: 1px;margin: -1px;overflow: hidden;padding: 0;position: absolute;width: 1px;}#sk-container-id-3 div.sk-estimator {font-family: monospace;background-color: #f0f8ff;border: 1px dotted black;border-radius: 0.25em;box-sizing: border-box;margin-bottom: 0.5em;}#sk-container-id-3 div.sk-estimator:hover {background-color: #d4ebff;}#sk-container-id-3 div.sk-parallel-item::after {content: \"\";width: 100%;border-bottom: 1px solid gray;flex-grow: 1;}#sk-container-id-3 div.sk-label:hover label.sk-toggleable__label {background-color: #d4ebff;}#sk-container-id-3 div.sk-serial::before {content: \"\";position: absolute;border-left: 1px solid gray;box-sizing: border-box;top: 0;bottom: 0;left: 50%;z-index: 0;}#sk-container-id-3 div.sk-serial {display: flex;flex-direction: column;align-items: center;background-color: white;padding-right: 0.2em;padding-left: 0.2em;position: relative;}#sk-container-id-3 div.sk-item {position: relative;z-index: 1;}#sk-container-id-3 div.sk-parallel {display: flex;align-items: stretch;justify-content: center;background-color: white;position: relative;}#sk-container-id-3 div.sk-item::before, #sk-container-id-3 div.sk-parallel-item::before {content: \"\";position: absolute;border-left: 1px solid gray;box-sizing: border-box;top: 0;bottom: 0;left: 50%;z-index: -1;}#sk-container-id-3 div.sk-parallel-item {display: flex;flex-direction: column;z-index: 1;position: relative;background-color: white;}#sk-container-id-3 div.sk-parallel-item:first-child::after {align-self: flex-end;width: 50%;}#sk-container-id-3 div.sk-parallel-item:last-child::after {align-self: flex-start;width: 50%;}#sk-container-id-3 div.sk-parallel-item:only-child::after {width: 0;}#sk-container-id-3 div.sk-dashed-wrapped {border: 1px dashed gray;margin: 0 0.4em 0.5em 0.4em;box-sizing: border-box;padding-bottom: 0.4em;background-color: white;}#sk-container-id-3 div.sk-label label {font-family: monospace;font-weight: bold;display: inline-block;line-height: 1.2em;}#sk-container-id-3 div.sk-label-container {text-align: center;}#sk-container-id-3 div.sk-container {/* jupyter's `normalize.less` sets `[hidden] { display: none; }` but bootstrap.min.css set `[hidden] { display: none !important; }` so we also need the `!important` here to be able to override the default hidden behavior on the sphinx rendered scikit-learn.org. See: https://github.com/scikit-learn/scikit-learn/issues/21755 */display: inline-block !important;position: relative;}#sk-container-id-3 div.sk-text-repr-fallback {display: none;}</style><div id=\"sk-container-id-3\" class=\"sk-top-container\"><div class=\"sk-text-repr-fallback\"><pre>RandomForestClassifier()</pre><b>In a Jupyter environment, please rerun this cell to show the HTML representation or trust the notebook. <br />On GitHub, the HTML representation is unable to render, please try loading this page with nbviewer.org.</b></div><div class=\"sk-container\" hidden><div class=\"sk-item\"><div class=\"sk-estimator sk-toggleable\"><input class=\"sk-toggleable__control sk-hidden--visually\" id=\"sk-estimator-id-3\" type=\"checkbox\" checked><label for=\"sk-estimator-id-3\" class=\"sk-toggleable__label sk-toggleable__label-arrow\">RandomForestClassifier</label><div class=\"sk-toggleable__content\"><pre>RandomForestClassifier()</pre></div></div></div></div></div>"
      ],
      "text/plain": [
       "RandomForestClassifier()"
      ]
     },
     "execution_count": 39,
     "metadata": {},
     "output_type": "execute_result"
    }
   ],
   "source": [
    "rf = RandomForestClassifier()\n",
    "rf.fit(X,y) # taking all data"
   ]
  },
  {
   "cell_type": "code",
   "execution_count": 40,
   "id": "7201807e",
   "metadata": {
    "execution": {
     "iopub.execute_input": "2025-03-15T16:48:23.026440Z",
     "iopub.status.busy": "2025-03-15T16:48:23.026036Z",
     "iopub.status.idle": "2025-03-15T16:48:23.031354Z",
     "shell.execute_reply": "2025-03-15T16:48:23.030282Z"
    },
    "papermill": {
     "duration": 0.021522,
     "end_time": "2025-03-15T16:48:23.033242",
     "exception": false,
     "start_time": "2025-03-15T16:48:23.011720",
     "status": "completed"
    },
    "tags": []
   },
   "outputs": [
    {
     "name": "stdout",
     "output_type": "stream",
     "text": [
      "\n"
     ]
    }
   ],
   "source": [
    "print(X_eval)"
   ]
  },
  {
   "cell_type": "code",
   "execution_count": 41,
   "id": "1eaed367",
   "metadata": {
    "execution": {
     "iopub.execute_input": "2025-03-15T16:48:23.060675Z",
     "iopub.status.busy": "2025-03-15T16:48:23.060280Z",
     "iopub.status.idle": "2025-03-15T16:48:23.080624Z",
     "shell.execute_reply": "2025-03-15T16:48:23.079241Z"
    },
    "papermill": {
     "duration": 0.036127,
     "end_time": "2025-03-15T16:48:23.082632",
     "exception": false,
     "start_time": "2025-03-15T16:48:23.046505",
     "status": "completed"
    },
    "tags": []
   },
   "outputs": [],
   "source": [
    "y_eval_pred = rf.predict(X_eval)\n",
    "y_eval_pred_proba = rf.predict_proba(X_eval)"
   ]
  },
  {
   "cell_type": "code",
   "execution_count": 42,
   "id": "c0e8fd4e",
   "metadata": {
    "execution": {
     "iopub.execute_input": "2025-03-15T16:48:23.110396Z",
     "iopub.status.busy": "2025-03-15T16:48:23.109986Z",
     "iopub.status.idle": "2025-03-15T16:48:23.116532Z",
     "shell.execute_reply": "2025-03-15T16:48:23.115371Z"
    },
    "papermill": {
     "duration": 0.022528,
     "end_time": "2025-03-15T16:48:23.118379",
     "exception": false,
     "start_time": "2025-03-15T16:48:23.095851",
     "status": "completed"
    },
    "tags": []
   },
   "outputs": [
    {
     "data": {
      "text/plain": [
       "array([0.21, 0.21, 0.21])"
      ]
     },
     "execution_count": 42,
     "metadata": {},
     "output_type": "execute_result"
    }
   ],
   "source": [
    "y_eval_pred_proba[:,1]"
   ]
  },
  {
   "cell_type": "code",
   "execution_count": 43,
   "id": "6958ed56",
   "metadata": {
    "execution": {
     "iopub.execute_input": "2025-03-15T16:48:23.146222Z",
     "iopub.status.busy": "2025-03-15T16:48:23.145829Z",
     "iopub.status.idle": "2025-03-15T16:48:23.153735Z",
     "shell.execute_reply": "2025-03-15T16:48:23.152580Z"
    },
    "papermill": {
     "duration": 0.023702,
     "end_time": "2025-03-15T16:48:23.155600",
     "exception": false,
     "start_time": "2025-03-15T16:48:23.131898",
     "status": "completed"
    },
    "tags": []
   },
   "outputs": [
    {
     "data": {
      "text/plain": [
       "0    0000aaaa\n",
       "1    1111bbbb\n",
       "2    2222cccc\n",
       "Name: id, dtype: object"
      ]
     },
     "execution_count": 43,
     "metadata": {},
     "output_type": "execute_result"
    }
   ],
   "source": [
    "eval_data['id']"
   ]
  },
  {
   "cell_type": "code",
   "execution_count": 44,
   "id": "b6043178",
   "metadata": {
    "execution": {
     "iopub.execute_input": "2025-03-15T16:48:23.183460Z",
     "iopub.status.busy": "2025-03-15T16:48:23.183047Z",
     "iopub.status.idle": "2025-03-15T16:48:23.194024Z",
     "shell.execute_reply": "2025-03-15T16:48:23.192849Z"
    },
    "papermill": {
     "duration": 0.026735,
     "end_time": "2025-03-15T16:48:23.195702",
     "exception": false,
     "start_time": "2025-03-15T16:48:23.168967",
     "status": "completed"
    },
    "tags": []
   },
   "outputs": [
    {
     "data": {
      "text/html": [
       "<div>\n",
       "<style scoped>\n",
       "    .dataframe tbody tr th:only-of-type {\n",
       "        vertical-align: middle;\n",
       "    }\n",
       "\n",
       "    .dataframe tbody tr th {\n",
       "        vertical-align: top;\n",
       "    }\n",
       "\n",
       "    .dataframe thead th {\n",
       "        text-align: right;\n",
       "    }\n",
       "</style>\n",
       "<table border=\"1\" class=\"dataframe\">\n",
       "  <thead>\n",
       "    <tr style=\"text-align: right;\">\n",
       "      <th></th>\n",
       "      <th>id</th>\n",
       "      <th>generated</th>\n",
       "    </tr>\n",
       "  </thead>\n",
       "  <tbody>\n",
       "    <tr>\n",
       "      <th>0</th>\n",
       "      <td>0000aaaa</td>\n",
       "      <td>0.21</td>\n",
       "    </tr>\n",
       "    <tr>\n",
       "      <th>1</th>\n",
       "      <td>1111bbbb</td>\n",
       "      <td>0.21</td>\n",
       "    </tr>\n",
       "    <tr>\n",
       "      <th>2</th>\n",
       "      <td>2222cccc</td>\n",
       "      <td>0.21</td>\n",
       "    </tr>\n",
       "  </tbody>\n",
       "</table>\n",
       "</div>"
      ],
      "text/plain": [
       "         id  generated\n",
       "0  0000aaaa       0.21\n",
       "1  1111bbbb       0.21\n",
       "2  2222cccc       0.21"
      ]
     },
     "execution_count": 44,
     "metadata": {},
     "output_type": "execute_result"
    }
   ],
   "source": [
    "\n",
    "d = {'id' : eval_data['id'], 'generated': y_eval_pred_proba[:,1]}\n",
    "df_submission = pd.DataFrame(data=d)\n",
    "df_submission.head()\n",
    "\n"
   ]
  },
  {
   "cell_type": "code",
   "execution_count": 45,
   "id": "78b4ceba",
   "metadata": {
    "execution": {
     "iopub.execute_input": "2025-03-15T16:48:23.223567Z",
     "iopub.status.busy": "2025-03-15T16:48:23.223130Z",
     "iopub.status.idle": "2025-03-15T16:48:23.233150Z",
     "shell.execute_reply": "2025-03-15T16:48:23.232281Z"
    },
    "papermill": {
     "duration": 0.025832,
     "end_time": "2025-03-15T16:48:23.234872",
     "exception": false,
     "start_time": "2025-03-15T16:48:23.209040",
     "status": "completed"
    },
    "tags": []
   },
   "outputs": [],
   "source": [
    "df_submission.to_csv(\"submission.csv\", index=False)"
   ]
  }
 ],
 "metadata": {
  "kaggle": {
   "accelerator": "none",
   "dataSources": [
    {
     "databundleVersionId": 7516023,
     "isSourceIdPinned": false,
     "sourceId": 61542,
     "sourceType": "competition"
    },
    {
     "datasetId": 4005256,
     "sourceId": 6977472,
     "sourceType": "datasetVersion"
    }
   ],
   "dockerImageVersionId": 30918,
   "isGpuEnabled": false,
   "isInternetEnabled": false,
   "language": "python",
   "sourceType": "notebook"
  },
  "kernelspec": {
   "display_name": "Python 3 (ipykernel)",
   "language": "python",
   "name": "python3"
  },
  "language_info": {
   "codemirror_mode": {
    "name": "ipython",
    "version": 3
   },
   "file_extension": ".py",
   "mimetype": "text/x-python",
   "name": "python",
   "nbconvert_exporter": "python",
   "pygments_lexer": "ipython3",
   "version": "3.11.7"
  },
  "papermill": {
   "default_parameters": {},
   "duration": 126.574543,
   "end_time": "2025-03-15T16:48:24.872867",
   "environment_variables": {},
   "exception": null,
   "input_path": "__notebook__.ipynb",
   "output_path": "__notebook__.ipynb",
   "parameters": {},
   "start_time": "2025-03-15T16:46:18.298324",
   "version": "2.6.0"
  }
 },
 "nbformat": 4,
 "nbformat_minor": 5
}
